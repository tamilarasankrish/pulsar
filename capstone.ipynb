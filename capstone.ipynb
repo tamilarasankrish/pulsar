{
 "cells": [
  {
   "cell_type": "markdown",
   "metadata": {},
   "source": [
    "Customer Segmentation\n",
    "Loyalty program"
   ]
  },
  {
   "cell_type": "markdown",
   "metadata": {},
   "source": [
    "We have the data on transactions from various shops in two different malls.\n",
    "With this transaction data , We should give insights to the shops and malls to develop their business. \n",
    "    Customer Segmentation is our first task. To segment the customers on various aspects."
   ]
  },
  {
   "cell_type": "code",
   "execution_count": 3,
   "metadata": {},
   "outputs": [],
   "source": [
    "import matplotlib.pyplot"
   ]
  },
  {
   "cell_type": "code",
   "execution_count": 4,
   "metadata": {},
   "outputs": [],
   "source": [
    "import pandas as pd\n",
    "import numpy as np\n",
    "import matplotlib.pyplot as plt\n"
   ]
  },
  {
   "cell_type": "code",
   "execution_count": 5,
   "metadata": {},
   "outputs": [],
   "source": [
    "#Reading the Dataset\n",
    "cus=pd.read_csv('cus.csv')"
   ]
  },
  {
   "cell_type": "code",
   "execution_count": 6,
   "metadata": {},
   "outputs": [],
   "source": [
    "store=pd.read_excel('store.xlsx')"
   ]
  },
  {
   "cell_type": "code",
   "execution_count": 7,
   "metadata": {},
   "outputs": [],
   "source": [
    "trans=pd.read_csv('trans.csv')"
   ]
  },
  {
   "cell_type": "code",
   "execution_count": 8,
   "metadata": {},
   "outputs": [
    {
     "name": "stdout",
     "output_type": "stream",
     "text": [
      "Customer  (50018, 6)\n",
      "Store (559, 5)\n",
      "trans (358088, 6)\n"
     ]
    }
   ],
   "source": [
    "#Shapes of the data frames\n",
    "print(\"Customer \",cus.shape)\n",
    "print(\"Store\",store.shape)\n",
    "print(\"trans\",trans.shape)"
   ]
  },
  {
   "cell_type": "code",
   "execution_count": 9,
   "metadata": {},
   "outputs": [
    {
     "name": "stdout",
     "output_type": "stream",
     "text": [
      "<class 'pandas.core.frame.DataFrame'>\n",
      "RangeIndex: 358088 entries, 0 to 358087\n",
      "Data columns (total 6 columns):\n",
      "billing_timestamp    358088 non-null object\n",
      "transaction_type     358088 non-null object\n",
      "amount               356180 non-null float64\n",
      "points               358088 non-null float64\n",
      "store_code           356179 non-null object\n",
      "customer_mobile      358088 non-null int64\n",
      "dtypes: float64(2), int64(1), object(3)\n",
      "memory usage: 16.4+ MB\n"
     ]
    }
   ],
   "source": [
    "trans.info()"
   ]
  },
  {
   "cell_type": "code",
   "execution_count": 10,
   "metadata": {},
   "outputs": [
    {
     "name": "stdout",
     "output_type": "stream",
     "text": [
      "<class 'pandas.core.frame.DataFrame'>\n",
      "RangeIndex: 559 entries, 0 to 558\n",
      "Data columns (total 5 columns):\n",
      "store_name             559 non-null object\n",
      "store_code             559 non-null object\n",
      "store_location         559 non-null object\n",
      "store_category         414 non-null object\n",
      "store_PriceCategory    559 non-null object\n",
      "dtypes: object(5)\n",
      "memory usage: 21.9+ KB\n"
     ]
    }
   ],
   "source": [
    "store.info()"
   ]
  },
  {
   "cell_type": "code",
   "execution_count": 11,
   "metadata": {},
   "outputs": [
    {
     "data": {
      "text/plain": [
       "True     350611\n",
       "False      7477\n",
       "Name: store_code, dtype: int64"
      ]
     },
     "execution_count": 11,
     "metadata": {},
     "output_type": "execute_result"
    }
   ],
   "source": [
    "#Checking for identical IDs\n",
    "trans['store_code'].isin(store['store_code']).value_counts()"
   ]
  },
  {
   "cell_type": "code",
   "execution_count": 12,
   "metadata": {},
   "outputs": [],
   "source": [
    "cus['customer_id']=cus['customer_id'].astype(str)"
   ]
  },
  {
   "cell_type": "code",
   "execution_count": 13,
   "metadata": {},
   "outputs": [],
   "source": [
    "trans['customer_mobile']=trans['customer_mobile'].astype(str)"
   ]
  },
  {
   "cell_type": "code",
   "execution_count": 14,
   "metadata": {},
   "outputs": [
    {
     "name": "stdout",
     "output_type": "stream",
     "text": [
      "<class 'pandas.core.frame.DataFrame'>\n",
      "RangeIndex: 358088 entries, 0 to 358087\n",
      "Data columns (total 6 columns):\n",
      "billing_timestamp    358088 non-null object\n",
      "transaction_type     358088 non-null object\n",
      "amount               356180 non-null float64\n",
      "points               358088 non-null float64\n",
      "store_code           356179 non-null object\n",
      "customer_mobile      358088 non-null object\n",
      "dtypes: float64(2), object(4)\n",
      "memory usage: 16.4+ MB\n"
     ]
    }
   ],
   "source": [
    "trans.info()"
   ]
  },
  {
   "cell_type": "code",
   "execution_count": 15,
   "metadata": {},
   "outputs": [
    {
     "name": "stdout",
     "output_type": "stream",
     "text": [
      "<class 'pandas.core.frame.DataFrame'>\n",
      "RangeIndex: 50018 entries, 0 to 50017\n",
      "Data columns (total 6 columns):\n",
      "customer_id                                                          50018 non-null object\n",
      "new_customer_name (populate distinct names from any open dataset)    0 non-null float64\n",
      "created_at                                                           50018 non-null object\n",
      "gender                                                               24717 non-null object\n",
      "state                                                                42834 non-null object\n",
      "tier                                                                 50018 non-null object\n",
      "dtypes: float64(1), object(5)\n",
      "memory usage: 2.3+ MB\n"
     ]
    }
   ],
   "source": [
    "cus.info()"
   ]
  },
  {
   "cell_type": "code",
   "execution_count": 16,
   "metadata": {},
   "outputs": [
    {
     "data": {
      "text/plain": [
       "Male      13649\n",
       "Female    11063\n",
       "Other         5\n",
       "Name: gender, dtype: int64"
      ]
     },
     "execution_count": 16,
     "metadata": {},
     "output_type": "execute_result"
    }
   ],
   "source": [
    "cus['gender'].value_counts()"
   ]
  },
  {
   "cell_type": "code",
   "execution_count": 17,
   "metadata": {},
   "outputs": [
    {
     "data": {
      "text/plain": [
       "25301"
      ]
     },
     "execution_count": 17,
     "metadata": {},
     "output_type": "execute_result"
    }
   ],
   "source": [
    "cus['gender'].isnull().sum() \n",
    "#There are 25301 null values which contributes to 50% of the total values\n",
    "#We'd mark the Unknown gender to Unknown"
   ]
  },
  {
   "cell_type": "code",
   "execution_count": 18,
   "metadata": {},
   "outputs": [],
   "source": [
    "cus['gender']=cus['gender'].fillna('Unknown')"
   ]
  },
  {
   "cell_type": "code",
   "execution_count": 19,
   "metadata": {},
   "outputs": [
    {
     "data": {
      "text/plain": [
       "0"
      ]
     },
     "execution_count": 19,
     "metadata": {},
     "output_type": "execute_result"
    }
   ],
   "source": [
    "cus['gender'].isnull().sum()"
   ]
  },
  {
   "cell_type": "code",
   "execution_count": 20,
   "metadata": {},
   "outputs": [],
   "source": [
    "cus=cus.drop('new_customer_name (populate distinct names from any open dataset)',axis=1)"
   ]
  },
  {
   "cell_type": "code",
   "execution_count": 21,
   "metadata": {},
   "outputs": [
    {
     "data": {
      "text/plain": [
       "85.63717061857731"
      ]
     },
     "execution_count": 21,
     "metadata": {},
     "output_type": "execute_result"
    }
   ],
   "source": [
    "(1-cus.isnull().sum()['state']/cus.shape[0])*100 #85% values are filled for state"
   ]
  },
  {
   "cell_type": "code",
   "execution_count": 22,
   "metadata": {},
   "outputs": [
    {
     "data": {
      "image/png": "[encoded data removed]",
      "text/plain": [
       "<Figure size 432x288 with 1 Axes>"
      ]
     },
     "metadata": {
      "needs_background": "light"
     },
     "output_type": "display_data"
    }
   ],
   "source": [
    "\n",
    "plt.bar(cus['state'].value_counts().index,cus['state'].value_counts().values)\n",
    "\n",
    "plt.show()"
   ]
  },
  {
   "cell_type": "markdown",
   "metadata": {},
   "source": [
    "we can see that state column is biased towards maharastra. So filling with maharashtra will be an ideal choice"
   ]
  },
  {
   "cell_type": "code",
   "execution_count": 23,
   "metadata": {},
   "outputs": [],
   "source": [
    "cus['state']=cus['state'].fillna(cus['state'].mode()[0])"
   ]
  },
  {
   "cell_type": "code",
   "execution_count": 24,
   "metadata": {},
   "outputs": [
    {
     "name": "stdout",
     "output_type": "stream",
     "text": [
      "<class 'pandas.core.frame.DataFrame'>\n",
      "RangeIndex: 50018 entries, 0 to 50017\n",
      "Data columns (total 5 columns):\n",
      "customer_id    50018 non-null object\n",
      "created_at     50018 non-null object\n",
      "gender         50018 non-null object\n",
      "state          50018 non-null object\n",
      "tier           50018 non-null object\n",
      "dtypes: object(5)\n",
      "memory usage: 1.9+ MB\n"
     ]
    }
   ],
   "source": [
    "cus.info()"
   ]
  },
  {
   "cell_type": "markdown",
   "metadata": {},
   "source": [
    "Analysis on Customer Master Information"
   ]
  },
  {
   "cell_type": "code",
   "execution_count": 25,
   "metadata": {},
   "outputs": [
    {
     "data": {
      "text/html": [
       "<div>\n",
       "<style scoped>\n",
       "    .dataframe tbody tr th:only-of-type {\n",
       "        vertical-align: middle;\n",
       "    }\n",
       "\n",
       "    .dataframe tbody tr th {\n",
       "        vertical-align: top;\n",
       "    }\n",
       "\n",
       "    .dataframe thead th {\n",
       "        text-align: right;\n",
       "    }\n",
       "</style>\n",
       "<table border=\"1\" class=\"dataframe\">\n",
       "  <thead>\n",
       "    <tr style=\"text-align: right;\">\n",
       "      <th></th>\n",
       "      <th>customer_id</th>\n",
       "      <th>created_at</th>\n",
       "      <th>gender</th>\n",
       "      <th>state</th>\n",
       "      <th>tier</th>\n",
       "    </tr>\n",
       "  </thead>\n",
       "  <tbody>\n",
       "    <tr>\n",
       "      <th>0</th>\n",
       "      <td>256605777046</td>\n",
       "      <td>2019-03-19 15:37:22 +0530</td>\n",
       "      <td>Male</td>\n",
       "      <td>Maharashtra</td>\n",
       "      <td>Blue Member</td>\n",
       "    </tr>\n",
       "    <tr>\n",
       "      <th>1</th>\n",
       "      <td>240968898663</td>\n",
       "      <td>2019-03-19 15:37:22 +0530</td>\n",
       "      <td>Male</td>\n",
       "      <td>Maharashtra</td>\n",
       "      <td>Blue Member</td>\n",
       "    </tr>\n",
       "    <tr>\n",
       "      <th>2</th>\n",
       "      <td>253538610862</td>\n",
       "      <td>2019-03-19 15:37:22 +0530</td>\n",
       "      <td>Male</td>\n",
       "      <td>Maharashtra</td>\n",
       "      <td>Blue Member</td>\n",
       "    </tr>\n",
       "    <tr>\n",
       "      <th>3</th>\n",
       "      <td>243657073811</td>\n",
       "      <td>2019-03-19 15:37:22 +0530</td>\n",
       "      <td>Male</td>\n",
       "      <td>Maharashtra</td>\n",
       "      <td>Blue Member</td>\n",
       "    </tr>\n",
       "    <tr>\n",
       "      <th>4</th>\n",
       "      <td>259232168932</td>\n",
       "      <td>2019-03-19 15:37:22 +0530</td>\n",
       "      <td>Male</td>\n",
       "      <td>Maharashtra</td>\n",
       "      <td>Blue Member</td>\n",
       "    </tr>\n",
       "  </tbody>\n",
       "</table>\n",
       "</div>"
      ],
      "text/plain": [
       "    customer_id                 created_at gender        state         tier\n",
       "0  256605777046  2019-03-19 15:37:22 +0530   Male  Maharashtra  Blue Member\n",
       "1  240968898663  2019-03-19 15:37:22 +0530   Male  Maharashtra  Blue Member\n",
       "2  253538610862  2019-03-19 15:37:22 +0530   Male  Maharashtra  Blue Member\n",
       "3  243657073811  2019-03-19 15:37:22 +0530   Male  Maharashtra  Blue Member\n",
       "4  259232168932  2019-03-19 15:37:22 +0530   Male  Maharashtra  Blue Member"
      ]
     },
     "execution_count": 25,
     "metadata": {},
     "output_type": "execute_result"
    }
   ],
   "source": [
    "cus.head()"
   ]
  },
  {
   "cell_type": "code",
   "execution_count": 26,
   "metadata": {},
   "outputs": [],
   "source": [
    "trans=trans.rename(columns={'customer_mobile':'customer_id'})"
   ]
  },
  {
   "cell_type": "code",
   "execution_count": 27,
   "metadata": {},
   "outputs": [
    {
     "data": {
      "text/plain": [
       "True    358088\n",
       "Name: customer_id, dtype: int64"
      ]
     },
     "execution_count": 27,
     "metadata": {},
     "output_type": "execute_result"
    }
   ],
   "source": [
    "#Checking for identical customer IDs\n",
    "trans['customer_id'].isin(cus['customer_id']).value_counts()"
   ]
  },
  {
   "cell_type": "code",
   "execution_count": 28,
   "metadata": {},
   "outputs": [],
   "source": [
    "#Compressing the transaction dataset reducing to only purchase of transaction type\n",
    "trans=trans[trans['transaction_type']=='purchase']"
   ]
  },
  {
   "cell_type": "code",
   "execution_count": 29,
   "metadata": {},
   "outputs": [
    {
     "data": {
      "text/plain": [
       "Int64Index([   845,    846,    847,    848,    849,    850,    851,    852,\n",
       "               853,    854,\n",
       "            ...\n",
       "            358078, 358079, 358080, 358081, 358082, 358083, 358084, 358085,\n",
       "            358086, 358087],\n",
       "           dtype='int64', length=356179)"
      ]
     },
     "execution_count": 29,
     "metadata": {},
     "output_type": "execute_result"
    }
   ],
   "source": [
    "trans.index"
   ]
  },
  {
   "cell_type": "code",
   "execution_count": 30,
   "metadata": {},
   "outputs": [],
   "source": [
    "#Resetting Index\n",
    "trans=trans.reset_index(drop=True)"
   ]
  },
  {
   "cell_type": "code",
   "execution_count": 31,
   "metadata": {},
   "outputs": [
    {
     "data": {
      "text/plain": [
       "(356179, 6)"
      ]
     },
     "execution_count": 31,
     "metadata": {},
     "output_type": "execute_result"
    }
   ],
   "source": [
    "trans.shape"
   ]
  },
  {
   "cell_type": "code",
   "execution_count": 32,
   "metadata": {},
   "outputs": [
    {
     "data": {
      "text/plain": [
       "13177"
      ]
     },
     "execution_count": 32,
     "metadata": {},
     "output_type": "execute_result"
    }
   ],
   "source": [
    "#No of unique customer IDs\n",
    "len(trans['customer_id'].unique())"
   ]
  },
  {
   "cell_type": "markdown",
   "metadata": {},
   "source": [
    "Merging the Customer and Transaction Data"
   ]
  },
  {
   "cell_type": "code",
   "execution_count": 33,
   "metadata": {},
   "outputs": [],
   "source": [
    "trans_merge = pd.merge(trans,\n",
    "                     cus,\n",
    "                     on='customer_id', \n",
    "                     how='left')"
   ]
  },
  {
   "cell_type": "code",
   "execution_count": 34,
   "metadata": {},
   "outputs": [
    {
     "data": {
      "text/html": [
       "<div>\n",
       "<style scoped>\n",
       "    .dataframe tbody tr th:only-of-type {\n",
       "        vertical-align: middle;\n",
       "    }\n",
       "\n",
       "    .dataframe tbody tr th {\n",
       "        vertical-align: top;\n",
       "    }\n",
       "\n",
       "    .dataframe thead th {\n",
       "        text-align: right;\n",
       "    }\n",
       "</style>\n",
       "<table border=\"1\" class=\"dataframe\">\n",
       "  <thead>\n",
       "    <tr style=\"text-align: right;\">\n",
       "      <th></th>\n",
       "      <th>billing_timestamp</th>\n",
       "      <th>transaction_type</th>\n",
       "      <th>amount</th>\n",
       "      <th>points</th>\n",
       "      <th>store_code</th>\n",
       "      <th>customer_id</th>\n",
       "      <th>created_at</th>\n",
       "      <th>gender</th>\n",
       "      <th>state</th>\n",
       "      <th>tier</th>\n",
       "    </tr>\n",
       "  </thead>\n",
       "  <tbody>\n",
       "    <tr>\n",
       "      <th>0</th>\n",
       "      <td>2014-10-20 22:38:00 +0530</td>\n",
       "      <td>purchase</td>\n",
       "      <td>3200.0</td>\n",
       "      <td>32.0</td>\n",
       "      <td>IMA00001</td>\n",
       "      <td>256622493374</td>\n",
       "      <td>2019-03-19 15:37:22 +0530</td>\n",
       "      <td>Male</td>\n",
       "      <td>Maharashtra</td>\n",
       "      <td>Blue Member</td>\n",
       "    </tr>\n",
       "    <tr>\n",
       "      <th>1</th>\n",
       "      <td>2014-10-20 22:38:00 +0530</td>\n",
       "      <td>purchase</td>\n",
       "      <td>2000.0</td>\n",
       "      <td>20.0</td>\n",
       "      <td>IMM00003</td>\n",
       "      <td>212411292920</td>\n",
       "      <td>2019-03-19 15:37:24 +0530</td>\n",
       "      <td>Male</td>\n",
       "      <td>Kerala</td>\n",
       "      <td>Blue Member</td>\n",
       "    </tr>\n",
       "    <tr>\n",
       "      <th>2</th>\n",
       "      <td>2014-10-20 22:38:00 +0530</td>\n",
       "      <td>purchase</td>\n",
       "      <td>1000.0</td>\n",
       "      <td>10.0</td>\n",
       "      <td>NA-IMA0048</td>\n",
       "      <td>256583467853</td>\n",
       "      <td>2019-03-19 15:37:23 +0530</td>\n",
       "      <td>Male</td>\n",
       "      <td>Maharashtra</td>\n",
       "      <td>Blue Member</td>\n",
       "    </tr>\n",
       "    <tr>\n",
       "      <th>3</th>\n",
       "      <td>2014-10-20 22:38:00 +0530</td>\n",
       "      <td>purchase</td>\n",
       "      <td>5000.0</td>\n",
       "      <td>50.0</td>\n",
       "      <td>IMA00007</td>\n",
       "      <td>256583467853</td>\n",
       "      <td>2019-03-19 15:37:23 +0530</td>\n",
       "      <td>Male</td>\n",
       "      <td>Maharashtra</td>\n",
       "      <td>Blue Member</td>\n",
       "    </tr>\n",
       "    <tr>\n",
       "      <th>4</th>\n",
       "      <td>2014-10-20 22:38:00 +0530</td>\n",
       "      <td>purchase</td>\n",
       "      <td>80000.0</td>\n",
       "      <td>800.0</td>\n",
       "      <td>NA-IMA0014</td>\n",
       "      <td>256583467853</td>\n",
       "      <td>2019-03-19 15:37:23 +0530</td>\n",
       "      <td>Male</td>\n",
       "      <td>Maharashtra</td>\n",
       "      <td>Blue Member</td>\n",
       "    </tr>\n",
       "  </tbody>\n",
       "</table>\n",
       "</div>"
      ],
      "text/plain": [
       "           billing_timestamp transaction_type   amount  points  store_code  \\\n",
       "0  2014-10-20 22:38:00 +0530         purchase   3200.0    32.0    IMA00001   \n",
       "1  2014-10-20 22:38:00 +0530         purchase   2000.0    20.0    IMM00003   \n",
       "2  2014-10-20 22:38:00 +0530         purchase   1000.0    10.0  NA-IMA0048   \n",
       "3  2014-10-20 22:38:00 +0530         purchase   5000.0    50.0    IMA00007   \n",
       "4  2014-10-20 22:38:00 +0530         purchase  80000.0   800.0  NA-IMA0014   \n",
       "\n",
       "    customer_id                 created_at gender        state         tier  \n",
       "0  256622493374  2019-03-19 15:37:22 +0530   Male  Maharashtra  Blue Member  \n",
       "1  212411292920  2019-03-19 15:37:24 +0530   Male       Kerala  Blue Member  \n",
       "2  256583467853  2019-03-19 15:37:23 +0530   Male  Maharashtra  Blue Member  \n",
       "3  256583467853  2019-03-19 15:37:23 +0530   Male  Maharashtra  Blue Member  \n",
       "4  256583467853  2019-03-19 15:37:23 +0530   Male  Maharashtra  Blue Member  "
      ]
     },
     "execution_count": 34,
     "metadata": {},
     "output_type": "execute_result"
    }
   ],
   "source": [
    "trans_merge.head()"
   ]
  },
  {
   "cell_type": "code",
   "execution_count": 35,
   "metadata": {},
   "outputs": [
    {
     "data": {
      "text/html": [
       "<div>\n",
       "<style scoped>\n",
       "    .dataframe tbody tr th:only-of-type {\n",
       "        vertical-align: middle;\n",
       "    }\n",
       "\n",
       "    .dataframe tbody tr th {\n",
       "        vertical-align: top;\n",
       "    }\n",
       "\n",
       "    .dataframe thead th {\n",
       "        text-align: right;\n",
       "    }\n",
       "</style>\n",
       "<table border=\"1\" class=\"dataframe\">\n",
       "  <thead>\n",
       "    <tr style=\"text-align: right;\">\n",
       "      <th></th>\n",
       "      <th>store_name</th>\n",
       "      <th>store_code</th>\n",
       "      <th>store_location</th>\n",
       "      <th>store_category</th>\n",
       "      <th>store_PriceCategory</th>\n",
       "    </tr>\n",
       "  </thead>\n",
       "  <tbody>\n",
       "    <tr>\n",
       "      <th>0</th>\n",
       "      <td>Kansas Denims</td>\n",
       "      <td>IMM00033</td>\n",
       "      <td>Emerald Mall</td>\n",
       "      <td>Women's Fashion,Men's Fashion</td>\n",
       "      <td>Premium</td>\n",
       "    </tr>\n",
       "    <tr>\n",
       "      <th>1</th>\n",
       "      <td>Homosapiens</td>\n",
       "      <td>IMM00020</td>\n",
       "      <td>Emerald Mall</td>\n",
       "      <td>Women's Fashion,Men's Fashion</td>\n",
       "      <td>Premium</td>\n",
       "    </tr>\n",
       "    <tr>\n",
       "      <th>2</th>\n",
       "      <td>Rocket Swims</td>\n",
       "      <td>IMM00153</td>\n",
       "      <td>Emerald Mall</td>\n",
       "      <td>Sports &amp; Fitness,Women's Fashion,Men's Fashion</td>\n",
       "      <td>Premium</td>\n",
       "    </tr>\n",
       "    <tr>\n",
       "      <th>3</th>\n",
       "      <td>Spade &amp;  Yard</td>\n",
       "      <td>IMM00027</td>\n",
       "      <td>Emerald Mall</td>\n",
       "      <td>Gifts &amp; Toys</td>\n",
       "      <td>Value</td>\n",
       "    </tr>\n",
       "    <tr>\n",
       "      <th>4</th>\n",
       "      <td>Pondicherry</td>\n",
       "      <td>IMM00008</td>\n",
       "      <td>Emerald Mall</td>\n",
       "      <td>Accessories,Women's Fashion</td>\n",
       "      <td>Premium</td>\n",
       "    </tr>\n",
       "  </tbody>\n",
       "</table>\n",
       "</div>"
      ],
      "text/plain": [
       "      store_name store_code store_location  \\\n",
       "0  Kansas Denims   IMM00033   Emerald Mall   \n",
       "1    Homosapiens   IMM00020   Emerald Mall   \n",
       "2   Rocket Swims   IMM00153   Emerald Mall   \n",
       "3  Spade &  Yard   IMM00027   Emerald Mall   \n",
       "4    Pondicherry   IMM00008   Emerald Mall   \n",
       "\n",
       "                                   store_category store_PriceCategory  \n",
       "0                   Women's Fashion,Men's Fashion             Premium  \n",
       "1                   Women's Fashion,Men's Fashion             Premium  \n",
       "2  Sports & Fitness,Women's Fashion,Men's Fashion             Premium  \n",
       "3                                    Gifts & Toys               Value  \n",
       "4                     Accessories,Women's Fashion             Premium  "
      ]
     },
     "execution_count": 35,
     "metadata": {},
     "output_type": "execute_result"
    }
   ],
   "source": [
    "store.head()"
   ]
  },
  {
   "cell_type": "code",
   "execution_count": 36,
   "metadata": {},
   "outputs": [
    {
     "data": {
      "text/plain": [
       "0.015632589231818834"
      ]
     },
     "execution_count": 36,
     "metadata": {},
     "output_type": "execute_result"
    }
   ],
   "source": [
    "trans[trans['store_code'].isin(store['store_code'])==False]['store_code'].shape[0]/trans.shape[0]"
   ]
  },
  {
   "cell_type": "code",
   "execution_count": 37,
   "metadata": {},
   "outputs": [
    {
     "data": {
      "text/plain": [
       "145"
      ]
     },
     "execution_count": 37,
     "metadata": {},
     "output_type": "execute_result"
    }
   ],
   "source": [
    "store['store_category'].isnull().sum()"
   ]
  },
  {
   "cell_type": "code",
   "execution_count": 38,
   "metadata": {},
   "outputs": [],
   "source": [
    "#store['store_category'].value_counts()"
   ]
  },
  {
   "cell_type": "markdown",
   "metadata": {},
   "source": [
    "Filling store category manually using store names"
   ]
  },
  {
   "cell_type": "code",
   "execution_count": 39,
   "metadata": {},
   "outputs": [],
   "source": [
    "#Reading new store dataset\n",
    "store2=pd.read_excel('store 2.xlsx')"
   ]
  },
  {
   "cell_type": "code",
   "execution_count": 40,
   "metadata": {},
   "outputs": [
    {
     "name": "stdout",
     "output_type": "stream",
     "text": [
      "<class 'pandas.core.frame.DataFrame'>\n",
      "RangeIndex: 559 entries, 0 to 558\n",
      "Data columns (total 5 columns):\n",
      "store_name             559 non-null object\n",
      "store_code             559 non-null object\n",
      "store_location         559 non-null object\n",
      "store_category         463 non-null object\n",
      "store_PriceCategory    559 non-null object\n",
      "dtypes: object(5)\n",
      "memory usage: 21.9+ KB\n"
     ]
    }
   ],
   "source": [
    "store2.info()"
   ]
  },
  {
   "cell_type": "code",
   "execution_count": 41,
   "metadata": {},
   "outputs": [
    {
     "data": {
      "text/plain": [
       "store_name              0\n",
       "store_code              0\n",
       "store_location          0\n",
       "store_category         96\n",
       "store_PriceCategory     0\n",
       "dtype: int64"
      ]
     },
     "execution_count": 41,
     "metadata": {},
     "output_type": "execute_result"
    }
   ],
   "source": [
    "store2.isnull().sum()"
   ]
  },
  {
   "cell_type": "code",
   "execution_count": 42,
   "metadata": {},
   "outputs": [
    {
     "data": {
      "text/plain": [
       "(559,)"
      ]
     },
     "execution_count": 42,
     "metadata": {},
     "output_type": "execute_result"
    }
   ],
   "source": [
    "store2['store_code'].unique().shape #There is no duplicates in the store code"
   ]
  },
  {
   "cell_type": "markdown",
   "metadata": {},
   "source": [
    "Now merging store data with transaction data"
   ]
  },
  {
   "cell_type": "code",
   "execution_count": 43,
   "metadata": {},
   "outputs": [],
   "source": [
    "df = pd.merge(trans_merge,\n",
    "                     store2,\n",
    "                     on='store_code', \n",
    "                     how='left')"
   ]
  },
  {
   "cell_type": "code",
   "execution_count": 44,
   "metadata": {},
   "outputs": [
    {
     "data": {
      "text/plain": [
       "(356179, 14)"
      ]
     },
     "execution_count": 44,
     "metadata": {},
     "output_type": "execute_result"
    }
   ],
   "source": [
    "df.shape"
   ]
  },
  {
   "cell_type": "code",
   "execution_count": 45,
   "metadata": {},
   "outputs": [
    {
     "data": {
      "text/html": [
       "<div>\n",
       "<style scoped>\n",
       "    .dataframe tbody tr th:only-of-type {\n",
       "        vertical-align: middle;\n",
       "    }\n",
       "\n",
       "    .dataframe tbody tr th {\n",
       "        vertical-align: top;\n",
       "    }\n",
       "\n",
       "    .dataframe thead th {\n",
       "        text-align: right;\n",
       "    }\n",
       "</style>\n",
       "<table border=\"1\" class=\"dataframe\">\n",
       "  <thead>\n",
       "    <tr style=\"text-align: right;\">\n",
       "      <th></th>\n",
       "      <th>billing_timestamp</th>\n",
       "      <th>transaction_type</th>\n",
       "      <th>amount</th>\n",
       "      <th>points</th>\n",
       "      <th>store_code</th>\n",
       "      <th>customer_id</th>\n",
       "      <th>created_at</th>\n",
       "      <th>gender</th>\n",
       "      <th>state</th>\n",
       "      <th>tier</th>\n",
       "      <th>store_name</th>\n",
       "      <th>store_location</th>\n",
       "      <th>store_category</th>\n",
       "      <th>store_PriceCategory</th>\n",
       "    </tr>\n",
       "  </thead>\n",
       "  <tbody>\n",
       "    <tr>\n",
       "      <th>0</th>\n",
       "      <td>2014-10-20 22:38:00 +0530</td>\n",
       "      <td>purchase</td>\n",
       "      <td>3200.0</td>\n",
       "      <td>32.0</td>\n",
       "      <td>IMA00001</td>\n",
       "      <td>256622493374</td>\n",
       "      <td>2019-03-19 15:37:22 +0530</td>\n",
       "      <td>Male</td>\n",
       "      <td>Maharashtra</td>\n",
       "      <td>Blue Member</td>\n",
       "      <td>Sprinkles</td>\n",
       "      <td>Diamond Mall</td>\n",
       "      <td>Accessories,Jewellery,Women's Fashion</td>\n",
       "      <td>Premium</td>\n",
       "    </tr>\n",
       "    <tr>\n",
       "      <th>1</th>\n",
       "      <td>2014-10-20 22:38:00 +0530</td>\n",
       "      <td>purchase</td>\n",
       "      <td>2000.0</td>\n",
       "      <td>20.0</td>\n",
       "      <td>IMM00003</td>\n",
       "      <td>212411292920</td>\n",
       "      <td>2019-03-19 15:37:24 +0530</td>\n",
       "      <td>Male</td>\n",
       "      <td>Kerala</td>\n",
       "      <td>Blue Member</td>\n",
       "      <td>Das Shoes</td>\n",
       "      <td>Emerald Mall</td>\n",
       "      <td>Accessories,Sports &amp; Fitness,Women's Fashion,M...</td>\n",
       "      <td>Premium</td>\n",
       "    </tr>\n",
       "    <tr>\n",
       "      <th>2</th>\n",
       "      <td>2014-10-20 22:38:00 +0530</td>\n",
       "      <td>purchase</td>\n",
       "      <td>1000.0</td>\n",
       "      <td>10.0</td>\n",
       "      <td>NA-IMA0048</td>\n",
       "      <td>256583467853</td>\n",
       "      <td>2019-03-19 15:37:23 +0530</td>\n",
       "      <td>Male</td>\n",
       "      <td>Maharashtra</td>\n",
       "      <td>Blue Member</td>\n",
       "      <td>Gameon!</td>\n",
       "      <td>Diamond Mall</td>\n",
       "      <td>Electronics,Entertainment &amp; Leisure</td>\n",
       "      <td>Premium</td>\n",
       "    </tr>\n",
       "    <tr>\n",
       "      <th>3</th>\n",
       "      <td>2014-10-20 22:38:00 +0530</td>\n",
       "      <td>purchase</td>\n",
       "      <td>5000.0</td>\n",
       "      <td>50.0</td>\n",
       "      <td>IMA00007</td>\n",
       "      <td>256583467853</td>\n",
       "      <td>2019-03-19 15:37:23 +0530</td>\n",
       "      <td>Male</td>\n",
       "      <td>Maharashtra</td>\n",
       "      <td>Blue Member</td>\n",
       "      <td>Das Shoes</td>\n",
       "      <td>Diamond Mall</td>\n",
       "      <td>Accessories,Sports &amp; Fitness,Women's Fashion,M...</td>\n",
       "      <td>Premium</td>\n",
       "    </tr>\n",
       "    <tr>\n",
       "      <th>4</th>\n",
       "      <td>2014-10-20 22:38:00 +0530</td>\n",
       "      <td>purchase</td>\n",
       "      <td>80000.0</td>\n",
       "      <td>800.0</td>\n",
       "      <td>NA-IMA0014</td>\n",
       "      <td>256583467853</td>\n",
       "      <td>2019-03-19 15:37:23 +0530</td>\n",
       "      <td>Male</td>\n",
       "      <td>Maharashtra</td>\n",
       "      <td>Blue Member</td>\n",
       "      <td>Cuffs</td>\n",
       "      <td>Diamond Mall</td>\n",
       "      <td>Men's Fashion</td>\n",
       "      <td>Premium</td>\n",
       "    </tr>\n",
       "  </tbody>\n",
       "</table>\n",
       "</div>"
      ],
      "text/plain": [
       "           billing_timestamp transaction_type   amount  points  store_code  \\\n",
       "0  2014-10-20 22:38:00 +0530         purchase   3200.0    32.0    IMA00001   \n",
       "1  2014-10-20 22:38:00 +0530         purchase   2000.0    20.0    IMM00003   \n",
       "2  2014-10-20 22:38:00 +0530         purchase   1000.0    10.0  NA-IMA0048   \n",
       "3  2014-10-20 22:38:00 +0530         purchase   5000.0    50.0    IMA00007   \n",
       "4  2014-10-20 22:38:00 +0530         purchase  80000.0   800.0  NA-IMA0014   \n",
       "\n",
       "    customer_id                 created_at gender        state         tier  \\\n",
       "0  256622493374  2019-03-19 15:37:22 +0530   Male  Maharashtra  Blue Member   \n",
       "1  212411292920  2019-03-19 15:37:24 +0530   Male       Kerala  Blue Member   \n",
       "2  256583467853  2019-03-19 15:37:23 +0530   Male  Maharashtra  Blue Member   \n",
       "3  256583467853  2019-03-19 15:37:23 +0530   Male  Maharashtra  Blue Member   \n",
       "4  256583467853  2019-03-19 15:37:23 +0530   Male  Maharashtra  Blue Member   \n",
       "\n",
       "  store_name store_location  \\\n",
       "0  Sprinkles   Diamond Mall   \n",
       "1  Das Shoes   Emerald Mall   \n",
       "2    Gameon!   Diamond Mall   \n",
       "3  Das Shoes   Diamond Mall   \n",
       "4      Cuffs   Diamond Mall   \n",
       "\n",
       "                                      store_category store_PriceCategory  \n",
       "0              Accessories,Jewellery,Women's Fashion             Premium  \n",
       "1  Accessories,Sports & Fitness,Women's Fashion,M...             Premium  \n",
       "2                Electronics,Entertainment & Leisure             Premium  \n",
       "3  Accessories,Sports & Fitness,Women's Fashion,M...             Premium  \n",
       "4                                      Men's Fashion             Premium  "
      ]
     },
     "execution_count": 45,
     "metadata": {},
     "output_type": "execute_result"
    }
   ],
   "source": [
    "df.head()"
   ]
  },
  {
   "cell_type": "code",
   "execution_count": 46,
   "metadata": {},
   "outputs": [
    {
     "name": "stdout",
     "output_type": "stream",
     "text": [
      "<class 'pandas.core.frame.DataFrame'>\n",
      "Int64Index: 356179 entries, 0 to 356178\n",
      "Data columns (total 14 columns):\n",
      "billing_timestamp      356179 non-null object\n",
      "transaction_type       356179 non-null object\n",
      "amount                 356179 non-null float64\n",
      "points                 356179 non-null float64\n",
      "store_code             356179 non-null object\n",
      "customer_id            356179 non-null object\n",
      "created_at             356179 non-null object\n",
      "gender                 356179 non-null object\n",
      "state                  356179 non-null object\n",
      "tier                   356179 non-null object\n",
      "store_name             350611 non-null object\n",
      "store_location         350611 non-null object\n",
      "store_category         335456 non-null object\n",
      "store_PriceCategory    350611 non-null object\n",
      "dtypes: float64(2), object(12)\n",
      "memory usage: 40.8+ MB\n"
     ]
    }
   ],
   "source": [
    "df.info() "
   ]
  },
  {
   "cell_type": "code",
   "execution_count": 47,
   "metadata": {},
   "outputs": [],
   "source": [
    "#Changing Date columns to data object\n",
    "from datetime import datetime\n",
    "df['created_at']=pd.to_datetime(df['created_at'])"
   ]
  },
  {
   "cell_type": "code",
   "execution_count": 48,
   "metadata": {},
   "outputs": [],
   "source": [
    "df['billing_timestamp']=pd.to_datetime(df['billing_timestamp'])"
   ]
  },
  {
   "cell_type": "code",
   "execution_count": 49,
   "metadata": {},
   "outputs": [
    {
     "name": "stdout",
     "output_type": "stream",
     "text": [
      "<class 'pandas.core.frame.DataFrame'>\n",
      "Int64Index: 356179 entries, 0 to 356178\n",
      "Data columns (total 14 columns):\n",
      "billing_timestamp      356179 non-null datetime64[ns, pytz.FixedOffset(330)]\n",
      "transaction_type       356179 non-null object\n",
      "amount                 356179 non-null float64\n",
      "points                 356179 non-null float64\n",
      "store_code             356179 non-null object\n",
      "customer_id            356179 non-null object\n",
      "created_at             356179 non-null datetime64[ns, pytz.FixedOffset(330)]\n",
      "gender                 356179 non-null object\n",
      "state                  356179 non-null object\n",
      "tier                   356179 non-null object\n",
      "store_name             350611 non-null object\n",
      "store_location         350611 non-null object\n",
      "store_category         335456 non-null object\n",
      "store_PriceCategory    350611 non-null object\n",
      "dtypes: datetime64[ns, pytz.FixedOffset(330)](2), float64(2), object(10)\n",
      "memory usage: 40.8+ MB\n"
     ]
    }
   ],
   "source": [
    "df.info()"
   ]
  },
  {
   "cell_type": "code",
   "execution_count": 50,
   "metadata": {},
   "outputs": [
    {
     "data": {
      "text/plain": [
       "S0001    4946\n",
       "S0002     622\n",
       "Name: store_code, dtype: int64"
      ]
     },
     "execution_count": 50,
     "metadata": {},
     "output_type": "execute_result"
    }
   ],
   "source": [
    "df[df['store_name'].isnull()==True]['store_code'].value_counts()"
   ]
  },
  {
   "cell_type": "code",
   "execution_count": 51,
   "metadata": {},
   "outputs": [
    {
     "data": {
      "text/html": [
       "<div>\n",
       "<style scoped>\n",
       "    .dataframe tbody tr th:only-of-type {\n",
       "        vertical-align: middle;\n",
       "    }\n",
       "\n",
       "    .dataframe tbody tr th {\n",
       "        vertical-align: top;\n",
       "    }\n",
       "\n",
       "    .dataframe thead th {\n",
       "        text-align: right;\n",
       "    }\n",
       "</style>\n",
       "<table border=\"1\" class=\"dataframe\">\n",
       "  <thead>\n",
       "    <tr style=\"text-align: right;\">\n",
       "      <th></th>\n",
       "      <th>billing_timestamp</th>\n",
       "      <th>transaction_type</th>\n",
       "      <th>amount</th>\n",
       "      <th>points</th>\n",
       "      <th>store_code</th>\n",
       "      <th>customer_id</th>\n",
       "      <th>created_at</th>\n",
       "      <th>gender</th>\n",
       "      <th>state</th>\n",
       "      <th>tier</th>\n",
       "      <th>store_name</th>\n",
       "      <th>store_location</th>\n",
       "      <th>store_category</th>\n",
       "      <th>store_PriceCategory</th>\n",
       "    </tr>\n",
       "  </thead>\n",
       "  <tbody>\n",
       "    <tr>\n",
       "      <th>0</th>\n",
       "      <td>2014-10-20 22:38:00+05:30</td>\n",
       "      <td>purchase</td>\n",
       "      <td>3200.0</td>\n",
       "      <td>32.0</td>\n",
       "      <td>IMA00001</td>\n",
       "      <td>256622493374</td>\n",
       "      <td>2019-03-19 15:37:22+05:30</td>\n",
       "      <td>Male</td>\n",
       "      <td>Maharashtra</td>\n",
       "      <td>Blue Member</td>\n",
       "      <td>Sprinkles</td>\n",
       "      <td>Diamond Mall</td>\n",
       "      <td>Accessories,Jewellery,Women's Fashion</td>\n",
       "      <td>Premium</td>\n",
       "    </tr>\n",
       "    <tr>\n",
       "      <th>1</th>\n",
       "      <td>2014-10-20 22:38:00+05:30</td>\n",
       "      <td>purchase</td>\n",
       "      <td>2000.0</td>\n",
       "      <td>20.0</td>\n",
       "      <td>IMM00003</td>\n",
       "      <td>212411292920</td>\n",
       "      <td>2019-03-19 15:37:24+05:30</td>\n",
       "      <td>Male</td>\n",
       "      <td>Kerala</td>\n",
       "      <td>Blue Member</td>\n",
       "      <td>Das Shoes</td>\n",
       "      <td>Emerald Mall</td>\n",
       "      <td>Accessories,Sports &amp; Fitness,Women's Fashion,M...</td>\n",
       "      <td>Premium</td>\n",
       "    </tr>\n",
       "    <tr>\n",
       "      <th>2</th>\n",
       "      <td>2014-10-20 22:38:00+05:30</td>\n",
       "      <td>purchase</td>\n",
       "      <td>1000.0</td>\n",
       "      <td>10.0</td>\n",
       "      <td>NA-IMA0048</td>\n",
       "      <td>256583467853</td>\n",
       "      <td>2019-03-19 15:37:23+05:30</td>\n",
       "      <td>Male</td>\n",
       "      <td>Maharashtra</td>\n",
       "      <td>Blue Member</td>\n",
       "      <td>Gameon!</td>\n",
       "      <td>Diamond Mall</td>\n",
       "      <td>Electronics,Entertainment &amp; Leisure</td>\n",
       "      <td>Premium</td>\n",
       "    </tr>\n",
       "    <tr>\n",
       "      <th>3</th>\n",
       "      <td>2014-10-20 22:38:00+05:30</td>\n",
       "      <td>purchase</td>\n",
       "      <td>5000.0</td>\n",
       "      <td>50.0</td>\n",
       "      <td>IMA00007</td>\n",
       "      <td>256583467853</td>\n",
       "      <td>2019-03-19 15:37:23+05:30</td>\n",
       "      <td>Male</td>\n",
       "      <td>Maharashtra</td>\n",
       "      <td>Blue Member</td>\n",
       "      <td>Das Shoes</td>\n",
       "      <td>Diamond Mall</td>\n",
       "      <td>Accessories,Sports &amp; Fitness,Women's Fashion,M...</td>\n",
       "      <td>Premium</td>\n",
       "    </tr>\n",
       "    <tr>\n",
       "      <th>4</th>\n",
       "      <td>2014-10-20 22:38:00+05:30</td>\n",
       "      <td>purchase</td>\n",
       "      <td>80000.0</td>\n",
       "      <td>800.0</td>\n",
       "      <td>NA-IMA0014</td>\n",
       "      <td>256583467853</td>\n",
       "      <td>2019-03-19 15:37:23+05:30</td>\n",
       "      <td>Male</td>\n",
       "      <td>Maharashtra</td>\n",
       "      <td>Blue Member</td>\n",
       "      <td>Cuffs</td>\n",
       "      <td>Diamond Mall</td>\n",
       "      <td>Men's Fashion</td>\n",
       "      <td>Premium</td>\n",
       "    </tr>\n",
       "  </tbody>\n",
       "</table>\n",
       "</div>"
      ],
      "text/plain": [
       "          billing_timestamp transaction_type   amount  points  store_code  \\\n",
       "0 2014-10-20 22:38:00+05:30         purchase   3200.0    32.0    IMA00001   \n",
       "1 2014-10-20 22:38:00+05:30         purchase   2000.0    20.0    IMM00003   \n",
       "2 2014-10-20 22:38:00+05:30         purchase   1000.0    10.0  NA-IMA0048   \n",
       "3 2014-10-20 22:38:00+05:30         purchase   5000.0    50.0    IMA00007   \n",
       "4 2014-10-20 22:38:00+05:30         purchase  80000.0   800.0  NA-IMA0014   \n",
       "\n",
       "    customer_id                created_at gender        state         tier  \\\n",
       "0  256622493374 2019-03-19 15:37:22+05:30   Male  Maharashtra  Blue Member   \n",
       "1  212411292920 2019-03-19 15:37:24+05:30   Male       Kerala  Blue Member   \n",
       "2  256583467853 2019-03-19 15:37:23+05:30   Male  Maharashtra  Blue Member   \n",
       "3  256583467853 2019-03-19 15:37:23+05:30   Male  Maharashtra  Blue Member   \n",
       "4  256583467853 2019-03-19 15:37:23+05:30   Male  Maharashtra  Blue Member   \n",
       "\n",
       "  store_name store_location  \\\n",
       "0  Sprinkles   Diamond Mall   \n",
       "1  Das Shoes   Emerald Mall   \n",
       "2    Gameon!   Diamond Mall   \n",
       "3  Das Shoes   Diamond Mall   \n",
       "4      Cuffs   Diamond Mall   \n",
       "\n",
       "                                      store_category store_PriceCategory  \n",
       "0              Accessories,Jewellery,Women's Fashion             Premium  \n",
       "1  Accessories,Sports & Fitness,Women's Fashion,M...             Premium  \n",
       "2                Electronics,Entertainment & Leisure             Premium  \n",
       "3  Accessories,Sports & Fitness,Women's Fashion,M...             Premium  \n",
       "4                                      Men's Fashion             Premium  "
      ]
     },
     "execution_count": 51,
     "metadata": {},
     "output_type": "execute_result"
    }
   ],
   "source": [
    "df.head()"
   ]
  },
  {
   "cell_type": "code",
   "execution_count": 52,
   "metadata": {},
   "outputs": [],
   "source": [
    "df=df.fillna('Unknown') #Filling the Unknown store values with 'Unknown' tag"
   ]
  },
  {
   "cell_type": "code",
   "execution_count": 53,
   "metadata": {},
   "outputs": [
    {
     "data": {
      "text/plain": [
       "billing_timestamp      0\n",
       "transaction_type       0\n",
       "amount                 0\n",
       "points                 0\n",
       "store_code             0\n",
       "customer_id            0\n",
       "created_at             0\n",
       "gender                 0\n",
       "state                  0\n",
       "tier                   0\n",
       "store_name             0\n",
       "store_location         0\n",
       "store_category         0\n",
       "store_PriceCategory    0\n",
       "dtype: int64"
      ]
     },
     "execution_count": 53,
     "metadata": {},
     "output_type": "execute_result"
    }
   ],
   "source": [
    "df.isnull().sum()"
   ]
  },
  {
   "cell_type": "code",
   "execution_count": 54,
   "metadata": {},
   "outputs": [
    {
     "name": "stdout",
     "output_type": "stream",
     "text": [
      "<class 'pandas.core.frame.DataFrame'>\n",
      "Int64Index: 356179 entries, 0 to 356178\n",
      "Data columns (total 14 columns):\n",
      "billing_timestamp      356179 non-null datetime64[ns, pytz.FixedOffset(330)]\n",
      "transaction_type       356179 non-null object\n",
      "amount                 356179 non-null float64\n",
      "points                 356179 non-null float64\n",
      "store_code             356179 non-null object\n",
      "customer_id            356179 non-null object\n",
      "created_at             356179 non-null datetime64[ns, pytz.FixedOffset(330)]\n",
      "gender                 356179 non-null object\n",
      "state                  356179 non-null object\n",
      "tier                   356179 non-null object\n",
      "store_name             356179 non-null object\n",
      "store_location         356179 non-null object\n",
      "store_category         356179 non-null object\n",
      "store_PriceCategory    356179 non-null object\n",
      "dtypes: datetime64[ns, pytz.FixedOffset(330)](2), float64(2), object(10)\n",
      "memory usage: 40.8+ MB\n"
     ]
    }
   ],
   "source": [
    "df.info()"
   ]
  },
  {
   "cell_type": "markdown",
   "metadata": {},
   "source": [
    "As we know all the type of transaction is 'purchase',removing transaction type column from the df"
   ]
  },
  {
   "cell_type": "code",
   "execution_count": 55,
   "metadata": {},
   "outputs": [],
   "source": [
    "#Remove duplicates from the dataframe\n",
    "df=df.drop_duplicates()"
   ]
  },
  {
   "cell_type": "code",
   "execution_count": 56,
   "metadata": {},
   "outputs": [],
   "source": [
    "df=df.drop('transaction_type',axis=1)"
   ]
  },
  {
   "cell_type": "code",
   "execution_count": 57,
   "metadata": {},
   "outputs": [
    {
     "name": "stdout",
     "output_type": "stream",
     "text": [
      "<class 'pandas.core.frame.DataFrame'>\n",
      "Int64Index: 348509 entries, 0 to 356178\n",
      "Data columns (total 13 columns):\n",
      "billing_timestamp      348509 non-null datetime64[ns, pytz.FixedOffset(330)]\n",
      "amount                 348509 non-null float64\n",
      "points                 348509 non-null float64\n",
      "store_code             348509 non-null object\n",
      "customer_id            348509 non-null object\n",
      "created_at             348509 non-null datetime64[ns, pytz.FixedOffset(330)]\n",
      "gender                 348509 non-null object\n",
      "state                  348509 non-null object\n",
      "tier                   348509 non-null object\n",
      "store_name             348509 non-null object\n",
      "store_location         348509 non-null object\n",
      "store_category         348509 non-null object\n",
      "store_PriceCategory    348509 non-null object\n",
      "dtypes: datetime64[ns, pytz.FixedOffset(330)](2), float64(2), object(9)\n",
      "memory usage: 37.2+ MB\n"
     ]
    }
   ],
   "source": [
    "df.info()"
   ]
  },
  {
   "cell_type": "code",
   "execution_count": 58,
   "metadata": {},
   "outputs": [
    {
     "data": {
      "text/html": [
       "<div>\n",
       "<style scoped>\n",
       "    .dataframe tbody tr th:only-of-type {\n",
       "        vertical-align: middle;\n",
       "    }\n",
       "\n",
       "    .dataframe tbody tr th {\n",
       "        vertical-align: top;\n",
       "    }\n",
       "\n",
       "    .dataframe thead th {\n",
       "        text-align: right;\n",
       "    }\n",
       "</style>\n",
       "<table border=\"1\" class=\"dataframe\">\n",
       "  <thead>\n",
       "    <tr style=\"text-align: right;\">\n",
       "      <th></th>\n",
       "      <th>billing_timestamp</th>\n",
       "      <th>amount</th>\n",
       "      <th>points</th>\n",
       "      <th>store_code</th>\n",
       "      <th>customer_id</th>\n",
       "      <th>created_at</th>\n",
       "      <th>gender</th>\n",
       "      <th>state</th>\n",
       "      <th>tier</th>\n",
       "      <th>store_name</th>\n",
       "      <th>store_location</th>\n",
       "      <th>store_category</th>\n",
       "      <th>store_PriceCategory</th>\n",
       "    </tr>\n",
       "  </thead>\n",
       "  <tbody>\n",
       "    <tr>\n",
       "      <th>0</th>\n",
       "      <td>2014-10-20 22:38:00+05:30</td>\n",
       "      <td>3200.0</td>\n",
       "      <td>32.0</td>\n",
       "      <td>IMA00001</td>\n",
       "      <td>256622493374</td>\n",
       "      <td>2019-03-19 15:37:22+05:30</td>\n",
       "      <td>Male</td>\n",
       "      <td>Maharashtra</td>\n",
       "      <td>Blue Member</td>\n",
       "      <td>Sprinkles</td>\n",
       "      <td>Diamond Mall</td>\n",
       "      <td>Accessories,Jewellery,Women's Fashion</td>\n",
       "      <td>Premium</td>\n",
       "    </tr>\n",
       "    <tr>\n",
       "      <th>1</th>\n",
       "      <td>2014-10-20 22:38:00+05:30</td>\n",
       "      <td>2000.0</td>\n",
       "      <td>20.0</td>\n",
       "      <td>IMM00003</td>\n",
       "      <td>212411292920</td>\n",
       "      <td>2019-03-19 15:37:24+05:30</td>\n",
       "      <td>Male</td>\n",
       "      <td>Kerala</td>\n",
       "      <td>Blue Member</td>\n",
       "      <td>Das Shoes</td>\n",
       "      <td>Emerald Mall</td>\n",
       "      <td>Accessories,Sports &amp; Fitness,Women's Fashion,M...</td>\n",
       "      <td>Premium</td>\n",
       "    </tr>\n",
       "    <tr>\n",
       "      <th>2</th>\n",
       "      <td>2014-10-20 22:38:00+05:30</td>\n",
       "      <td>1000.0</td>\n",
       "      <td>10.0</td>\n",
       "      <td>NA-IMA0048</td>\n",
       "      <td>256583467853</td>\n",
       "      <td>2019-03-19 15:37:23+05:30</td>\n",
       "      <td>Male</td>\n",
       "      <td>Maharashtra</td>\n",
       "      <td>Blue Member</td>\n",
       "      <td>Gameon!</td>\n",
       "      <td>Diamond Mall</td>\n",
       "      <td>Electronics,Entertainment &amp; Leisure</td>\n",
       "      <td>Premium</td>\n",
       "    </tr>\n",
       "    <tr>\n",
       "      <th>3</th>\n",
       "      <td>2014-10-20 22:38:00+05:30</td>\n",
       "      <td>5000.0</td>\n",
       "      <td>50.0</td>\n",
       "      <td>IMA00007</td>\n",
       "      <td>256583467853</td>\n",
       "      <td>2019-03-19 15:37:23+05:30</td>\n",
       "      <td>Male</td>\n",
       "      <td>Maharashtra</td>\n",
       "      <td>Blue Member</td>\n",
       "      <td>Das Shoes</td>\n",
       "      <td>Diamond Mall</td>\n",
       "      <td>Accessories,Sports &amp; Fitness,Women's Fashion,M...</td>\n",
       "      <td>Premium</td>\n",
       "    </tr>\n",
       "    <tr>\n",
       "      <th>4</th>\n",
       "      <td>2014-10-20 22:38:00+05:30</td>\n",
       "      <td>80000.0</td>\n",
       "      <td>800.0</td>\n",
       "      <td>NA-IMA0014</td>\n",
       "      <td>256583467853</td>\n",
       "      <td>2019-03-19 15:37:23+05:30</td>\n",
       "      <td>Male</td>\n",
       "      <td>Maharashtra</td>\n",
       "      <td>Blue Member</td>\n",
       "      <td>Cuffs</td>\n",
       "      <td>Diamond Mall</td>\n",
       "      <td>Men's Fashion</td>\n",
       "      <td>Premium</td>\n",
       "    </tr>\n",
       "  </tbody>\n",
       "</table>\n",
       "</div>"
      ],
      "text/plain": [
       "          billing_timestamp   amount  points  store_code   customer_id  \\\n",
       "0 2014-10-20 22:38:00+05:30   3200.0    32.0    IMA00001  256622493374   \n",
       "1 2014-10-20 22:38:00+05:30   2000.0    20.0    IMM00003  212411292920   \n",
       "2 2014-10-20 22:38:00+05:30   1000.0    10.0  NA-IMA0048  256583467853   \n",
       "3 2014-10-20 22:38:00+05:30   5000.0    50.0    IMA00007  256583467853   \n",
       "4 2014-10-20 22:38:00+05:30  80000.0   800.0  NA-IMA0014  256583467853   \n",
       "\n",
       "                 created_at gender        state         tier store_name  \\\n",
       "0 2019-03-19 15:37:22+05:30   Male  Maharashtra  Blue Member  Sprinkles   \n",
       "1 2019-03-19 15:37:24+05:30   Male       Kerala  Blue Member  Das Shoes   \n",
       "2 2019-03-19 15:37:23+05:30   Male  Maharashtra  Blue Member    Gameon!   \n",
       "3 2019-03-19 15:37:23+05:30   Male  Maharashtra  Blue Member  Das Shoes   \n",
       "4 2019-03-19 15:37:23+05:30   Male  Maharashtra  Blue Member      Cuffs   \n",
       "\n",
       "  store_location                                     store_category  \\\n",
       "0   Diamond Mall              Accessories,Jewellery,Women's Fashion   \n",
       "1   Emerald Mall  Accessories,Sports & Fitness,Women's Fashion,M...   \n",
       "2   Diamond Mall                Electronics,Entertainment & Leisure   \n",
       "3   Diamond Mall  Accessories,Sports & Fitness,Women's Fashion,M...   \n",
       "4   Diamond Mall                                      Men's Fashion   \n",
       "\n",
       "  store_PriceCategory  \n",
       "0             Premium  \n",
       "1             Premium  \n",
       "2             Premium  \n",
       "3             Premium  \n",
       "4             Premium  "
      ]
     },
     "execution_count": 58,
     "metadata": {},
     "output_type": "execute_result"
    }
   ],
   "source": [
    "df.head()"
   ]
  },
  {
   "cell_type": "markdown",
   "metadata": {},
   "source": [
    "Exploratory Data Analysis\n",
    "Univariate Analysis"
   ]
  },
  {
   "cell_type": "code",
   "execution_count": 59,
   "metadata": {},
   "outputs": [
    {
     "data": {
      "text/html": [
       "<div>\n",
       "<style scoped>\n",
       "    .dataframe tbody tr th:only-of-type {\n",
       "        vertical-align: middle;\n",
       "    }\n",
       "\n",
       "    .dataframe tbody tr th {\n",
       "        vertical-align: top;\n",
       "    }\n",
       "\n",
       "    .dataframe thead th {\n",
       "        text-align: right;\n",
       "    }\n",
       "</style>\n",
       "<table border=\"1\" class=\"dataframe\">\n",
       "  <thead>\n",
       "    <tr style=\"text-align: right;\">\n",
       "      <th></th>\n",
       "      <th>amount</th>\n",
       "      <th>points</th>\n",
       "    </tr>\n",
       "  </thead>\n",
       "  <tbody>\n",
       "    <tr>\n",
       "      <th>count</th>\n",
       "      <td>3.485090e+05</td>\n",
       "      <td>348509.000000</td>\n",
       "    </tr>\n",
       "    <tr>\n",
       "      <th>mean</th>\n",
       "      <td>2.976083e+03</td>\n",
       "      <td>32.307199</td>\n",
       "    </tr>\n",
       "    <tr>\n",
       "      <th>std</th>\n",
       "      <td>1.108421e+04</td>\n",
       "      <td>124.150136</td>\n",
       "    </tr>\n",
       "    <tr>\n",
       "      <th>min</th>\n",
       "      <td>0.000000e+00</td>\n",
       "      <td>0.000000</td>\n",
       "    </tr>\n",
       "    <tr>\n",
       "      <th>25%</th>\n",
       "      <td>2.780000e+02</td>\n",
       "      <td>2.920000</td>\n",
       "    </tr>\n",
       "    <tr>\n",
       "      <th>50%</th>\n",
       "      <td>9.650000e+02</td>\n",
       "      <td>9.990000</td>\n",
       "    </tr>\n",
       "    <tr>\n",
       "      <th>75%</th>\n",
       "      <td>2.642000e+03</td>\n",
       "      <td>27.990000</td>\n",
       "    </tr>\n",
       "    <tr>\n",
       "      <th>max</th>\n",
       "      <td>1.330000e+06</td>\n",
       "      <td>13300.000000</td>\n",
       "    </tr>\n",
       "  </tbody>\n",
       "</table>\n",
       "</div>"
      ],
      "text/plain": [
       "             amount         points\n",
       "count  3.485090e+05  348509.000000\n",
       "mean   2.976083e+03      32.307199\n",
       "std    1.108421e+04     124.150136\n",
       "min    0.000000e+00       0.000000\n",
       "25%    2.780000e+02       2.920000\n",
       "50%    9.650000e+02       9.990000\n",
       "75%    2.642000e+03      27.990000\n",
       "max    1.330000e+06   13300.000000"
      ]
     },
     "execution_count": 59,
     "metadata": {},
     "output_type": "execute_result"
    }
   ],
   "source": [
    "df.describe()\n",
    "#Mean of the Amount transactioned is 2961.82\n",
    "#Min is 0 and Max is 1330000 {Thirteen Lakhs Thirty Thousand}\n",
    "#75% of the values are under 2630\n"
   ]
  },
  {
   "cell_type": "markdown",
   "metadata": {},
   "source": [
    "WE Can infer that most of the transactions are low valued.\n",
    "High valued transactions are mostly rare and are outliers"
   ]
  },
  {
   "cell_type": "code",
   "execution_count": 60,
   "metadata": {},
   "outputs": [],
   "source": [
    "import seaborn as sns"
   ]
  },
  {
   "cell_type": "code",
   "execution_count": 61,
   "metadata": {},
   "outputs": [
    {
     "data": {
      "image/png": "[encoded data removed]",
      "text/plain": [
       "<Figure size 432x288 with 1 Axes>"
      ]
     },
     "metadata": {
      "needs_background": "light"
     },
     "output_type": "display_data"
    }
   ],
   "source": [
    "sns.distplot(df['points'],hist=True) #we're not getting the clear histogram,because the distribution is biasex\n",
    "plt.show()"
   ]
  },
  {
   "cell_type": "code",
   "execution_count": 62,
   "metadata": {},
   "outputs": [
    {
     "data": {
      "text/plain": [
       "<matplotlib.axes._subplots.AxesSubplot at 0x224a65497f0>"
      ]
     },
     "execution_count": 62,
     "metadata": {},
     "output_type": "execute_result"
    },
    {
     "data": {
      "image/png": "[encoded data removed]",
      "text/plain": [
       "<Figure size 432x288 with 1 Axes>"
      ]
     },
     "metadata": {
      "needs_background": "light"
     },
     "output_type": "display_data"
    }
   ],
   "source": [
    "df['points'].hist(bins=10)"
   ]
  },
  {
   "cell_type": "code",
   "execution_count": 63,
   "metadata": {},
   "outputs": [
    {
     "data": {
      "text/html": [
       "<div>\n",
       "<style scoped>\n",
       "    .dataframe tbody tr th:only-of-type {\n",
       "        vertical-align: middle;\n",
       "    }\n",
       "\n",
       "    .dataframe tbody tr th {\n",
       "        vertical-align: top;\n",
       "    }\n",
       "\n",
       "    .dataframe thead th {\n",
       "        text-align: right;\n",
       "    }\n",
       "</style>\n",
       "<table border=\"1\" class=\"dataframe\">\n",
       "  <thead>\n",
       "    <tr style=\"text-align: right;\">\n",
       "      <th></th>\n",
       "      <th>amount</th>\n",
       "      <th>points</th>\n",
       "    </tr>\n",
       "  </thead>\n",
       "  <tbody>\n",
       "    <tr>\n",
       "      <th>amount</th>\n",
       "      <td>1.000000</td>\n",
       "      <td>0.965405</td>\n",
       "    </tr>\n",
       "    <tr>\n",
       "      <th>points</th>\n",
       "      <td>0.965405</td>\n",
       "      <td>1.000000</td>\n",
       "    </tr>\n",
       "  </tbody>\n",
       "</table>\n",
       "</div>"
      ],
      "text/plain": [
       "          amount    points\n",
       "amount  1.000000  0.965405\n",
       "points  0.965405  1.000000"
      ]
     },
     "execution_count": 63,
     "metadata": {},
     "output_type": "execute_result"
    }
   ],
   "source": [
    "df.corr() #There is a high co-relation between Amount and points "
   ]
  },
  {
   "cell_type": "markdown",
   "metadata": {},
   "source": [
    "customers earn 1 point for each 100 bucks of transaction"
   ]
  },
  {
   "cell_type": "code",
   "execution_count": 64,
   "metadata": {},
   "outputs": [
    {
     "data": {
      "text/plain": [
       "<matplotlib.axes._subplots.AxesSubplot at 0x224a63d8c50>"
      ]
     },
     "execution_count": 64,
     "metadata": {},
     "output_type": "execute_result"
    },
    {
     "data": {
      "image/png": "[encoded data removed]",
      "text/plain": [
       "<Figure size 432x288 with 1 Axes>"
      ]
     },
     "metadata": {
      "needs_background": "light"
     },
     "output_type": "display_data"
    }
   ],
   "source": [
    "sns.boxplot(df['points'])"
   ]
  },
  {
   "cell_type": "code",
   "execution_count": 65,
   "metadata": {},
   "outputs": [
    {
     "data": {
      "text/plain": [
       "<matplotlib.axes._subplots.AxesSubplot at 0x224a669b3c8>"
      ]
     },
     "execution_count": 65,
     "metadata": {},
     "output_type": "execute_result"
    },
    {
     "data": {
      "image/png": "[encoded data removed]",
      "text/plain": [
       "<Figure size 432x288 with 1 Axes>"
      ]
     },
     "metadata": {
      "needs_background": "light"
     },
     "output_type": "display_data"
    }
   ],
   "source": [
    "sns.boxplot(df['amount']) #Boxplot shows the distribution is biased towards a lower range"
   ]
  },
  {
   "cell_type": "code",
   "execution_count": 66,
   "metadata": {},
   "outputs": [
    {
     "data": {
      "text/plain": [
       "240975802340    2541\n",
       "256947967425    2242\n",
       "256608695427    1942\n",
       "259472473372    1829\n",
       "255283145507    1771\n",
       "260449806289    1743\n",
       "196141256469    1501\n",
       "256949578418    1430\n",
       "256613023470    1188\n",
       "255207440548    1115\n",
       "184089683800    1112\n",
       "243607556755    1103\n",
       "256592682127    1073\n",
       "255285716438    1050\n",
       "257907631184    1023\n",
       "Name: customer_id, dtype: int64"
      ]
     },
     "execution_count": 66,
     "metadata": {},
     "output_type": "execute_result"
    }
   ],
   "source": [
    "df['customer_id'].value_counts()[df['customer_id'].value_counts()>1000] \n",
    "#Top contributor on transactions"
   ]
  },
  {
   "cell_type": "code",
   "execution_count": 67,
   "metadata": {},
   "outputs": [
    {
     "data": {
      "text/html": [
       "<div>\n",
       "<style scoped>\n",
       "    .dataframe tbody tr th:only-of-type {\n",
       "        vertical-align: middle;\n",
       "    }\n",
       "\n",
       "    .dataframe tbody tr th {\n",
       "        vertical-align: top;\n",
       "    }\n",
       "\n",
       "    .dataframe thead th {\n",
       "        text-align: right;\n",
       "    }\n",
       "</style>\n",
       "<table border=\"1\" class=\"dataframe\">\n",
       "  <thead>\n",
       "    <tr style=\"text-align: right;\">\n",
       "      <th></th>\n",
       "      <th>billing_timestamp</th>\n",
       "      <th>amount</th>\n",
       "      <th>points</th>\n",
       "      <th>store_code</th>\n",
       "      <th>customer_id</th>\n",
       "      <th>created_at</th>\n",
       "      <th>gender</th>\n",
       "      <th>state</th>\n",
       "      <th>tier</th>\n",
       "      <th>store_name</th>\n",
       "      <th>store_location</th>\n",
       "      <th>store_category</th>\n",
       "      <th>store_PriceCategory</th>\n",
       "    </tr>\n",
       "  </thead>\n",
       "  <tbody>\n",
       "    <tr>\n",
       "      <th>54947</th>\n",
       "      <td>2015-10-09 01:43:00+05:30</td>\n",
       "      <td>1203.0</td>\n",
       "      <td>12.03</td>\n",
       "      <td>IMM00183</td>\n",
       "      <td>240975802340</td>\n",
       "      <td>2019-03-19 15:48:43+05:30</td>\n",
       "      <td>Male</td>\n",
       "      <td>Maharashtra</td>\n",
       "      <td>Gold Member</td>\n",
       "      <td>Streetside Store</td>\n",
       "      <td>Emerald Mall</td>\n",
       "      <td>Kids Fashion,Accessories,Women's Fashion,Men's...</td>\n",
       "      <td>Premium</td>\n",
       "    </tr>\n",
       "    <tr>\n",
       "      <th>54948</th>\n",
       "      <td>2015-10-09 01:43:00+05:30</td>\n",
       "      <td>113.0</td>\n",
       "      <td>1.13</td>\n",
       "      <td>NA-IMM0022</td>\n",
       "      <td>240975802340</td>\n",
       "      <td>2019-03-19 15:48:43+05:30</td>\n",
       "      <td>Male</td>\n",
       "      <td>Maharashtra</td>\n",
       "      <td>Gold Member</td>\n",
       "      <td>Cafe Telaviv</td>\n",
       "      <td>Emerald Mall</td>\n",
       "      <td>Food &amp; Beverage</td>\n",
       "      <td>Premium</td>\n",
       "    </tr>\n",
       "    <tr>\n",
       "      <th>56940</th>\n",
       "      <td>2015-10-29 01:44:00+05:30</td>\n",
       "      <td>280.0</td>\n",
       "      <td>2.80</td>\n",
       "      <td>IMM00094</td>\n",
       "      <td>240975802340</td>\n",
       "      <td>2019-03-19 15:48:43+05:30</td>\n",
       "      <td>Male</td>\n",
       "      <td>Maharashtra</td>\n",
       "      <td>Gold Member</td>\n",
       "      <td>Guardwell Pharma</td>\n",
       "      <td>Emerald Mall</td>\n",
       "      <td>Health &amp; Wellness</td>\n",
       "      <td>Value</td>\n",
       "    </tr>\n",
       "    <tr>\n",
       "      <th>56941</th>\n",
       "      <td>2015-10-29 01:44:00+05:30</td>\n",
       "      <td>560.0</td>\n",
       "      <td>5.60</td>\n",
       "      <td>NA-IMM0022</td>\n",
       "      <td>240975802340</td>\n",
       "      <td>2019-03-19 15:48:43+05:30</td>\n",
       "      <td>Male</td>\n",
       "      <td>Maharashtra</td>\n",
       "      <td>Gold Member</td>\n",
       "      <td>Cafe Telaviv</td>\n",
       "      <td>Emerald Mall</td>\n",
       "      <td>Food &amp; Beverage</td>\n",
       "      <td>Premium</td>\n",
       "    </tr>\n",
       "    <tr>\n",
       "      <th>57509</th>\n",
       "      <td>2015-11-03 15:15:00+05:30</td>\n",
       "      <td>1294.0</td>\n",
       "      <td>12.94</td>\n",
       "      <td>IMM00061</td>\n",
       "      <td>240975802340</td>\n",
       "      <td>2019-03-19 15:48:43+05:30</td>\n",
       "      <td>Male</td>\n",
       "      <td>Maharashtra</td>\n",
       "      <td>Gold Member</td>\n",
       "      <td>Lal Mahal</td>\n",
       "      <td>Emerald Mall</td>\n",
       "      <td>Food &amp; Beverage</td>\n",
       "      <td>Premium</td>\n",
       "    </tr>\n",
       "  </tbody>\n",
       "</table>\n",
       "</div>"
      ],
      "text/plain": [
       "              billing_timestamp  amount  points  store_code   customer_id  \\\n",
       "54947 2015-10-09 01:43:00+05:30  1203.0   12.03    IMM00183  240975802340   \n",
       "54948 2015-10-09 01:43:00+05:30   113.0    1.13  NA-IMM0022  240975802340   \n",
       "56940 2015-10-29 01:44:00+05:30   280.0    2.80    IMM00094  240975802340   \n",
       "56941 2015-10-29 01:44:00+05:30   560.0    5.60  NA-IMM0022  240975802340   \n",
       "57509 2015-11-03 15:15:00+05:30  1294.0   12.94    IMM00061  240975802340   \n",
       "\n",
       "                     created_at gender        state         tier  \\\n",
       "54947 2019-03-19 15:48:43+05:30   Male  Maharashtra  Gold Member   \n",
       "54948 2019-03-19 15:48:43+05:30   Male  Maharashtra  Gold Member   \n",
       "56940 2019-03-19 15:48:43+05:30   Male  Maharashtra  Gold Member   \n",
       "56941 2019-03-19 15:48:43+05:30   Male  Maharashtra  Gold Member   \n",
       "57509 2019-03-19 15:48:43+05:30   Male  Maharashtra  Gold Member   \n",
       "\n",
       "             store_name store_location  \\\n",
       "54947  Streetside Store   Emerald Mall   \n",
       "54948      Cafe Telaviv   Emerald Mall   \n",
       "56940  Guardwell Pharma   Emerald Mall   \n",
       "56941      Cafe Telaviv   Emerald Mall   \n",
       "57509         Lal Mahal   Emerald Mall   \n",
       "\n",
       "                                          store_category store_PriceCategory  \n",
       "54947  Kids Fashion,Accessories,Women's Fashion,Men's...             Premium  \n",
       "54948                                    Food & Beverage             Premium  \n",
       "56940                                  Health & Wellness               Value  \n",
       "56941                                    Food & Beverage             Premium  \n",
       "57509                                    Food & Beverage             Premium  "
      ]
     },
     "execution_count": 67,
     "metadata": {},
     "output_type": "execute_result"
    }
   ],
   "source": [
    "#Customer with more transactionso.\n",
    "df[df['customer_id']=='240975802340'].head()"
   ]
  },
  {
   "cell_type": "code",
   "execution_count": 68,
   "metadata": {},
   "outputs": [
    {
     "data": {
      "text/plain": [
       "1731998.22"
      ]
     },
     "execution_count": 68,
     "metadata": {},
     "output_type": "execute_result"
    }
   ],
   "source": [
    "df[df['customer_id']=='240975802340']['amount'].sum()"
   ]
  },
  {
   "cell_type": "code",
   "execution_count": 69,
   "metadata": {},
   "outputs": [
    {
     "data": {
      "text/plain": [
       "18463.78"
      ]
     },
     "execution_count": 69,
     "metadata": {},
     "output_type": "execute_result"
    }
   ],
   "source": [
    "df[df['customer_id']=='240975802340']['points'].sum()"
   ]
  },
  {
   "cell_type": "code",
   "execution_count": 70,
   "metadata": {},
   "outputs": [
    {
     "data": {
      "text/plain": [
       "Emerald Mall    2541\n",
       "Name: store_location, dtype: int64"
      ]
     },
     "execution_count": 70,
     "metadata": {},
     "output_type": "execute_result"
    }
   ],
   "source": [
    "df[df['customer_id']=='240975802340']['store_location'].value_counts()"
   ]
  },
  {
   "cell_type": "code",
   "execution_count": 71,
   "metadata": {},
   "outputs": [
    {
     "data": {
      "text/plain": [
       "Food & Beverage                                                                                                                              1885\n",
       "Electronics,Kids Fashion,Accessories,Grocery & Household,Home & Lifestyle,Women's Fashion,Men's Fashion,Books and Stationery,Gifts & Toys     382\n",
       "Unknown                                                                                                                                        86\n",
       "Beauty & Grooming                                                                                                                              42\n",
       "Kids Fashion,Accessories,Women's Fashion,Men's Fashion                                                                                         32\n",
       "Women's Fashion                                                                                                                                25\n",
       "Entertainment & Leisure                                                                                                                        21\n",
       "Health & Wellness                                                                                                                              20\n",
       "Women's Fashion,Men's Fashion                                                                                                                  16\n",
       "Electronics                                                                                                                                    13\n",
       "Home & Lifestyle                                                                                                                                6\n",
       "Sports & Fitness,Women's Fashion,Men's Fashion                                                                                                  4\n",
       "Men's Fashion                                                                                                                                   3\n",
       "Accessories,Women's Fashion,Men's Fashion                                                                                                       3\n",
       "Kids Fashion,Women's Fashion,Men's Fashion                                                                                                      1\n",
       "Accessories,Men's Fashion                                                                                                                       1\n",
       "Kids Fashion                                                                                                                                    1\n",
       "Name: store_category, dtype: int64"
      ]
     },
     "execution_count": 71,
     "metadata": {},
     "output_type": "execute_result"
    }
   ],
   "source": [
    "df[df['customer_id']=='240975802340']['store_category'].value_counts()"
   ]
  },
  {
   "cell_type": "code",
   "execution_count": 72,
   "metadata": {},
   "outputs": [
    {
     "data": {
      "text/plain": [
       "Premium          1430\n",
       "Value            1110\n",
       "Super Premium       1\n",
       "Name: store_PriceCategory, dtype: int64"
      ]
     },
     "execution_count": 72,
     "metadata": {},
     "output_type": "execute_result"
    }
   ],
   "source": [
    "df[df['customer_id']=='240975802340']['store_PriceCategory'].value_counts()"
   ]
  },
  {
   "cell_type": "markdown",
   "metadata": {},
   "source": [
    "Customer with customer ID \"240975802340\" has made the highest transaction\n",
    "He has totally spent an amount of 1744731 during his whole course of transactions in this 60 months and he earned 18592 points.\n",
    "And He made his every transactions on Emerald Mall\n",
    "He mostly spent on Food and Beverages and made purchase of Electronics\n",
    "And This Gold member mostly made his transactions on Premium Stores.\n",
    "\n"
   ]
  },
  {
   "cell_type": "code",
   "execution_count": 73,
   "metadata": {},
   "outputs": [
    {
     "data": {
      "text/plain": [
       "['Blue Member', 'Silver Member', 'Gold Member', 'Platinum Member']"
      ]
     },
     "execution_count": 73,
     "metadata": {},
     "output_type": "execute_result"
    }
   ],
   "source": [
    "t=df['tier'].value_counts().reset_index()\n",
    "t['index'].tolist()"
   ]
  },
  {
   "cell_type": "code",
   "execution_count": 74,
   "metadata": {},
   "outputs": [
    {
     "data": {
      "image/png": "[encoded data removed]",
      "text/plain": [
       "<Figure size 432x288 with 1 Axes>"
      ]
     },
     "metadata": {
      "needs_background": "light"
     },
     "output_type": "display_data"
    }
   ],
   "source": [
    "plt.bar(t.index,t.tier)\n",
    "plt.title('Transactions on different tiers')\n",
    "plt.xticks([0,1,2,3],t['index'])\n",
    "plt.show()"
   ]
  },
  {
   "cell_type": "code",
   "execution_count": 75,
   "metadata": {},
   "outputs": [
    {
     "data": {
      "text/plain": [
       "Text(0.5, 1.0, 'No. of Transactions vs Malls')"
      ]
     },
     "execution_count": 75,
     "metadata": {},
     "output_type": "execute_result"
    },
    {
     "data": {
      "image/png": "[encoded data removed]",
      "text/plain": [
       "<Figure size 432x288 with 1 Axes>"
      ]
     },
     "metadata": {
      "needs_background": "light"
     },
     "output_type": "display_data"
    }
   ],
   "source": [
    "df['store_location'].value_counts().reset_index().plot(kind='bar')\n",
    "plt.xticks([0,1],df['store_location'].value_counts().reset_index()['index'])\n",
    "plt.title('No. of Transactions vs Malls')"
   ]
  },
  {
   "cell_type": "code",
   "execution_count": 76,
   "metadata": {},
   "outputs": [
    {
     "data": {
      "text/plain": [
       "Food & Beverage                                                                                                                              79623\n",
       "Grocery & Household                                                                                                                          46229\n",
       "Electronics,Kids Fashion,Accessories,Grocery & Household,Home & Lifestyle,Women's Fashion,Men's Fashion,Books and Stationery,Gifts & Toys    37330\n",
       "Women's Fashion                                                                                                                              29570\n",
       "Kids Fashion,Accessories,Women's Fashion,Men's Fashion                                                                                       27541\n",
       "Women's Fashion,Men's Fashion                                                                                                                26811\n",
       "Unknown                                                                                                                                      18635\n",
       "Accessories,Women's Fashion,Men's Fashion                                                                                                    13657\n",
       "Entertainment & Leisure                                                                                                                      11829\n",
       "Beauty & Grooming                                                                                                                             8882\n",
       "Men's Fashion                                                                                                                                 8626\n",
       "Home & Lifestyle                                                                                                                              7296\n",
       "Electronics                                                                                                                                   7205\n",
       "Sports & Fitness,Women's Fashion,Men's Fashion                                                                                                4351\n",
       "Gifts & Toys                                                                                                                                  4107\n",
       "Kids Fashion                                                                                                                                  3387\n",
       "Health & Wellness                                                                                                                             2775\n",
       "Accessories,Women's Fashion                                                                                                                   2242\n",
       "Accessories,Jewellery,Women's Fashion                                                                                                         1328\n",
       "Accessories,Sports & Fitness,Women's Fashion,Men's Fashion                                                                                    1155\n",
       "Kids Fashion,Women's Fashion,Men's Fashion                                                                                                    1006\n",
       "Books and Stationery,Gifts & Toys                                                                                                              740\n",
       "Travel                                                                                                                                         701\n",
       "Food & Beverage,Grocery & Household                                                                                                            697\n",
       "Electronics,Entertainment & Leisure                                                                                                            488\n",
       "Accessories,Gifts & Toys                                                                                                                       385\n",
       "Travel,Accessories,Sports & Fitness                                                                                                            314\n",
       "Jewellery                                                                                                                                      286\n",
       "Accessories                                                                                                                                    263\n",
       "Books and Stationery,Gifts & Toys                                                                                                              258\n",
       "Accessories,Men's Fashion                                                                                                                      256\n",
       "Parking                                                                                                                                        233\n",
       "Sports & Fitness                                                                                                                               200\n",
       "Kids Fashion,Accessories                                                                                                                        64\n",
       "Accessories,Jewellery                                                                                                                           34\n",
       "Jewellery,Gifts & Toys                                                                                                                           4\n",
       "Sports & Fitness,Women's Fashion,Men's Fashion                                                                                                   1\n",
       "Name: store_category, dtype: int64"
      ]
     },
     "execution_count": 76,
     "metadata": {},
     "output_type": "execute_result"
    }
   ],
   "source": [
    "df['store_category'].value_counts() #Transactions vs Store category"
   ]
  },
  {
   "cell_type": "code",
   "execution_count": 77,
   "metadata": {},
   "outputs": [
    {
     "data": {
      "text/plain": [
       "Text(0.5, 1.0, 'Number of Transactions vs Store_PriceCategory')"
      ]
     },
     "execution_count": 77,
     "metadata": {},
     "output_type": "execute_result"
    },
    {
     "data": {
      "image/png": "[encoded data removed]",
      "text/plain": [
       "<Figure size 432x288 with 1 Axes>"
      ]
     },
     "metadata": {
      "needs_background": "light"
     },
     "output_type": "display_data"
    }
   ],
   "source": [
    "df['store_PriceCategory'].value_counts()\n",
    "df['store_PriceCategory'].value_counts().reset_index().plot(kind='bar')\n",
    "plt.xticks([0,1,2],df['store_PriceCategory'].value_counts().reset_index()['index'])\n",
    "plt.title('Number of Transactions vs Store_PriceCategory')"
   ]
  },
  {
   "cell_type": "markdown",
   "metadata": {},
   "source": [
    "BiVariate Analysis"
   ]
  },
  {
   "cell_type": "code",
   "execution_count": null,
   "metadata": {},
   "outputs": [],
   "source": []
  },
  {
   "cell_type": "code",
   "execution_count": 78,
   "metadata": {},
   "outputs": [],
   "source": [
    "#Extracting YearMonth from the billing_timestamp\n",
    "df['Year_Month']=df['billing_timestamp'].map(lambda x : 100*x.year+x.month)"
   ]
  },
  {
   "cell_type": "code",
   "execution_count": 79,
   "metadata": {
    "scrolled": true
   },
   "outputs": [
    {
     "data": {
      "text/plain": [
       "array([201410, 201411, 201412, 201501, 201502, 201503, 201504, 201505,\n",
       "       201506, 201507, 201508, 201509, 201510, 201511, 201512, 201601,\n",
       "       201602, 201603, 201604, 201605, 201606, 201607, 201608, 201609,\n",
       "       201610, 201611, 201612, 201701, 201702, 201703, 201704, 201705,\n",
       "       201706, 201707, 201708, 201709, 201710, 201711, 201712, 201801,\n",
       "       201802, 201803, 201804, 201805, 201806, 201807, 201808, 201809,\n",
       "       201810, 201811, 201812, 201901, 201902, 201903, 201904, 201905,\n",
       "       201906, 206206, 201907, 201908], dtype=int64)"
      ]
     },
     "execution_count": 79,
     "metadata": {},
     "output_type": "execute_result"
    }
   ],
   "source": [
    "df['Year_Month'].unique()"
   ]
  },
  {
   "cell_type": "raw",
   "metadata": {},
   "source": [
    "Transaction Data is distributed from October 2014 to August 2019 (60 months)"
   ]
  },
  {
   "cell_type": "code",
   "execution_count": 80,
   "metadata": {},
   "outputs": [],
   "source": [
    "#There is a year 2062 #We need to drop that"
   ]
  },
  {
   "cell_type": "code",
   "execution_count": 81,
   "metadata": {},
   "outputs": [
    {
     "data": {
      "text/html": [
       "<div>\n",
       "<style scoped>\n",
       "    .dataframe tbody tr th:only-of-type {\n",
       "        vertical-align: middle;\n",
       "    }\n",
       "\n",
       "    .dataframe tbody tr th {\n",
       "        vertical-align: top;\n",
       "    }\n",
       "\n",
       "    .dataframe thead th {\n",
       "        text-align: right;\n",
       "    }\n",
       "</style>\n",
       "<table border=\"1\" class=\"dataframe\">\n",
       "  <thead>\n",
       "    <tr style=\"text-align: right;\">\n",
       "      <th></th>\n",
       "      <th>billing_timestamp</th>\n",
       "      <th>amount</th>\n",
       "      <th>points</th>\n",
       "      <th>store_code</th>\n",
       "      <th>customer_id</th>\n",
       "      <th>created_at</th>\n",
       "      <th>gender</th>\n",
       "      <th>state</th>\n",
       "      <th>tier</th>\n",
       "      <th>store_name</th>\n",
       "      <th>store_location</th>\n",
       "      <th>store_category</th>\n",
       "      <th>store_PriceCategory</th>\n",
       "      <th>Year_Month</th>\n",
       "    </tr>\n",
       "  </thead>\n",
       "  <tbody>\n",
       "    <tr>\n",
       "      <th>340092</th>\n",
       "      <td>2062-06-01 00:00:00+05:30</td>\n",
       "      <td>130.0</td>\n",
       "      <td>1.3</td>\n",
       "      <td>IMM00112</td>\n",
       "      <td>229082518626</td>\n",
       "      <td>2019-03-19 16:02:12+05:30</td>\n",
       "      <td>Unknown</td>\n",
       "      <td>Maharashtra</td>\n",
       "      <td>Blue Member</td>\n",
       "      <td>The Malnad Coast</td>\n",
       "      <td>Emerald Mall</td>\n",
       "      <td>Food &amp; Beverage</td>\n",
       "      <td>Value</td>\n",
       "      <td>206206</td>\n",
       "    </tr>\n",
       "  </tbody>\n",
       "</table>\n",
       "</div>"
      ],
      "text/plain": [
       "               billing_timestamp  amount  points store_code   customer_id  \\\n",
       "340092 2062-06-01 00:00:00+05:30   130.0     1.3   IMM00112  229082518626   \n",
       "\n",
       "                      created_at   gender        state         tier  \\\n",
       "340092 2019-03-19 16:02:12+05:30  Unknown  Maharashtra  Blue Member   \n",
       "\n",
       "              store_name store_location   store_category store_PriceCategory  \\\n",
       "340092  The Malnad Coast   Emerald Mall  Food & Beverage               Value   \n",
       "\n",
       "        Year_Month  \n",
       "340092      206206  "
      ]
     },
     "execution_count": 81,
     "metadata": {},
     "output_type": "execute_result"
    }
   ],
   "source": [
    "df[df['Year_Month']==206206]"
   ]
  },
  {
   "cell_type": "code",
   "execution_count": 82,
   "metadata": {},
   "outputs": [],
   "source": [
    "df=df[df['Year_Month']!=206206]"
   ]
  },
  {
   "cell_type": "code",
   "execution_count": 83,
   "metadata": {},
   "outputs": [
    {
     "data": {
      "text/html": [
       "<div>\n",
       "<style scoped>\n",
       "    .dataframe tbody tr th:only-of-type {\n",
       "        vertical-align: middle;\n",
       "    }\n",
       "\n",
       "    .dataframe tbody tr th {\n",
       "        vertical-align: top;\n",
       "    }\n",
       "\n",
       "    .dataframe thead th {\n",
       "        text-align: right;\n",
       "    }\n",
       "</style>\n",
       "<table border=\"1\" class=\"dataframe\">\n",
       "  <thead>\n",
       "    <tr style=\"text-align: right;\">\n",
       "      <th></th>\n",
       "      <th>billing_timestamp</th>\n",
       "      <th>amount</th>\n",
       "      <th>points</th>\n",
       "      <th>store_code</th>\n",
       "      <th>customer_id</th>\n",
       "      <th>created_at</th>\n",
       "      <th>gender</th>\n",
       "      <th>state</th>\n",
       "      <th>tier</th>\n",
       "      <th>store_name</th>\n",
       "      <th>store_location</th>\n",
       "      <th>store_category</th>\n",
       "      <th>store_PriceCategory</th>\n",
       "      <th>Year_Month</th>\n",
       "    </tr>\n",
       "  </thead>\n",
       "  <tbody>\n",
       "    <tr>\n",
       "      <th>0</th>\n",
       "      <td>2014-10-20 22:38:00+05:30</td>\n",
       "      <td>3200.0</td>\n",
       "      <td>32.0</td>\n",
       "      <td>IMA00001</td>\n",
       "      <td>256622493374</td>\n",
       "      <td>2019-03-19 15:37:22+05:30</td>\n",
       "      <td>Male</td>\n",
       "      <td>Maharashtra</td>\n",
       "      <td>Blue Member</td>\n",
       "      <td>Sprinkles</td>\n",
       "      <td>Diamond Mall</td>\n",
       "      <td>Accessories,Jewellery,Women's Fashion</td>\n",
       "      <td>Premium</td>\n",
       "      <td>201410</td>\n",
       "    </tr>\n",
       "    <tr>\n",
       "      <th>1</th>\n",
       "      <td>2014-10-20 22:38:00+05:30</td>\n",
       "      <td>2000.0</td>\n",
       "      <td>20.0</td>\n",
       "      <td>IMM00003</td>\n",
       "      <td>212411292920</td>\n",
       "      <td>2019-03-19 15:37:24+05:30</td>\n",
       "      <td>Male</td>\n",
       "      <td>Kerala</td>\n",
       "      <td>Blue Member</td>\n",
       "      <td>Das Shoes</td>\n",
       "      <td>Emerald Mall</td>\n",
       "      <td>Accessories,Sports &amp; Fitness,Women's Fashion,M...</td>\n",
       "      <td>Premium</td>\n",
       "      <td>201410</td>\n",
       "    </tr>\n",
       "    <tr>\n",
       "      <th>2</th>\n",
       "      <td>2014-10-20 22:38:00+05:30</td>\n",
       "      <td>1000.0</td>\n",
       "      <td>10.0</td>\n",
       "      <td>NA-IMA0048</td>\n",
       "      <td>256583467853</td>\n",
       "      <td>2019-03-19 15:37:23+05:30</td>\n",
       "      <td>Male</td>\n",
       "      <td>Maharashtra</td>\n",
       "      <td>Blue Member</td>\n",
       "      <td>Gameon!</td>\n",
       "      <td>Diamond Mall</td>\n",
       "      <td>Electronics,Entertainment &amp; Leisure</td>\n",
       "      <td>Premium</td>\n",
       "      <td>201410</td>\n",
       "    </tr>\n",
       "    <tr>\n",
       "      <th>3</th>\n",
       "      <td>2014-10-20 22:38:00+05:30</td>\n",
       "      <td>5000.0</td>\n",
       "      <td>50.0</td>\n",
       "      <td>IMA00007</td>\n",
       "      <td>256583467853</td>\n",
       "      <td>2019-03-19 15:37:23+05:30</td>\n",
       "      <td>Male</td>\n",
       "      <td>Maharashtra</td>\n",
       "      <td>Blue Member</td>\n",
       "      <td>Das Shoes</td>\n",
       "      <td>Diamond Mall</td>\n",
       "      <td>Accessories,Sports &amp; Fitness,Women's Fashion,M...</td>\n",
       "      <td>Premium</td>\n",
       "      <td>201410</td>\n",
       "    </tr>\n",
       "    <tr>\n",
       "      <th>4</th>\n",
       "      <td>2014-10-20 22:38:00+05:30</td>\n",
       "      <td>80000.0</td>\n",
       "      <td>800.0</td>\n",
       "      <td>NA-IMA0014</td>\n",
       "      <td>256583467853</td>\n",
       "      <td>2019-03-19 15:37:23+05:30</td>\n",
       "      <td>Male</td>\n",
       "      <td>Maharashtra</td>\n",
       "      <td>Blue Member</td>\n",
       "      <td>Cuffs</td>\n",
       "      <td>Diamond Mall</td>\n",
       "      <td>Men's Fashion</td>\n",
       "      <td>Premium</td>\n",
       "      <td>201410</td>\n",
       "    </tr>\n",
       "  </tbody>\n",
       "</table>\n",
       "</div>"
      ],
      "text/plain": [
       "          billing_timestamp   amount  points  store_code   customer_id  \\\n",
       "0 2014-10-20 22:38:00+05:30   3200.0    32.0    IMA00001  256622493374   \n",
       "1 2014-10-20 22:38:00+05:30   2000.0    20.0    IMM00003  212411292920   \n",
       "2 2014-10-20 22:38:00+05:30   1000.0    10.0  NA-IMA0048  256583467853   \n",
       "3 2014-10-20 22:38:00+05:30   5000.0    50.0    IMA00007  256583467853   \n",
       "4 2014-10-20 22:38:00+05:30  80000.0   800.0  NA-IMA0014  256583467853   \n",
       "\n",
       "                 created_at gender        state         tier store_name  \\\n",
       "0 2019-03-19 15:37:22+05:30   Male  Maharashtra  Blue Member  Sprinkles   \n",
       "1 2019-03-19 15:37:24+05:30   Male       Kerala  Blue Member  Das Shoes   \n",
       "2 2019-03-19 15:37:23+05:30   Male  Maharashtra  Blue Member    Gameon!   \n",
       "3 2019-03-19 15:37:23+05:30   Male  Maharashtra  Blue Member  Das Shoes   \n",
       "4 2019-03-19 15:37:23+05:30   Male  Maharashtra  Blue Member      Cuffs   \n",
       "\n",
       "  store_location                                     store_category  \\\n",
       "0   Diamond Mall              Accessories,Jewellery,Women's Fashion   \n",
       "1   Emerald Mall  Accessories,Sports & Fitness,Women's Fashion,M...   \n",
       "2   Diamond Mall                Electronics,Entertainment & Leisure   \n",
       "3   Diamond Mall  Accessories,Sports & Fitness,Women's Fashion,M...   \n",
       "4   Diamond Mall                                      Men's Fashion   \n",
       "\n",
       "  store_PriceCategory  Year_Month  \n",
       "0             Premium      201410  \n",
       "1             Premium      201410  \n",
       "2             Premium      201410  \n",
       "3             Premium      201410  \n",
       "4             Premium      201410  "
      ]
     },
     "execution_count": 83,
     "metadata": {},
     "output_type": "execute_result"
    }
   ],
   "source": [
    "df.head()"
   ]
  },
  {
   "cell_type": "code",
   "execution_count": 84,
   "metadata": {},
   "outputs": [
    {
     "data": {
      "text/html": [
       "<div>\n",
       "<style scoped>\n",
       "    .dataframe tbody tr th:only-of-type {\n",
       "        vertical-align: middle;\n",
       "    }\n",
       "\n",
       "    .dataframe tbody tr th {\n",
       "        vertical-align: top;\n",
       "    }\n",
       "\n",
       "    .dataframe thead th {\n",
       "        text-align: right;\n",
       "    }\n",
       "</style>\n",
       "<table border=\"1\" class=\"dataframe\">\n",
       "  <thead>\n",
       "    <tr style=\"text-align: right;\">\n",
       "      <th></th>\n",
       "      <th>Year_Month</th>\n",
       "      <th>amount</th>\n",
       "    </tr>\n",
       "  </thead>\n",
       "  <tbody>\n",
       "    <tr>\n",
       "      <th>0</th>\n",
       "      <td>201410</td>\n",
       "      <td>55314202.07</td>\n",
       "    </tr>\n",
       "    <tr>\n",
       "      <th>1</th>\n",
       "      <td>201411</td>\n",
       "      <td>6361142.55</td>\n",
       "    </tr>\n",
       "    <tr>\n",
       "      <th>2</th>\n",
       "      <td>201412</td>\n",
       "      <td>8213137.07</td>\n",
       "    </tr>\n",
       "    <tr>\n",
       "      <th>3</th>\n",
       "      <td>201501</td>\n",
       "      <td>13376994.46</td>\n",
       "    </tr>\n",
       "    <tr>\n",
       "      <th>4</th>\n",
       "      <td>201502</td>\n",
       "      <td>5670653.93</td>\n",
       "    </tr>\n",
       "  </tbody>\n",
       "</table>\n",
       "</div>"
      ],
      "text/plain": [
       "   Year_Month       amount\n",
       "0      201410  55314202.07\n",
       "1      201411   6361142.55\n",
       "2      201412   8213137.07\n",
       "3      201501  13376994.46\n",
       "4      201502   5670653.93"
      ]
     },
     "execution_count": 84,
     "metadata": {},
     "output_type": "execute_result"
    }
   ],
   "source": [
    "#Total Amount Transactioned from Oct 2014 to Aug 2019\n",
    "x=df.groupby(['Year_Month'])['amount'].sum().reset_index()\n",
    "x.head()"
   ]
  },
  {
   "cell_type": "code",
   "execution_count": 85,
   "metadata": {},
   "outputs": [
    {
     "data": {
      "image/png": "[encoded data removed]",
      "text/plain": [
       "<Figure size 648x432 with 1 Axes>"
      ]
     },
     "metadata": {
      "needs_background": "light"
     },
     "output_type": "display_data"
    }
   ],
   "source": [
    "#plotting this\n",
    "plt.figure(figsize=(9,6))\n",
    "plt.plot(x.index,x['amount'])\n",
    "plt.xlabel('Timeline')\n",
    "plt.ylabel('Amount')\n",
    "plt.title('Amount Transactioned Vs Timeline')\n",
    "\n",
    "plt.show()\n"
   ]
  },
  {
   "cell_type": "code",
   "execution_count": 86,
   "metadata": {},
   "outputs": [],
   "source": [
    "df['Year']=df['billing_timestamp'].map(lambda x : x.year)"
   ]
  },
  {
   "cell_type": "code",
   "execution_count": 87,
   "metadata": {},
   "outputs": [
    {
     "data": {
      "text/plain": [
       "2018    86479\n",
       "2017    78122\n",
       "2016    64108\n",
       "2019    54705\n",
       "2015    43049\n",
       "2014    22045\n",
       "Name: Year, dtype: int64"
      ]
     },
     "execution_count": 87,
     "metadata": {},
     "output_type": "execute_result"
    }
   ],
   "source": [
    "df['Year'].value_counts()"
   ]
  },
  {
   "cell_type": "code",
   "execution_count": 88,
   "metadata": {},
   "outputs": [
    {
     "data": {
      "text/plain": [
       "Text(0.5, 1.0, 'Amount Transactioned in different years')"
      ]
     },
     "execution_count": 88,
     "metadata": {},
     "output_type": "execute_result"
    },
    {
     "data": {
      "image/png": "[encoded data removed]",
      "text/plain": [
       "<Figure size 432x288 with 1 Axes>"
      ]
     },
     "metadata": {
      "needs_background": "light"
     },
     "output_type": "display_data"
    }
   ],
   "source": [
    "df.groupby(['Year'])['amount'].sum().reset_index().plot('Year','amount',kind='bar',color='g')\n",
    "plt.title('Amount Transactioned in different years')"
   ]
  },
  {
   "cell_type": "code",
   "execution_count": 89,
   "metadata": {},
   "outputs": [
    {
     "data": {
      "text/html": [
       "<div>\n",
       "<style scoped>\n",
       "    .dataframe tbody tr th:only-of-type {\n",
       "        vertical-align: middle;\n",
       "    }\n",
       "\n",
       "    .dataframe tbody tr th {\n",
       "        vertical-align: top;\n",
       "    }\n",
       "\n",
       "    .dataframe thead th {\n",
       "        text-align: right;\n",
       "    }\n",
       "</style>\n",
       "<table border=\"1\" class=\"dataframe\">\n",
       "  <thead>\n",
       "    <tr style=\"text-align: right;\">\n",
       "      <th></th>\n",
       "      <th>Year</th>\n",
       "      <th>store_location</th>\n",
       "      <th>amount</th>\n",
       "    </tr>\n",
       "  </thead>\n",
       "  <tbody>\n",
       "    <tr>\n",
       "      <th>0</th>\n",
       "      <td>2014</td>\n",
       "      <td>Diamond Mall</td>\n",
       "      <td>17679484.50</td>\n",
       "    </tr>\n",
       "    <tr>\n",
       "      <th>1</th>\n",
       "      <td>2014</td>\n",
       "      <td>Emerald Mall</td>\n",
       "      <td>52131308.19</td>\n",
       "    </tr>\n",
       "    <tr>\n",
       "      <th>2</th>\n",
       "      <td>2014</td>\n",
       "      <td>Unknown</td>\n",
       "      <td>77689.00</td>\n",
       "    </tr>\n",
       "    <tr>\n",
       "      <th>3</th>\n",
       "      <td>2015</td>\n",
       "      <td>Diamond Mall</td>\n",
       "      <td>26178989.38</td>\n",
       "    </tr>\n",
       "    <tr>\n",
       "      <th>4</th>\n",
       "      <td>2015</td>\n",
       "      <td>Emerald Mall</td>\n",
       "      <td>84672725.69</td>\n",
       "    </tr>\n",
       "  </tbody>\n",
       "</table>\n",
       "</div>"
      ],
      "text/plain": [
       "   Year store_location       amount\n",
       "0  2014   Diamond Mall  17679484.50\n",
       "1  2014   Emerald Mall  52131308.19\n",
       "2  2014        Unknown     77689.00\n",
       "3  2015   Diamond Mall  26178989.38\n",
       "4  2015   Emerald Mall  84672725.69"
      ]
     },
     "execution_count": 89,
     "metadata": {},
     "output_type": "execute_result"
    }
   ],
   "source": [
    "c=df.groupby(['Year','store_location'])['amount'].sum().reset_index()\n",
    "c.head()"
   ]
  },
  {
   "cell_type": "code",
   "execution_count": 90,
   "metadata": {},
   "outputs": [
    {
     "data": {
      "image/png": "[encoded data removed]",
      "text/plain": [
       "<Figure size 720x360 with 1 Axes>"
      ]
     },
     "metadata": {
      "needs_background": "light"
     },
     "output_type": "display_data"
    }
   ],
   "source": [
    "plt.figure(figsize=(10,5))\n",
    "sns.barplot('store_location',\"amount\",data=c,hue='Year')\n",
    "\n",
    "plt.title(\"StoreLocation Vs Amount Vs Year\",color='w')\n",
    "plt.show()"
   ]
  },
  {
   "cell_type": "code",
   "execution_count": 91,
   "metadata": {},
   "outputs": [
    {
     "data": {
      "text/html": [
       "<div>\n",
       "<style scoped>\n",
       "    .dataframe tbody tr th:only-of-type {\n",
       "        vertical-align: middle;\n",
       "    }\n",
       "\n",
       "    .dataframe tbody tr th {\n",
       "        vertical-align: top;\n",
       "    }\n",
       "\n",
       "    .dataframe thead th {\n",
       "        text-align: right;\n",
       "    }\n",
       "</style>\n",
       "<table border=\"1\" class=\"dataframe\">\n",
       "  <thead>\n",
       "    <tr style=\"text-align: right;\">\n",
       "      <th></th>\n",
       "      <th>Year</th>\n",
       "      <th>store_PriceCategory</th>\n",
       "      <th>amount</th>\n",
       "    </tr>\n",
       "  </thead>\n",
       "  <tbody>\n",
       "    <tr>\n",
       "      <th>0</th>\n",
       "      <td>2014</td>\n",
       "      <td>Premium</td>\n",
       "      <td>50863874.70</td>\n",
       "    </tr>\n",
       "    <tr>\n",
       "      <th>1</th>\n",
       "      <td>2014</td>\n",
       "      <td>Super Premium</td>\n",
       "      <td>777501.00</td>\n",
       "    </tr>\n",
       "    <tr>\n",
       "      <th>2</th>\n",
       "      <td>2014</td>\n",
       "      <td>Unknown</td>\n",
       "      <td>77689.00</td>\n",
       "    </tr>\n",
       "    <tr>\n",
       "      <th>3</th>\n",
       "      <td>2014</td>\n",
       "      <td>Value</td>\n",
       "      <td>18169416.99</td>\n",
       "    </tr>\n",
       "    <tr>\n",
       "      <th>4</th>\n",
       "      <td>2015</td>\n",
       "      <td>Premium</td>\n",
       "      <td>81179298.67</td>\n",
       "    </tr>\n",
       "  </tbody>\n",
       "</table>\n",
       "</div>"
      ],
      "text/plain": [
       "   Year store_PriceCategory       amount\n",
       "0  2014             Premium  50863874.70\n",
       "1  2014       Super Premium    777501.00\n",
       "2  2014             Unknown     77689.00\n",
       "3  2014               Value  18169416.99\n",
       "4  2015             Premium  81179298.67"
      ]
     },
     "execution_count": 91,
     "metadata": {},
     "output_type": "execute_result"
    }
   ],
   "source": [
    "a=df.groupby(['Year','store_PriceCategory'])['amount'].sum().reset_index()\n",
    "a.head()"
   ]
  },
  {
   "cell_type": "code",
   "execution_count": 92,
   "metadata": {},
   "outputs": [
    {
     "data": {
      "image/png": "[encoded data removed]",
      "text/plain": [
       "<Figure size 720x360 with 1 Axes>"
      ]
     },
     "metadata": {
      "needs_background": "light"
     },
     "output_type": "display_data"
    }
   ],
   "source": [
    "plt.figure(figsize=(10,5))\n",
    "sns.barplot('store_PriceCategory',\"amount\",data=a,hue='Year')\n",
    "\n",
    "plt.title(\"StoreCategory Vs Amount Vs Year\",color='w')\n",
    "plt.show()"
   ]
  },
  {
   "cell_type": "code",
   "execution_count": 93,
   "metadata": {},
   "outputs": [
    {
     "data": {
      "text/html": [
       "<div>\n",
       "<style scoped>\n",
       "    .dataframe tbody tr th:only-of-type {\n",
       "        vertical-align: middle;\n",
       "    }\n",
       "\n",
       "    .dataframe tbody tr th {\n",
       "        vertical-align: top;\n",
       "    }\n",
       "\n",
       "    .dataframe thead th {\n",
       "        text-align: right;\n",
       "    }\n",
       "</style>\n",
       "<table border=\"1\" class=\"dataframe\">\n",
       "  <thead>\n",
       "    <tr style=\"text-align: right;\">\n",
       "      <th></th>\n",
       "      <th>Year</th>\n",
       "      <th>tier</th>\n",
       "      <th>amount</th>\n",
       "    </tr>\n",
       "  </thead>\n",
       "  <tbody>\n",
       "    <tr>\n",
       "      <th>0</th>\n",
       "      <td>2014</td>\n",
       "      <td>Blue Member</td>\n",
       "      <td>52504691.07</td>\n",
       "    </tr>\n",
       "    <tr>\n",
       "      <th>1</th>\n",
       "      <td>2014</td>\n",
       "      <td>Gold Member</td>\n",
       "      <td>4029839.21</td>\n",
       "    </tr>\n",
       "    <tr>\n",
       "      <th>2</th>\n",
       "      <td>2014</td>\n",
       "      <td>Platinum Member</td>\n",
       "      <td>3310942.09</td>\n",
       "    </tr>\n",
       "    <tr>\n",
       "      <th>3</th>\n",
       "      <td>2014</td>\n",
       "      <td>Silver Member</td>\n",
       "      <td>10043009.32</td>\n",
       "    </tr>\n",
       "    <tr>\n",
       "      <th>4</th>\n",
       "      <td>2015</td>\n",
       "      <td>Blue Member</td>\n",
       "      <td>75229881.24</td>\n",
       "    </tr>\n",
       "  </tbody>\n",
       "</table>\n",
       "</div>"
      ],
      "text/plain": [
       "   Year             tier       amount\n",
       "0  2014      Blue Member  52504691.07\n",
       "1  2014      Gold Member   4029839.21\n",
       "2  2014  Platinum Member   3310942.09\n",
       "3  2014    Silver Member  10043009.32\n",
       "4  2015      Blue Member  75229881.24"
      ]
     },
     "execution_count": 93,
     "metadata": {},
     "output_type": "execute_result"
    }
   ],
   "source": [
    "b=df.groupby(['Year','tier'])['amount'].sum().reset_index()\n",
    "b.head()"
   ]
  },
  {
   "cell_type": "code",
   "execution_count": 94,
   "metadata": {},
   "outputs": [
    {
     "data": {
      "image/png": "[encoded data removed]",
      "text/plain": [
       "<Figure size 720x360 with 1 Axes>"
      ]
     },
     "metadata": {
      "needs_background": "light"
     },
     "output_type": "display_data"
    }
   ],
   "source": [
    "plt.figure(figsize=(10,5))\n",
    "sns.barplot('tier',\"amount\",data=b,hue='Year')\n",
    "\n",
    "plt.title(\"Customer tier Vs Amount Vs Year\",color='w')\n",
    "plt.show()"
   ]
  },
  {
   "cell_type": "code",
   "execution_count": 248,
   "metadata": {},
   "outputs": [
    {
     "data": {
      "text/html": [
       "<div>\n",
       "<style scoped>\n",
       "    .dataframe tbody tr th:only-of-type {\n",
       "        vertical-align: middle;\n",
       "    }\n",
       "\n",
       "    .dataframe tbody tr th {\n",
       "        vertical-align: top;\n",
       "    }\n",
       "\n",
       "    .dataframe thead th {\n",
       "        text-align: right;\n",
       "    }\n",
       "</style>\n",
       "<table border=\"1\" class=\"dataframe\">\n",
       "  <thead>\n",
       "    <tr style=\"text-align: right;\">\n",
       "      <th></th>\n",
       "      <th>customer_id</th>\n",
       "      <th>amount</th>\n",
       "      <th>points</th>\n",
       "      <th>tier</th>\n",
       "    </tr>\n",
       "  </thead>\n",
       "  <tbody>\n",
       "    <tr>\n",
       "      <th>0</th>\n",
       "      <td>162074559143</td>\n",
       "      <td>1.0</td>\n",
       "      <td>0.01</td>\n",
       "      <td>Blue Member</td>\n",
       "    </tr>\n",
       "    <tr>\n",
       "      <th>1</th>\n",
       "      <td>162082081317</td>\n",
       "      <td>54419.0</td>\n",
       "      <td>544.19</td>\n",
       "      <td>Blue Member</td>\n",
       "    </tr>\n",
       "    <tr>\n",
       "      <th>2</th>\n",
       "      <td>163623918706</td>\n",
       "      <td>1078.8</td>\n",
       "      <td>10.79</td>\n",
       "      <td>Blue Member</td>\n",
       "    </tr>\n",
       "    <tr>\n",
       "      <th>3</th>\n",
       "      <td>164381930905</td>\n",
       "      <td>2473.5</td>\n",
       "      <td>24.74</td>\n",
       "      <td>Blue Member</td>\n",
       "    </tr>\n",
       "    <tr>\n",
       "      <th>4</th>\n",
       "      <td>182929244726</td>\n",
       "      <td>7995.0</td>\n",
       "      <td>79.95</td>\n",
       "      <td>Blue Member</td>\n",
       "    </tr>\n",
       "  </tbody>\n",
       "</table>\n",
       "</div>"
      ],
      "text/plain": [
       "    customer_id   amount  points         tier\n",
       "0  162074559143      1.0    0.01  Blue Member\n",
       "1  162082081317  54419.0  544.19  Blue Member\n",
       "2  163623918706   1078.8   10.79  Blue Member\n",
       "3  164381930905   2473.5   24.74  Blue Member\n",
       "4  182929244726   7995.0   79.95  Blue Member"
      ]
     },
     "execution_count": 248,
     "metadata": {},
     "output_type": "execute_result"
    }
   ],
   "source": [
    "cust=df.groupby('customer_id').agg({'amount':sum,'points':sum,'tier':pd.Series.mode}).reset_index()\n",
    "cust.head()"
   ]
  },
  {
   "cell_type": "code",
   "execution_count": 96,
   "metadata": {},
   "outputs": [],
   "source": [
    "customer=pd.merge(cust,cus,on='customer_id',how='left')"
   ]
  },
  {
   "cell_type": "code",
   "execution_count": 97,
   "metadata": {},
   "outputs": [
    {
     "data": {
      "text/html": [
       "<div>\n",
       "<style scoped>\n",
       "    .dataframe tbody tr th:only-of-type {\n",
       "        vertical-align: middle;\n",
       "    }\n",
       "\n",
       "    .dataframe tbody tr th {\n",
       "        vertical-align: top;\n",
       "    }\n",
       "\n",
       "    .dataframe thead th {\n",
       "        text-align: right;\n",
       "    }\n",
       "</style>\n",
       "<table border=\"1\" class=\"dataframe\">\n",
       "  <thead>\n",
       "    <tr style=\"text-align: right;\">\n",
       "      <th></th>\n",
       "      <th>customer_id</th>\n",
       "      <th>amount</th>\n",
       "      <th>points</th>\n",
       "      <th>created_at</th>\n",
       "      <th>gender</th>\n",
       "      <th>state</th>\n",
       "      <th>tier</th>\n",
       "    </tr>\n",
       "  </thead>\n",
       "  <tbody>\n",
       "    <tr>\n",
       "      <th>0</th>\n",
       "      <td>162074559143</td>\n",
       "      <td>1.0</td>\n",
       "      <td>0.01</td>\n",
       "      <td>2019-07-01 16:40:56 +0530</td>\n",
       "      <td>Unknown</td>\n",
       "      <td>Maharashtra</td>\n",
       "      <td>Blue Member</td>\n",
       "    </tr>\n",
       "    <tr>\n",
       "      <th>1</th>\n",
       "      <td>162082081317</td>\n",
       "      <td>54419.0</td>\n",
       "      <td>544.19</td>\n",
       "      <td>2019-03-19 16:01:36 +0530</td>\n",
       "      <td>Male</td>\n",
       "      <td>Maharashtra</td>\n",
       "      <td>Blue Member</td>\n",
       "    </tr>\n",
       "    <tr>\n",
       "      <th>2</th>\n",
       "      <td>163623918706</td>\n",
       "      <td>1078.8</td>\n",
       "      <td>10.79</td>\n",
       "      <td>2019-06-22 21:26:46 +0530</td>\n",
       "      <td>Unknown</td>\n",
       "      <td>Maharashtra</td>\n",
       "      <td>Blue Member</td>\n",
       "    </tr>\n",
       "    <tr>\n",
       "      <th>3</th>\n",
       "      <td>164381930905</td>\n",
       "      <td>2473.5</td>\n",
       "      <td>24.74</td>\n",
       "      <td>2019-06-09 14:42:05 +0530</td>\n",
       "      <td>Unknown</td>\n",
       "      <td>Maharashtra</td>\n",
       "      <td>Blue Member</td>\n",
       "    </tr>\n",
       "    <tr>\n",
       "      <th>4</th>\n",
       "      <td>182929244726</td>\n",
       "      <td>7995.0</td>\n",
       "      <td>79.95</td>\n",
       "      <td>2019-05-24 18:36:47 +0530</td>\n",
       "      <td>Unknown</td>\n",
       "      <td>Maharashtra</td>\n",
       "      <td>Blue Member</td>\n",
       "    </tr>\n",
       "  </tbody>\n",
       "</table>\n",
       "</div>"
      ],
      "text/plain": [
       "    customer_id   amount  points                 created_at   gender  \\\n",
       "0  162074559143      1.0    0.01  2019-07-01 16:40:56 +0530  Unknown   \n",
       "1  162082081317  54419.0  544.19  2019-03-19 16:01:36 +0530     Male   \n",
       "2  163623918706   1078.8   10.79  2019-06-22 21:26:46 +0530  Unknown   \n",
       "3  164381930905   2473.5   24.74  2019-06-09 14:42:05 +0530  Unknown   \n",
       "4  182929244726   7995.0   79.95  2019-05-24 18:36:47 +0530  Unknown   \n",
       "\n",
       "         state         tier  \n",
       "0  Maharashtra  Blue Member  \n",
       "1  Maharashtra  Blue Member  \n",
       "2  Maharashtra  Blue Member  \n",
       "3  Maharashtra  Blue Member  \n",
       "4  Maharashtra  Blue Member  "
      ]
     },
     "execution_count": 97,
     "metadata": {},
     "output_type": "execute_result"
    }
   ],
   "source": [
    "customer.head()"
   ]
  },
  {
   "cell_type": "code",
   "execution_count": 98,
   "metadata": {},
   "outputs": [
    {
     "data": {
      "text/html": [
       "<div>\n",
       "<style scoped>\n",
       "    .dataframe tbody tr th:only-of-type {\n",
       "        vertical-align: middle;\n",
       "    }\n",
       "\n",
       "    .dataframe tbody tr th {\n",
       "        vertical-align: top;\n",
       "    }\n",
       "\n",
       "    .dataframe thead th {\n",
       "        text-align: right;\n",
       "    }\n",
       "</style>\n",
       "<table border=\"1\" class=\"dataframe\">\n",
       "  <thead>\n",
       "    <tr style=\"text-align: right;\">\n",
       "      <th></th>\n",
       "      <th>customer_id</th>\n",
       "      <th>amount</th>\n",
       "      <th>points</th>\n",
       "      <th>created_at</th>\n",
       "      <th>gender</th>\n",
       "      <th>state</th>\n",
       "      <th>tier</th>\n",
       "    </tr>\n",
       "  </thead>\n",
       "  <tbody>\n",
       "    <tr>\n",
       "      <th>3802</th>\n",
       "      <td>249853390927</td>\n",
       "      <td>38313774.36</td>\n",
       "      <td>428942.76</td>\n",
       "      <td>2019-03-19 15:41:48 +0530</td>\n",
       "      <td>Male</td>\n",
       "      <td>Maharashtra</td>\n",
       "      <td>Platinum Member</td>\n",
       "    </tr>\n",
       "    <tr>\n",
       "      <th>2136</th>\n",
       "      <td>234549952039</td>\n",
       "      <td>11152508.10</td>\n",
       "      <td>116627.56</td>\n",
       "      <td>2019-03-19 15:48:15 +0530</td>\n",
       "      <td>Male</td>\n",
       "      <td>Maharashtra</td>\n",
       "      <td>Platinum Member</td>\n",
       "    </tr>\n",
       "    <tr>\n",
       "      <th>5144</th>\n",
       "      <td>255285716438</td>\n",
       "      <td>5607268.35</td>\n",
       "      <td>58584.73</td>\n",
       "      <td>2019-03-19 15:41:29 +0530</td>\n",
       "      <td>Female</td>\n",
       "      <td>Maharashtra</td>\n",
       "      <td>Platinum Member</td>\n",
       "    </tr>\n",
       "    <tr>\n",
       "      <th>1317</th>\n",
       "      <td>218685897215</td>\n",
       "      <td>5518171.00</td>\n",
       "      <td>65979.99</td>\n",
       "      <td>2019-03-19 15:51:43 +0530</td>\n",
       "      <td>Female</td>\n",
       "      <td>Maharashtra</td>\n",
       "      <td>Blue Member</td>\n",
       "    </tr>\n",
       "    <tr>\n",
       "      <th>8332</th>\n",
       "      <td>256626721286</td>\n",
       "      <td>4635650.25</td>\n",
       "      <td>48489.55</td>\n",
       "      <td>2019-03-19 15:42:50 +0530</td>\n",
       "      <td>Male</td>\n",
       "      <td>Maharashtra</td>\n",
       "      <td>Platinum Member</td>\n",
       "    </tr>\n",
       "    <tr>\n",
       "      <th>548</th>\n",
       "      <td>201487636674</td>\n",
       "      <td>4416697.21</td>\n",
       "      <td>64146.93</td>\n",
       "      <td>2019-03-19 16:05:01 +0530</td>\n",
       "      <td>Male</td>\n",
       "      <td>Maharashtra</td>\n",
       "      <td>Platinum Member</td>\n",
       "    </tr>\n",
       "    <tr>\n",
       "      <th>800</th>\n",
       "      <td>206429912326</td>\n",
       "      <td>4171951.00</td>\n",
       "      <td>50957.64</td>\n",
       "      <td>2019-03-19 15:52:29 +0530</td>\n",
       "      <td>Female</td>\n",
       "      <td>Maharashtra</td>\n",
       "      <td>Blue Member</td>\n",
       "    </tr>\n",
       "    <tr>\n",
       "      <th>10449</th>\n",
       "      <td>257909087121</td>\n",
       "      <td>3717029.00</td>\n",
       "      <td>42984.33</td>\n",
       "      <td>2019-03-19 15:52:03 +0530</td>\n",
       "      <td>Female</td>\n",
       "      <td>Maharashtra</td>\n",
       "      <td>Blue Member</td>\n",
       "    </tr>\n",
       "    <tr>\n",
       "      <th>3989</th>\n",
       "      <td>251349876513</td>\n",
       "      <td>3713864.00</td>\n",
       "      <td>39816.48</td>\n",
       "      <td>2019-03-19 15:49:43 +0530</td>\n",
       "      <td>Unknown</td>\n",
       "      <td>Maharashtra</td>\n",
       "      <td>Platinum Member</td>\n",
       "    </tr>\n",
       "    <tr>\n",
       "      <th>12624</th>\n",
       "      <td>260454328530</td>\n",
       "      <td>3453047.97</td>\n",
       "      <td>35105.72</td>\n",
       "      <td>2019-03-19 15:45:02 +0530</td>\n",
       "      <td>Female</td>\n",
       "      <td>Maharashtra</td>\n",
       "      <td>Gold Member</td>\n",
       "    </tr>\n",
       "  </tbody>\n",
       "</table>\n",
       "</div>"
      ],
      "text/plain": [
       "        customer_id       amount     points                 created_at  \\\n",
       "3802   249853390927  38313774.36  428942.76  2019-03-19 15:41:48 +0530   \n",
       "2136   234549952039  11152508.10  116627.56  2019-03-19 15:48:15 +0530   \n",
       "5144   255285716438   5607268.35   58584.73  2019-03-19 15:41:29 +0530   \n",
       "1317   218685897215   5518171.00   65979.99  2019-03-19 15:51:43 +0530   \n",
       "8332   256626721286   4635650.25   48489.55  2019-03-19 15:42:50 +0530   \n",
       "548    201487636674   4416697.21   64146.93  2019-03-19 16:05:01 +0530   \n",
       "800    206429912326   4171951.00   50957.64  2019-03-19 15:52:29 +0530   \n",
       "10449  257909087121   3717029.00   42984.33  2019-03-19 15:52:03 +0530   \n",
       "3989   251349876513   3713864.00   39816.48  2019-03-19 15:49:43 +0530   \n",
       "12624  260454328530   3453047.97   35105.72  2019-03-19 15:45:02 +0530   \n",
       "\n",
       "        gender        state             tier  \n",
       "3802      Male  Maharashtra  Platinum Member  \n",
       "2136      Male  Maharashtra  Platinum Member  \n",
       "5144    Female  Maharashtra  Platinum Member  \n",
       "1317    Female  Maharashtra      Blue Member  \n",
       "8332      Male  Maharashtra  Platinum Member  \n",
       "548       Male  Maharashtra  Platinum Member  \n",
       "800     Female  Maharashtra      Blue Member  \n",
       "10449   Female  Maharashtra      Blue Member  \n",
       "3989   Unknown  Maharashtra  Platinum Member  \n",
       "12624   Female  Maharashtra      Gold Member  "
      ]
     },
     "execution_count": 98,
     "metadata": {},
     "output_type": "execute_result"
    }
   ],
   "source": [
    "n=customer.sort_values(by='amount',ascending=False).head(10)\n",
    "n #Top 10 customers who have spent more"
   ]
  },
  {
   "cell_type": "code",
   "execution_count": 99,
   "metadata": {},
   "outputs": [
    {
     "data": {
      "text/plain": [
       "Emerald Mall    487\n",
       "Diamond Mall      3\n",
       "Name: store_location, dtype: int64"
      ]
     },
     "execution_count": 99,
     "metadata": {},
     "output_type": "execute_result"
    }
   ],
   "source": [
    "df[df['customer_id']=='249853390927']['store_location'].value_counts()"
   ]
  },
  {
   "cell_type": "code",
   "execution_count": 100,
   "metadata": {},
   "outputs": [
    {
     "data": {
      "text/plain": [
       "Premium    464\n",
       "Value       26\n",
       "Name: store_PriceCategory, dtype: int64"
      ]
     },
     "execution_count": 100,
     "metadata": {},
     "output_type": "execute_result"
    }
   ],
   "source": [
    "df[df['customer_id']=='249853390927']['store_PriceCategory'].value_counts()"
   ]
  },
  {
   "cell_type": "code",
   "execution_count": 101,
   "metadata": {},
   "outputs": [
    {
     "data": {
      "text/plain": [
       "(4105, 15)"
      ]
     },
     "execution_count": 101,
     "metadata": {},
     "output_type": "execute_result"
    }
   ],
   "source": [
    "df[df['customer_id'].isin(n['customer_id'])].shape #To filter the top 10 customer transactions"
   ]
  },
  {
   "cell_type": "code",
   "execution_count": 102,
   "metadata": {},
   "outputs": [
    {
     "data": {
      "text/plain": [
       "8.166279942465557"
      ]
     },
     "execution_count": 102,
     "metadata": {},
     "output_type": "execute_result"
    }
   ],
   "source": [
    "(df[df['customer_id'].isin(n['customer_id'])]['amount'].sum()/df['amount'].sum()) *100\n",
    "#Percentage of contribution"
   ]
  },
  {
   "cell_type": "code",
   "execution_count": 103,
   "metadata": {},
   "outputs": [
    {
     "data": {
      "text/plain": [
       "Premium          3194\n",
       "Value             886\n",
       "Super Premium      23\n",
       "Unknown             2\n",
       "Name: store_PriceCategory, dtype: int64"
      ]
     },
     "execution_count": 103,
     "metadata": {},
     "output_type": "execute_result"
    }
   ],
   "source": [
    "df[df['customer_id'].isin(n['customer_id'])]['store_PriceCategory'].value_counts()"
   ]
  },
  {
   "cell_type": "code",
   "execution_count": 104,
   "metadata": {},
   "outputs": [
    {
     "data": {
      "text/plain": [
       "Electronics                                                                                                                                  878\n",
       "Women's Fashion                                                                                                                              819\n",
       "Women's Fashion,Men's Fashion                                                                                                                338\n",
       "Beauty & Grooming                                                                                                                            338\n",
       "Accessories,Women's Fashion,Men's Fashion                                                                                                    334\n",
       "Food & Beverage                                                                                                                              283\n",
       "Electronics,Kids Fashion,Accessories,Grocery & Household,Home & Lifestyle,Women's Fashion,Men's Fashion,Books and Stationery,Gifts & Toys    219\n",
       "Kids Fashion,Accessories,Women's Fashion,Men's Fashion                                                                                       181\n",
       "Unknown                                                                                                                                      150\n",
       "Entertainment & Leisure                                                                                                                      109\n",
       "Men's Fashion                                                                                                                                108\n",
       "Sports & Fitness,Women's Fashion,Men's Fashion                                                                                                62\n",
       "Health & Wellness                                                                                                                             61\n",
       "Home & Lifestyle                                                                                                                              55\n",
       "Kids Fashion                                                                                                                                  35\n",
       "Gifts & Toys                                                                                                                                  34\n",
       "Accessories,Jewellery,Women's Fashion                                                                                                         19\n",
       "Accessories,Women's Fashion                                                                                                                   18\n",
       "Accessories,Sports & Fitness,Women's Fashion,Men's Fashion                                                                                    12\n",
       "Electronics,Entertainment & Leisure                                                                                                            8\n",
       "Food & Beverage,Grocery & Household                                                                                                            7\n",
       "Jewellery                                                                                                                                      7\n",
       "Books and Stationery,Gifts & Toys                                                                                                              6\n",
       "Kids Fashion,Women's Fashion,Men's Fashion                                                                                                     6\n",
       "Travel                                                                                                                                         5\n",
       "Accessories,Men's Fashion                                                                                                                      4\n",
       "Accessories,Gifts & Toys                                                                                                                       4\n",
       "Travel,Accessories,Sports & Fitness                                                                                                            2\n",
       "Grocery & Household                                                                                                                            2\n",
       "Accessories                                                                                                                                    1\n",
       "Name: store_category, dtype: int64"
      ]
     },
     "execution_count": 104,
     "metadata": {},
     "output_type": "execute_result"
    }
   ],
   "source": [
    "df[df['customer_id'].isin(n['customer_id'])]['store_category'].value_counts()"
   ]
  },
  {
   "cell_type": "markdown",
   "metadata": {},
   "source": [
    "*Customer with customer id \"249853390927\" is the top customer who made the transactions with total amount of 38559062 (Three Crores and eighty five lakhs fifty nine thousand sixty two)\n",
    "*This platinum member has made most of his transactions on Emerald Mall with premium stores\n",
    "*Top 10 customers made 4298 transactions in total\n",
    "*Top 10 customers contribute to 8.5% of total amount transactioned\n",
    "*Out of this 10 customers 4 are male and 5 are female\n",
    "*7 platinum members out of 10\n",
    "*Has made most of their transactions on premium store\n",
    "*Electronics contribute much on their amount transactioned\n",
    "*As there are five females ,Women's Fashion also contributed much in their amount transactioned."
   ]
  },
  {
   "cell_type": "code",
   "execution_count": 105,
   "metadata": {},
   "outputs": [
    {
     "data": {
      "text/html": [
       "<div>\n",
       "<style scoped>\n",
       "    .dataframe tbody tr th:only-of-type {\n",
       "        vertical-align: middle;\n",
       "    }\n",
       "\n",
       "    .dataframe tbody tr th {\n",
       "        vertical-align: top;\n",
       "    }\n",
       "\n",
       "    .dataframe thead th {\n",
       "        text-align: right;\n",
       "    }\n",
       "</style>\n",
       "<table border=\"1\" class=\"dataframe\">\n",
       "  <thead>\n",
       "    <tr style=\"text-align: right;\">\n",
       "      <th></th>\n",
       "      <th>billing_timestamp</th>\n",
       "      <th>amount</th>\n",
       "      <th>points</th>\n",
       "      <th>store_code</th>\n",
       "      <th>customer_id</th>\n",
       "      <th>created_at</th>\n",
       "      <th>gender</th>\n",
       "      <th>state</th>\n",
       "      <th>tier</th>\n",
       "      <th>store_name</th>\n",
       "      <th>store_location</th>\n",
       "      <th>store_category</th>\n",
       "      <th>store_PriceCategory</th>\n",
       "      <th>Year_Month</th>\n",
       "      <th>Year</th>\n",
       "    </tr>\n",
       "  </thead>\n",
       "  <tbody>\n",
       "    <tr>\n",
       "      <th>0</th>\n",
       "      <td>2014-10-20 22:38:00+05:30</td>\n",
       "      <td>3200.0</td>\n",
       "      <td>32.0</td>\n",
       "      <td>IMA00001</td>\n",
       "      <td>256622493374</td>\n",
       "      <td>2019-03-19 15:37:22+05:30</td>\n",
       "      <td>Male</td>\n",
       "      <td>Maharashtra</td>\n",
       "      <td>Blue Member</td>\n",
       "      <td>Sprinkles</td>\n",
       "      <td>Diamond Mall</td>\n",
       "      <td>Accessories,Jewellery,Women's Fashion</td>\n",
       "      <td>Premium</td>\n",
       "      <td>201410</td>\n",
       "      <td>2014</td>\n",
       "    </tr>\n",
       "    <tr>\n",
       "      <th>1</th>\n",
       "      <td>2014-10-20 22:38:00+05:30</td>\n",
       "      <td>2000.0</td>\n",
       "      <td>20.0</td>\n",
       "      <td>IMM00003</td>\n",
       "      <td>212411292920</td>\n",
       "      <td>2019-03-19 15:37:24+05:30</td>\n",
       "      <td>Male</td>\n",
       "      <td>Kerala</td>\n",
       "      <td>Blue Member</td>\n",
       "      <td>Das Shoes</td>\n",
       "      <td>Emerald Mall</td>\n",
       "      <td>Accessories,Sports &amp; Fitness,Women's Fashion,M...</td>\n",
       "      <td>Premium</td>\n",
       "      <td>201410</td>\n",
       "      <td>2014</td>\n",
       "    </tr>\n",
       "    <tr>\n",
       "      <th>2</th>\n",
       "      <td>2014-10-20 22:38:00+05:30</td>\n",
       "      <td>1000.0</td>\n",
       "      <td>10.0</td>\n",
       "      <td>NA-IMA0048</td>\n",
       "      <td>256583467853</td>\n",
       "      <td>2019-03-19 15:37:23+05:30</td>\n",
       "      <td>Male</td>\n",
       "      <td>Maharashtra</td>\n",
       "      <td>Blue Member</td>\n",
       "      <td>Gameon!</td>\n",
       "      <td>Diamond Mall</td>\n",
       "      <td>Electronics,Entertainment &amp; Leisure</td>\n",
       "      <td>Premium</td>\n",
       "      <td>201410</td>\n",
       "      <td>2014</td>\n",
       "    </tr>\n",
       "    <tr>\n",
       "      <th>3</th>\n",
       "      <td>2014-10-20 22:38:00+05:30</td>\n",
       "      <td>5000.0</td>\n",
       "      <td>50.0</td>\n",
       "      <td>IMA00007</td>\n",
       "      <td>256583467853</td>\n",
       "      <td>2019-03-19 15:37:23+05:30</td>\n",
       "      <td>Male</td>\n",
       "      <td>Maharashtra</td>\n",
       "      <td>Blue Member</td>\n",
       "      <td>Das Shoes</td>\n",
       "      <td>Diamond Mall</td>\n",
       "      <td>Accessories,Sports &amp; Fitness,Women's Fashion,M...</td>\n",
       "      <td>Premium</td>\n",
       "      <td>201410</td>\n",
       "      <td>2014</td>\n",
       "    </tr>\n",
       "    <tr>\n",
       "      <th>4</th>\n",
       "      <td>2014-10-20 22:38:00+05:30</td>\n",
       "      <td>80000.0</td>\n",
       "      <td>800.0</td>\n",
       "      <td>NA-IMA0014</td>\n",
       "      <td>256583467853</td>\n",
       "      <td>2019-03-19 15:37:23+05:30</td>\n",
       "      <td>Male</td>\n",
       "      <td>Maharashtra</td>\n",
       "      <td>Blue Member</td>\n",
       "      <td>Cuffs</td>\n",
       "      <td>Diamond Mall</td>\n",
       "      <td>Men's Fashion</td>\n",
       "      <td>Premium</td>\n",
       "      <td>201410</td>\n",
       "      <td>2014</td>\n",
       "    </tr>\n",
       "  </tbody>\n",
       "</table>\n",
       "</div>"
      ],
      "text/plain": [
       "          billing_timestamp   amount  points  store_code   customer_id  \\\n",
       "0 2014-10-20 22:38:00+05:30   3200.0    32.0    IMA00001  256622493374   \n",
       "1 2014-10-20 22:38:00+05:30   2000.0    20.0    IMM00003  212411292920   \n",
       "2 2014-10-20 22:38:00+05:30   1000.0    10.0  NA-IMA0048  256583467853   \n",
       "3 2014-10-20 22:38:00+05:30   5000.0    50.0    IMA00007  256583467853   \n",
       "4 2014-10-20 22:38:00+05:30  80000.0   800.0  NA-IMA0014  256583467853   \n",
       "\n",
       "                 created_at gender        state         tier store_name  \\\n",
       "0 2019-03-19 15:37:22+05:30   Male  Maharashtra  Blue Member  Sprinkles   \n",
       "1 2019-03-19 15:37:24+05:30   Male       Kerala  Blue Member  Das Shoes   \n",
       "2 2019-03-19 15:37:23+05:30   Male  Maharashtra  Blue Member    Gameon!   \n",
       "3 2019-03-19 15:37:23+05:30   Male  Maharashtra  Blue Member  Das Shoes   \n",
       "4 2019-03-19 15:37:23+05:30   Male  Maharashtra  Blue Member      Cuffs   \n",
       "\n",
       "  store_location                                     store_category  \\\n",
       "0   Diamond Mall              Accessories,Jewellery,Women's Fashion   \n",
       "1   Emerald Mall  Accessories,Sports & Fitness,Women's Fashion,M...   \n",
       "2   Diamond Mall                Electronics,Entertainment & Leisure   \n",
       "3   Diamond Mall  Accessories,Sports & Fitness,Women's Fashion,M...   \n",
       "4   Diamond Mall                                      Men's Fashion   \n",
       "\n",
       "  store_PriceCategory  Year_Month  Year  \n",
       "0             Premium      201410  2014  \n",
       "1             Premium      201410  2014  \n",
       "2             Premium      201410  2014  \n",
       "3             Premium      201410  2014  \n",
       "4             Premium      201410  2014  "
      ]
     },
     "execution_count": 105,
     "metadata": {},
     "output_type": "execute_result"
    }
   ],
   "source": [
    "df.head()"
   ]
  },
  {
   "cell_type": "code",
   "execution_count": 106,
   "metadata": {},
   "outputs": [
    {
     "data": {
      "text/plain": [
       "(348508, 15)"
      ]
     },
     "execution_count": 106,
     "metadata": {},
     "output_type": "execute_result"
    }
   ],
   "source": [
    "df.shape"
   ]
  },
  {
   "cell_type": "markdown",
   "metadata": {},
   "source": [
    "RFM Analysis\n",
    "RFM (recency, frequency, monetary) analysis is a marketing technique used to determine quantitatively which customers are the best ones by examining how recently a customer has purchased (recency), how often they purchase (frequency), and how much the customer spends (monetary)."
   ]
  },
  {
   "cell_type": "code",
   "execution_count": 107,
   "metadata": {},
   "outputs": [
    {
     "name": "stdout",
     "output_type": "stream",
     "text": [
      "Date is spread between 2014-10-20 22:38:00+05:30 and 2019-08-29 15:43:00+05:30\n"
     ]
    }
   ],
   "source": [
    "print(\"Date is spread between\",df['billing_timestamp'].min(),\"and\",df['billing_timestamp'].max())"
   ]
  },
  {
   "cell_type": "code",
   "execution_count": 108,
   "metadata": {},
   "outputs": [],
   "source": [
    "#Let's assume that the study is being done as of 01/Sep/2019.\n",
    "#Number of days from the study date is calculated.\n",
    "import datetime as dt\n",
    "sd=dt.datetime(2019,9,1)\n",
    "\n"
   ]
  },
  {
   "cell_type": "code",
   "execution_count": 109,
   "metadata": {},
   "outputs": [],
   "source": [
    "#Removing the time zone from the timestamp\n",
    "df['billing_timestamp']=df['billing_timestamp'].dt.tz_localize(None)"
   ]
  },
  {
   "cell_type": "code",
   "execution_count": 110,
   "metadata": {},
   "outputs": [],
   "source": [
    "rfm=df.groupby('customer_id').agg({'billing_timestamp': lambda x : (sd-x.max()).days,'customer_id':'count','amount':'sum'})"
   ]
  },
  {
   "cell_type": "code",
   "execution_count": 111,
   "metadata": {},
   "outputs": [],
   "source": [
    "rfm.columns=['Recency','Frequency','Monetary']"
   ]
  },
  {
   "cell_type": "code",
   "execution_count": 118,
   "metadata": {},
   "outputs": [
    {
     "data": {
      "text/html": [
       "<div>\n",
       "<style scoped>\n",
       "    .dataframe tbody tr th:only-of-type {\n",
       "        vertical-align: middle;\n",
       "    }\n",
       "\n",
       "    .dataframe tbody tr th {\n",
       "        vertical-align: top;\n",
       "    }\n",
       "\n",
       "    .dataframe thead th {\n",
       "        text-align: right;\n",
       "    }\n",
       "</style>\n",
       "<table border=\"1\" class=\"dataframe\">\n",
       "  <thead>\n",
       "    <tr style=\"text-align: right;\">\n",
       "      <th></th>\n",
       "      <th>Recency</th>\n",
       "      <th>Frequency</th>\n",
       "      <th>Monetary</th>\n",
       "    </tr>\n",
       "    <tr>\n",
       "      <th>customer_id</th>\n",
       "      <th></th>\n",
       "      <th></th>\n",
       "      <th></th>\n",
       "    </tr>\n",
       "  </thead>\n",
       "  <tbody>\n",
       "    <tr>\n",
       "      <th>162074559143</th>\n",
       "      <td>62</td>\n",
       "      <td>1</td>\n",
       "      <td>1.0</td>\n",
       "    </tr>\n",
       "    <tr>\n",
       "      <th>162082081317</th>\n",
       "      <td>432</td>\n",
       "      <td>1</td>\n",
       "      <td>54419.0</td>\n",
       "    </tr>\n",
       "    <tr>\n",
       "      <th>163623918706</th>\n",
       "      <td>70</td>\n",
       "      <td>1</td>\n",
       "      <td>1078.8</td>\n",
       "    </tr>\n",
       "    <tr>\n",
       "      <th>164381930905</th>\n",
       "      <td>84</td>\n",
       "      <td>1</td>\n",
       "      <td>2473.5</td>\n",
       "    </tr>\n",
       "    <tr>\n",
       "      <th>182929244726</th>\n",
       "      <td>99</td>\n",
       "      <td>1</td>\n",
       "      <td>7995.0</td>\n",
       "    </tr>\n",
       "  </tbody>\n",
       "</table>\n",
       "</div>"
      ],
      "text/plain": [
       "              Recency  Frequency  Monetary\n",
       "customer_id                               \n",
       "162074559143       62          1       1.0\n",
       "162082081317      432          1   54419.0\n",
       "163623918706       70          1    1078.8\n",
       "164381930905       84          1    2473.5\n",
       "182929244726       99          1    7995.0"
      ]
     },
     "execution_count": 118,
     "metadata": {},
     "output_type": "execute_result"
    }
   ],
   "source": [
    "rfm.head()"
   ]
  },
  {
   "cell_type": "code",
   "execution_count": 113,
   "metadata": {},
   "outputs": [
    {
     "data": {
      "text/html": [
       "<div>\n",
       "<style scoped>\n",
       "    .dataframe tbody tr th:only-of-type {\n",
       "        vertical-align: middle;\n",
       "    }\n",
       "\n",
       "    .dataframe tbody tr th {\n",
       "        vertical-align: top;\n",
       "    }\n",
       "\n",
       "    .dataframe thead th {\n",
       "        text-align: right;\n",
       "    }\n",
       "</style>\n",
       "<table border=\"1\" class=\"dataframe\">\n",
       "  <thead>\n",
       "    <tr style=\"text-align: right;\">\n",
       "      <th></th>\n",
       "      <th>Recency</th>\n",
       "      <th>Frequency</th>\n",
       "      <th>Monetary</th>\n",
       "    </tr>\n",
       "  </thead>\n",
       "  <tbody>\n",
       "    <tr>\n",
       "      <th>count</th>\n",
       "      <td>13177.000000</td>\n",
       "      <td>13177.000000</td>\n",
       "      <td>1.317700e+04</td>\n",
       "    </tr>\n",
       "    <tr>\n",
       "      <th>mean</th>\n",
       "      <td>614.852091</td>\n",
       "      <td>26.448205</td>\n",
       "      <td>7.871226e+04</td>\n",
       "    </tr>\n",
       "    <tr>\n",
       "      <th>std</th>\n",
       "      <td>564.720367</td>\n",
       "      <td>89.194342</td>\n",
       "      <td>4.234391e+05</td>\n",
       "    </tr>\n",
       "    <tr>\n",
       "      <th>min</th>\n",
       "      <td>2.000000</td>\n",
       "      <td>1.000000</td>\n",
       "      <td>1.000000e+00</td>\n",
       "    </tr>\n",
       "    <tr>\n",
       "      <th>25%</th>\n",
       "      <td>136.000000</td>\n",
       "      <td>1.000000</td>\n",
       "      <td>5.000000e+03</td>\n",
       "    </tr>\n",
       "    <tr>\n",
       "      <th>50%</th>\n",
       "      <td>376.000000</td>\n",
       "      <td>2.000000</td>\n",
       "      <td>8.897000e+03</td>\n",
       "    </tr>\n",
       "    <tr>\n",
       "      <th>75%</th>\n",
       "      <td>848.000000</td>\n",
       "      <td>12.000000</td>\n",
       "      <td>3.732000e+04</td>\n",
       "    </tr>\n",
       "    <tr>\n",
       "      <th>max</th>\n",
       "      <td>1776.000000</td>\n",
       "      <td>2541.000000</td>\n",
       "      <td>3.831377e+07</td>\n",
       "    </tr>\n",
       "  </tbody>\n",
       "</table>\n",
       "</div>"
      ],
      "text/plain": [
       "            Recency     Frequency      Monetary\n",
       "count  13177.000000  13177.000000  1.317700e+04\n",
       "mean     614.852091     26.448205  7.871226e+04\n",
       "std      564.720367     89.194342  4.234391e+05\n",
       "min        2.000000      1.000000  1.000000e+00\n",
       "25%      136.000000      1.000000  5.000000e+03\n",
       "50%      376.000000      2.000000  8.897000e+03\n",
       "75%      848.000000     12.000000  3.732000e+04\n",
       "max     1776.000000   2541.000000  3.831377e+07"
      ]
     },
     "execution_count": 113,
     "metadata": {},
     "output_type": "execute_result"
    }
   ],
   "source": [
    "rfm.describe()"
   ]
  },
  {
   "cell_type": "code",
   "execution_count": 122,
   "metadata": {},
   "outputs": [
    {
     "data": {
      "text/plain": [
       "<matplotlib.axes._subplots.AxesSubplot at 0x224a9cdecc0>"
      ]
     },
     "execution_count": 122,
     "metadata": {},
     "output_type": "execute_result"
    },
    {
     "data": {
      "image/png": "[encoded data removed]",
      "text/plain": [
       "<Figure size 432x288 with 1 Axes>"
      ]
     },
     "metadata": {
      "needs_background": "light"
     },
     "output_type": "display_data"
    }
   ],
   "source": [
    "sns.boxplot(rfm['Recency'])"
   ]
  },
  {
   "cell_type": "code",
   "execution_count": 123,
   "metadata": {},
   "outputs": [
    {
     "data": {
      "text/plain": [
       "<matplotlib.axes._subplots.AxesSubplot at 0x224a9c5f160>"
      ]
     },
     "execution_count": 123,
     "metadata": {},
     "output_type": "execute_result"
    },
    {
     "data": {
      "image/png": "[encoded data removed]",
      "text/plain": [
       "<Figure size 432x288 with 1 Axes>"
      ]
     },
     "metadata": {
      "needs_background": "light"
     },
     "output_type": "display_data"
    }
   ],
   "source": [
    "sns.boxplot(rfm['Frequency'])"
   ]
  },
  {
   "cell_type": "code",
   "execution_count": 126,
   "metadata": {},
   "outputs": [
    {
     "data": {
      "text/plain": [
       "<matplotlib.axes._subplots.AxesSubplot at 0x224a9d77160>"
      ]
     },
     "execution_count": 126,
     "metadata": {},
     "output_type": "execute_result"
    },
    {
     "data": {
      "image/png": "[encoded data removed]",
      "text/plain": [
       "<Figure size 432x288 with 1 Axes>"
      ]
     },
     "metadata": {
      "needs_background": "light"
     },
     "output_type": "display_data"
    }
   ],
   "source": [
    "sns.boxplot(rfm['Monetary'])"
   ]
  },
  {
   "cell_type": "code",
   "execution_count": 148,
   "metadata": {},
   "outputs": [],
   "source": [
    "#Creating labels for R,F and M\n",
    "#Creating Labels for Recency and Frequency\n",
    "r_labels=range(4,0,-1)\n",
    "f_labels=range(1,5)\n",
    "#Assign these labels to four equal percentile groups\n",
    "r_groups=pd.qcut(rfm['Recency'],4,labels=r_labels)\n"
   ]
  },
  {
   "cell_type": "code",
   "execution_count": 149,
   "metadata": {},
   "outputs": [
    {
     "data": {
      "text/plain": [
       "count    13177.000000\n",
       "mean        26.448205\n",
       "std         89.194342\n",
       "min          1.000000\n",
       "25%          1.000000\n",
       "50%          2.000000\n",
       "75%         12.000000\n",
       "max       2541.000000\n",
       "Name: Frequency, dtype: float64"
      ]
     },
     "execution_count": 149,
     "metadata": {},
     "output_type": "execute_result"
    }
   ],
   "source": [
    "rfm['Frequency'].describe()"
   ]
  },
  {
   "cell_type": "code",
   "execution_count": 168,
   "metadata": {},
   "outputs": [],
   "source": [
    "#Assigning groups to frequency\n",
    "f_groups=pd.cut(rfm['Frequency'],bins=[0,2,12,100,2542],labels=f_labels)"
   ]
  },
  {
   "cell_type": "code",
   "execution_count": 169,
   "metadata": {},
   "outputs": [],
   "source": [
    "rfm=rfm.assign(R=r_groups.values,F=f_groups.values)"
   ]
  },
  {
   "cell_type": "code",
   "execution_count": 170,
   "metadata": {},
   "outputs": [
    {
     "data": {
      "text/html": [
       "<div>\n",
       "<style scoped>\n",
       "    .dataframe tbody tr th:only-of-type {\n",
       "        vertical-align: middle;\n",
       "    }\n",
       "\n",
       "    .dataframe tbody tr th {\n",
       "        vertical-align: top;\n",
       "    }\n",
       "\n",
       "    .dataframe thead th {\n",
       "        text-align: right;\n",
       "    }\n",
       "</style>\n",
       "<table border=\"1\" class=\"dataframe\">\n",
       "  <thead>\n",
       "    <tr style=\"text-align: right;\">\n",
       "      <th></th>\n",
       "      <th>Recency</th>\n",
       "      <th>Frequency</th>\n",
       "      <th>Monetary</th>\n",
       "      <th>R</th>\n",
       "      <th>F</th>\n",
       "    </tr>\n",
       "    <tr>\n",
       "      <th>customer_id</th>\n",
       "      <th></th>\n",
       "      <th></th>\n",
       "      <th></th>\n",
       "      <th></th>\n",
       "      <th></th>\n",
       "    </tr>\n",
       "  </thead>\n",
       "  <tbody>\n",
       "    <tr>\n",
       "      <th>162074559143</th>\n",
       "      <td>62</td>\n",
       "      <td>1</td>\n",
       "      <td>1.0</td>\n",
       "      <td>4</td>\n",
       "      <td>1</td>\n",
       "    </tr>\n",
       "    <tr>\n",
       "      <th>162082081317</th>\n",
       "      <td>432</td>\n",
       "      <td>1</td>\n",
       "      <td>54419.0</td>\n",
       "      <td>2</td>\n",
       "      <td>1</td>\n",
       "    </tr>\n",
       "    <tr>\n",
       "      <th>163623918706</th>\n",
       "      <td>70</td>\n",
       "      <td>1</td>\n",
       "      <td>1078.8</td>\n",
       "      <td>4</td>\n",
       "      <td>1</td>\n",
       "    </tr>\n",
       "    <tr>\n",
       "      <th>164381930905</th>\n",
       "      <td>84</td>\n",
       "      <td>1</td>\n",
       "      <td>2473.5</td>\n",
       "      <td>4</td>\n",
       "      <td>1</td>\n",
       "    </tr>\n",
       "    <tr>\n",
       "      <th>182929244726</th>\n",
       "      <td>99</td>\n",
       "      <td>1</td>\n",
       "      <td>7995.0</td>\n",
       "      <td>4</td>\n",
       "      <td>1</td>\n",
       "    </tr>\n",
       "  </tbody>\n",
       "</table>\n",
       "</div>"
      ],
      "text/plain": [
       "              Recency  Frequency  Monetary  R  F\n",
       "customer_id                                     \n",
       "162074559143       62          1       1.0  4  1\n",
       "162082081317      432          1   54419.0  2  1\n",
       "163623918706       70          1    1078.8  4  1\n",
       "164381930905       84          1    2473.5  4  1\n",
       "182929244726       99          1    7995.0  4  1"
      ]
     },
     "execution_count": 170,
     "metadata": {},
     "output_type": "execute_result"
    }
   ],
   "source": [
    "rfm.head()"
   ]
  },
  {
   "cell_type": "code",
   "execution_count": 173,
   "metadata": {},
   "outputs": [],
   "source": [
    "#Assigning groups to Monetary Vaues\n",
    "m_labels=range(1,5)\n",
    "m_groups=pd.qcut(rfm['Monetary'],4,labels=m_labels)"
   ]
  },
  {
   "cell_type": "code",
   "execution_count": 174,
   "metadata": {},
   "outputs": [],
   "source": [
    "rfm=rfm.assign(M=m_groups.values)"
   ]
  },
  {
   "cell_type": "code",
   "execution_count": 175,
   "metadata": {},
   "outputs": [
    {
     "data": {
      "text/html": [
       "<div>\n",
       "<style scoped>\n",
       "    .dataframe tbody tr th:only-of-type {\n",
       "        vertical-align: middle;\n",
       "    }\n",
       "\n",
       "    .dataframe tbody tr th {\n",
       "        vertical-align: top;\n",
       "    }\n",
       "\n",
       "    .dataframe thead th {\n",
       "        text-align: right;\n",
       "    }\n",
       "</style>\n",
       "<table border=\"1\" class=\"dataframe\">\n",
       "  <thead>\n",
       "    <tr style=\"text-align: right;\">\n",
       "      <th></th>\n",
       "      <th>Recency</th>\n",
       "      <th>Frequency</th>\n",
       "      <th>Monetary</th>\n",
       "      <th>R</th>\n",
       "      <th>F</th>\n",
       "      <th>M</th>\n",
       "    </tr>\n",
       "    <tr>\n",
       "      <th>customer_id</th>\n",
       "      <th></th>\n",
       "      <th></th>\n",
       "      <th></th>\n",
       "      <th></th>\n",
       "      <th></th>\n",
       "      <th></th>\n",
       "    </tr>\n",
       "  </thead>\n",
       "  <tbody>\n",
       "    <tr>\n",
       "      <th>162074559143</th>\n",
       "      <td>62</td>\n",
       "      <td>1</td>\n",
       "      <td>1.0</td>\n",
       "      <td>4</td>\n",
       "      <td>1</td>\n",
       "      <td>1</td>\n",
       "    </tr>\n",
       "    <tr>\n",
       "      <th>162082081317</th>\n",
       "      <td>432</td>\n",
       "      <td>1</td>\n",
       "      <td>54419.0</td>\n",
       "      <td>2</td>\n",
       "      <td>1</td>\n",
       "      <td>4</td>\n",
       "    </tr>\n",
       "    <tr>\n",
       "      <th>163623918706</th>\n",
       "      <td>70</td>\n",
       "      <td>1</td>\n",
       "      <td>1078.8</td>\n",
       "      <td>4</td>\n",
       "      <td>1</td>\n",
       "      <td>1</td>\n",
       "    </tr>\n",
       "    <tr>\n",
       "      <th>164381930905</th>\n",
       "      <td>84</td>\n",
       "      <td>1</td>\n",
       "      <td>2473.5</td>\n",
       "      <td>4</td>\n",
       "      <td>1</td>\n",
       "      <td>1</td>\n",
       "    </tr>\n",
       "    <tr>\n",
       "      <th>182929244726</th>\n",
       "      <td>99</td>\n",
       "      <td>1</td>\n",
       "      <td>7995.0</td>\n",
       "      <td>4</td>\n",
       "      <td>1</td>\n",
       "      <td>2</td>\n",
       "    </tr>\n",
       "  </tbody>\n",
       "</table>\n",
       "</div>"
      ],
      "text/plain": [
       "              Recency  Frequency  Monetary  R  F  M\n",
       "customer_id                                        \n",
       "162074559143       62          1       1.0  4  1  1\n",
       "162082081317      432          1   54419.0  2  1  4\n",
       "163623918706       70          1    1078.8  4  1  1\n",
       "164381930905       84          1    2473.5  4  1  1\n",
       "182929244726       99          1    7995.0  4  1  2"
      ]
     },
     "execution_count": 175,
     "metadata": {},
     "output_type": "execute_result"
    }
   ],
   "source": [
    "rfm.head()"
   ]
  },
  {
   "cell_type": "code",
   "execution_count": 176,
   "metadata": {},
   "outputs": [],
   "source": [
    "#Concatenate R,F,M values to create RFM Segments\n",
    "def join(x):\n",
    "    return str(x['R']) + str(x['F']) + str(x['M'])\n",
    "rfm['RFM']=rfm.apply(join,axis=1)"
   ]
  },
  {
   "cell_type": "code",
   "execution_count": 177,
   "metadata": {},
   "outputs": [
    {
     "data": {
      "text/html": [
       "<div>\n",
       "<style scoped>\n",
       "    .dataframe tbody tr th:only-of-type {\n",
       "        vertical-align: middle;\n",
       "    }\n",
       "\n",
       "    .dataframe tbody tr th {\n",
       "        vertical-align: top;\n",
       "    }\n",
       "\n",
       "    .dataframe thead th {\n",
       "        text-align: right;\n",
       "    }\n",
       "</style>\n",
       "<table border=\"1\" class=\"dataframe\">\n",
       "  <thead>\n",
       "    <tr style=\"text-align: right;\">\n",
       "      <th></th>\n",
       "      <th>Recency</th>\n",
       "      <th>Frequency</th>\n",
       "      <th>Monetary</th>\n",
       "      <th>R</th>\n",
       "      <th>F</th>\n",
       "      <th>M</th>\n",
       "      <th>RFM</th>\n",
       "    </tr>\n",
       "    <tr>\n",
       "      <th>customer_id</th>\n",
       "      <th></th>\n",
       "      <th></th>\n",
       "      <th></th>\n",
       "      <th></th>\n",
       "      <th></th>\n",
       "      <th></th>\n",
       "      <th></th>\n",
       "    </tr>\n",
       "  </thead>\n",
       "  <tbody>\n",
       "    <tr>\n",
       "      <th>162074559143</th>\n",
       "      <td>62</td>\n",
       "      <td>1</td>\n",
       "      <td>1.0</td>\n",
       "      <td>4</td>\n",
       "      <td>1</td>\n",
       "      <td>1</td>\n",
       "      <td>411</td>\n",
       "    </tr>\n",
       "    <tr>\n",
       "      <th>162082081317</th>\n",
       "      <td>432</td>\n",
       "      <td>1</td>\n",
       "      <td>54419.0</td>\n",
       "      <td>2</td>\n",
       "      <td>1</td>\n",
       "      <td>4</td>\n",
       "      <td>214</td>\n",
       "    </tr>\n",
       "    <tr>\n",
       "      <th>163623918706</th>\n",
       "      <td>70</td>\n",
       "      <td>1</td>\n",
       "      <td>1078.8</td>\n",
       "      <td>4</td>\n",
       "      <td>1</td>\n",
       "      <td>1</td>\n",
       "      <td>411</td>\n",
       "    </tr>\n",
       "    <tr>\n",
       "      <th>164381930905</th>\n",
       "      <td>84</td>\n",
       "      <td>1</td>\n",
       "      <td>2473.5</td>\n",
       "      <td>4</td>\n",
       "      <td>1</td>\n",
       "      <td>1</td>\n",
       "      <td>411</td>\n",
       "    </tr>\n",
       "    <tr>\n",
       "      <th>182929244726</th>\n",
       "      <td>99</td>\n",
       "      <td>1</td>\n",
       "      <td>7995.0</td>\n",
       "      <td>4</td>\n",
       "      <td>1</td>\n",
       "      <td>2</td>\n",
       "      <td>412</td>\n",
       "    </tr>\n",
       "  </tbody>\n",
       "</table>\n",
       "</div>"
      ],
      "text/plain": [
       "              Recency  Frequency  Monetary  R  F  M  RFM\n",
       "customer_id                                             \n",
       "162074559143       62          1       1.0  4  1  1  411\n",
       "162082081317      432          1   54419.0  2  1  4  214\n",
       "163623918706       70          1    1078.8  4  1  1  411\n",
       "164381930905       84          1    2473.5  4  1  1  411\n",
       "182929244726       99          1    7995.0  4  1  2  412"
      ]
     },
     "execution_count": 177,
     "metadata": {},
     "output_type": "execute_result"
    }
   ],
   "source": [
    "rfm.head()"
   ]
  },
  {
   "cell_type": "code",
   "execution_count": 181,
   "metadata": {},
   "outputs": [
    {
     "data": {
      "text/plain": [
       "52"
      ]
     },
     "execution_count": 181,
     "metadata": {},
     "output_type": "execute_result"
    }
   ],
   "source": [
    "rfm['RFM'].nunique()"
   ]
  },
  {
   "cell_type": "markdown",
   "metadata": {},
   "source": [
    "Having 52 different segments using the concatenate method quickly becomes unwieldy for any practical use. We will need a more concise way to define our segments."
   ]
  },
  {
   "cell_type": "markdown",
   "metadata": {},
   "source": [
    "One of the most straightforward methods is to sum our scores to a single number and define RFM levels for each score range."
   ]
  },
  {
   "cell_type": "code",
   "execution_count": 182,
   "metadata": {},
   "outputs": [],
   "source": [
    "rfm['RFM_Score'] = rfm[['R','F','M']].sum(axis=1)"
   ]
  },
  {
   "cell_type": "code",
   "execution_count": 183,
   "metadata": {},
   "outputs": [
    {
     "data": {
      "text/html": [
       "<div>\n",
       "<style scoped>\n",
       "    .dataframe tbody tr th:only-of-type {\n",
       "        vertical-align: middle;\n",
       "    }\n",
       "\n",
       "    .dataframe tbody tr th {\n",
       "        vertical-align: top;\n",
       "    }\n",
       "\n",
       "    .dataframe thead th {\n",
       "        text-align: right;\n",
       "    }\n",
       "</style>\n",
       "<table border=\"1\" class=\"dataframe\">\n",
       "  <thead>\n",
       "    <tr style=\"text-align: right;\">\n",
       "      <th></th>\n",
       "      <th>Recency</th>\n",
       "      <th>Frequency</th>\n",
       "      <th>Monetary</th>\n",
       "      <th>R</th>\n",
       "      <th>F</th>\n",
       "      <th>M</th>\n",
       "      <th>RFM</th>\n",
       "      <th>RFM_Score</th>\n",
       "    </tr>\n",
       "    <tr>\n",
       "      <th>customer_id</th>\n",
       "      <th></th>\n",
       "      <th></th>\n",
       "      <th></th>\n",
       "      <th></th>\n",
       "      <th></th>\n",
       "      <th></th>\n",
       "      <th></th>\n",
       "      <th></th>\n",
       "    </tr>\n",
       "  </thead>\n",
       "  <tbody>\n",
       "    <tr>\n",
       "      <th>162074559143</th>\n",
       "      <td>62</td>\n",
       "      <td>1</td>\n",
       "      <td>1.0</td>\n",
       "      <td>4</td>\n",
       "      <td>1</td>\n",
       "      <td>1</td>\n",
       "      <td>411</td>\n",
       "      <td>6.0</td>\n",
       "    </tr>\n",
       "    <tr>\n",
       "      <th>162082081317</th>\n",
       "      <td>432</td>\n",
       "      <td>1</td>\n",
       "      <td>54419.0</td>\n",
       "      <td>2</td>\n",
       "      <td>1</td>\n",
       "      <td>4</td>\n",
       "      <td>214</td>\n",
       "      <td>7.0</td>\n",
       "    </tr>\n",
       "    <tr>\n",
       "      <th>163623918706</th>\n",
       "      <td>70</td>\n",
       "      <td>1</td>\n",
       "      <td>1078.8</td>\n",
       "      <td>4</td>\n",
       "      <td>1</td>\n",
       "      <td>1</td>\n",
       "      <td>411</td>\n",
       "      <td>6.0</td>\n",
       "    </tr>\n",
       "    <tr>\n",
       "      <th>164381930905</th>\n",
       "      <td>84</td>\n",
       "      <td>1</td>\n",
       "      <td>2473.5</td>\n",
       "      <td>4</td>\n",
       "      <td>1</td>\n",
       "      <td>1</td>\n",
       "      <td>411</td>\n",
       "      <td>6.0</td>\n",
       "    </tr>\n",
       "    <tr>\n",
       "      <th>182929244726</th>\n",
       "      <td>99</td>\n",
       "      <td>1</td>\n",
       "      <td>7995.0</td>\n",
       "      <td>4</td>\n",
       "      <td>1</td>\n",
       "      <td>2</td>\n",
       "      <td>412</td>\n",
       "      <td>7.0</td>\n",
       "    </tr>\n",
       "  </tbody>\n",
       "</table>\n",
       "</div>"
      ],
      "text/plain": [
       "              Recency  Frequency  Monetary  R  F  M  RFM  RFM_Score\n",
       "customer_id                                                        \n",
       "162074559143       62          1       1.0  4  1  1  411        6.0\n",
       "162082081317      432          1   54419.0  2  1  4  214        7.0\n",
       "163623918706       70          1    1078.8  4  1  1  411        6.0\n",
       "164381930905       84          1    2473.5  4  1  1  411        6.0\n",
       "182929244726       99          1    7995.0  4  1  2  412        7.0"
      ]
     },
     "execution_count": 183,
     "metadata": {},
     "output_type": "execute_result"
    }
   ],
   "source": [
    "rfm.head()"
   ]
  },
  {
   "cell_type": "markdown",
   "metadata": {},
   "source": [
    "We can get creative and hypothesize about what each score range entails"
   ]
  },
  {
   "cell_type": "code",
   "execution_count": 194,
   "metadata": {},
   "outputs": [
    {
     "data": {
      "text/html": [
       "<div>\n",
       "<style scoped>\n",
       "    .dataframe tbody tr th:only-of-type {\n",
       "        vertical-align: middle;\n",
       "    }\n",
       "\n",
       "    .dataframe tbody tr th {\n",
       "        vertical-align: top;\n",
       "    }\n",
       "\n",
       "    .dataframe thead th {\n",
       "        text-align: right;\n",
       "    }\n",
       "</style>\n",
       "<table border=\"1\" class=\"dataframe\">\n",
       "  <thead>\n",
       "    <tr style=\"text-align: right;\">\n",
       "      <th></th>\n",
       "      <th>Recency</th>\n",
       "      <th>Frequency</th>\n",
       "      <th>Monetary</th>\n",
       "      <th>R</th>\n",
       "      <th>F</th>\n",
       "      <th>M</th>\n",
       "      <th>RFM</th>\n",
       "      <th>RFM_Score</th>\n",
       "      <th>RFM_Level</th>\n",
       "    </tr>\n",
       "    <tr>\n",
       "      <th>customer_id</th>\n",
       "      <th></th>\n",
       "      <th></th>\n",
       "      <th></th>\n",
       "      <th></th>\n",
       "      <th></th>\n",
       "      <th></th>\n",
       "      <th></th>\n",
       "      <th></th>\n",
       "      <th></th>\n",
       "    </tr>\n",
       "  </thead>\n",
       "  <tbody>\n",
       "    <tr>\n",
       "      <th>162074559143</th>\n",
       "      <td>62</td>\n",
       "      <td>1</td>\n",
       "      <td>1.0</td>\n",
       "      <td>4</td>\n",
       "      <td>1</td>\n",
       "      <td>1</td>\n",
       "      <td>411</td>\n",
       "      <td>6.0</td>\n",
       "      <td>Potential</td>\n",
       "    </tr>\n",
       "    <tr>\n",
       "      <th>162082081317</th>\n",
       "      <td>432</td>\n",
       "      <td>1</td>\n",
       "      <td>54419.0</td>\n",
       "      <td>2</td>\n",
       "      <td>1</td>\n",
       "      <td>4</td>\n",
       "      <td>214</td>\n",
       "      <td>7.0</td>\n",
       "      <td>Loyal</td>\n",
       "    </tr>\n",
       "    <tr>\n",
       "      <th>163623918706</th>\n",
       "      <td>70</td>\n",
       "      <td>1</td>\n",
       "      <td>1078.8</td>\n",
       "      <td>4</td>\n",
       "      <td>1</td>\n",
       "      <td>1</td>\n",
       "      <td>411</td>\n",
       "      <td>6.0</td>\n",
       "      <td>Potential</td>\n",
       "    </tr>\n",
       "    <tr>\n",
       "      <th>164381930905</th>\n",
       "      <td>84</td>\n",
       "      <td>1</td>\n",
       "      <td>2473.5</td>\n",
       "      <td>4</td>\n",
       "      <td>1</td>\n",
       "      <td>1</td>\n",
       "      <td>411</td>\n",
       "      <td>6.0</td>\n",
       "      <td>Potential</td>\n",
       "    </tr>\n",
       "    <tr>\n",
       "      <th>182929244726</th>\n",
       "      <td>99</td>\n",
       "      <td>1</td>\n",
       "      <td>7995.0</td>\n",
       "      <td>4</td>\n",
       "      <td>1</td>\n",
       "      <td>2</td>\n",
       "      <td>412</td>\n",
       "      <td>7.0</td>\n",
       "      <td>Loyal</td>\n",
       "    </tr>\n",
       "  </tbody>\n",
       "</table>\n",
       "</div>"
      ],
      "text/plain": [
       "              Recency  Frequency  Monetary  R  F  M  RFM  RFM_Score  RFM_Level\n",
       "customer_id                                                                   \n",
       "162074559143       62          1       1.0  4  1  1  411        6.0  Potential\n",
       "162082081317      432          1   54419.0  2  1  4  214        7.0      Loyal\n",
       "163623918706       70          1    1078.8  4  1  1  411        6.0  Potential\n",
       "164381930905       84          1    2473.5  4  1  1  411        6.0  Potential\n",
       "182929244726       99          1    7995.0  4  1  2  412        7.0      Loyal"
      ]
     },
     "execution_count": 194,
     "metadata": {},
     "output_type": "execute_result"
    }
   ],
   "source": [
    "# Define rfm_level function\n",
    "def rfm_level(df):\n",
    "    if df['RFM_Score'] >= 8:\n",
    "        return 'Champions'\n",
    "    elif ((df['RFM_Score'] >= 7) and (df['RFM_Score'] < 8)):\n",
    "        return 'Loyal'\n",
    "    elif ((df['RFM_Score'] >= 6) and (df['RFM_Score'] < 7)):\n",
    "        return 'Potential'\n",
    "    elif ((df['RFM_Score'] >= 5) and (df['RFM_Score'] < 6)):\n",
    "        return 'Promising'\n",
    "    elif ((df['RFM_Score'] >= 4) and (df['RFM_Score'] < 5)):\n",
    "        return 'Needs Attention'\n",
    "    else:\n",
    "        return 'Require Activation'# Create a new variable RFM_Level\n",
    "rfm['RFM_Level'] = rfm.apply(rfm_level, axis=1)# Print the header with top 5 rows to the console\n",
    "rfm.head()"
   ]
  },
  {
   "cell_type": "code",
   "execution_count": 195,
   "metadata": {},
   "outputs": [
    {
     "data": {
      "text/html": [
       "<div>\n",
       "<style scoped>\n",
       "    .dataframe tbody tr th:only-of-type {\n",
       "        vertical-align: middle;\n",
       "    }\n",
       "\n",
       "    .dataframe tbody tr th {\n",
       "        vertical-align: top;\n",
       "    }\n",
       "\n",
       "    .dataframe thead tr th {\n",
       "        text-align: left;\n",
       "    }\n",
       "\n",
       "    .dataframe thead tr:last-of-type th {\n",
       "        text-align: right;\n",
       "    }\n",
       "</style>\n",
       "<table border=\"1\" class=\"dataframe\">\n",
       "  <thead>\n",
       "    <tr>\n",
       "      <th></th>\n",
       "      <th>Recency</th>\n",
       "      <th>Frequency</th>\n",
       "      <th colspan=\"2\" halign=\"left\">Monetary</th>\n",
       "    </tr>\n",
       "    <tr>\n",
       "      <th></th>\n",
       "      <th>mean</th>\n",
       "      <th>mean</th>\n",
       "      <th>mean</th>\n",
       "      <th>count</th>\n",
       "    </tr>\n",
       "    <tr>\n",
       "      <th>RFM_Level</th>\n",
       "      <th></th>\n",
       "      <th></th>\n",
       "      <th></th>\n",
       "      <th></th>\n",
       "    </tr>\n",
       "  </thead>\n",
       "  <tbody>\n",
       "    <tr>\n",
       "      <th>Champions</th>\n",
       "      <td>254.654759</td>\n",
       "      <td>76.561692</td>\n",
       "      <td>224177.641450</td>\n",
       "      <td>4255</td>\n",
       "    </tr>\n",
       "    <tr>\n",
       "      <th>Loyal</th>\n",
       "      <td>563.821599</td>\n",
       "      <td>5.522215</td>\n",
       "      <td>22447.029310</td>\n",
       "      <td>1463</td>\n",
       "    </tr>\n",
       "    <tr>\n",
       "      <th>Needs Attention</th>\n",
       "      <td>948.326716</td>\n",
       "      <td>1.330438</td>\n",
       "      <td>4987.101456</td>\n",
       "      <td>2418</td>\n",
       "    </tr>\n",
       "    <tr>\n",
       "      <th>Potential</th>\n",
       "      <td>607.135738</td>\n",
       "      <td>2.751952</td>\n",
       "      <td>9516.505348</td>\n",
       "      <td>2689</td>\n",
       "    </tr>\n",
       "    <tr>\n",
       "      <th>Promising</th>\n",
       "      <td>803.507614</td>\n",
       "      <td>1.851664</td>\n",
       "      <td>6365.161732</td>\n",
       "      <td>1773</td>\n",
       "    </tr>\n",
       "    <tr>\n",
       "      <th>Require Activation</th>\n",
       "      <td>1456.335060</td>\n",
       "      <td>1.310881</td>\n",
       "      <td>2662.354888</td>\n",
       "      <td>579</td>\n",
       "    </tr>\n",
       "  </tbody>\n",
       "</table>\n",
       "</div>"
      ],
      "text/plain": [
       "                        Recency  Frequency       Monetary      \n",
       "                           mean       mean           mean count\n",
       "RFM_Level                                                      \n",
       "Champions            254.654759  76.561692  224177.641450  4255\n",
       "Loyal                563.821599   5.522215   22447.029310  1463\n",
       "Needs Attention      948.326716   1.330438    4987.101456  2418\n",
       "Potential            607.135738   2.751952    9516.505348  2689\n",
       "Promising            803.507614   1.851664    6365.161732  1773\n",
       "Require Activation  1456.335060   1.310881    2662.354888   579"
      ]
     },
     "execution_count": 195,
     "metadata": {},
     "output_type": "execute_result"
    }
   ],
   "source": [
    "# Calculate average values for each RFM_Level, and return a size of each segment \n",
    "rfm.groupby('RFM_Level').agg({\n",
    "    'Recency': ['mean'],\n",
    "    'Frequency': ['mean'],\n",
    "    'Monetary': ['mean', 'count']\n",
    "})"
   ]
  },
  {
   "cell_type": "markdown",
   "metadata": {},
   "source": [
    "#In this method of RFM,there is no proper distinction between the customers.\n",
    "We can see that there is huge difference between Champions and Loyal customer.\n",
    "Even promising customers and require activation does not show differentiation."
   ]
  },
  {
   "cell_type": "code",
   "execution_count": 197,
   "metadata": {},
   "outputs": [
    {
     "data": {
      "text/plain": [
       "211    1781\n",
       "411    1066\n",
       "311     902\n",
       "123     766\n",
       "434     674\n",
       "444     654\n",
       "111     579\n",
       "334     558\n",
       "112     468\n",
       "223     454\n",
       "312     445\n",
       "323     425\n",
       "113     415\n",
       "234     299\n",
       "122     284\n",
       "313     274\n",
       "134     261\n",
       "423     195\n",
       "412     195\n",
       "121     169\n",
       "413     157\n",
       "344     155\n",
       "124     153\n",
       "322     153\n",
       "222     133\n",
       "433     132\n",
       "213     132\n",
       "324     126\n",
       "333     123\n",
       "133     116\n",
       "212     113\n",
       "233     104\n",
       "224     102\n",
       "321      86\n",
       "424      68\n",
       "244      68\n",
       "422      65\n",
       "421      65\n",
       "221      56\n",
       "114      54\n",
       "314      46\n",
       "214      46\n",
       "414      15\n",
       "144      15\n",
       "232       7\n",
       "432       6\n",
       "132       5\n",
       "431       4\n",
       "131       3\n",
       "231       2\n",
       "332       2\n",
       "343       1\n",
       "Name: RFM, dtype: int64"
      ]
     },
     "execution_count": 197,
     "metadata": {},
     "output_type": "execute_result"
    }
   ],
   "source": [
    "rfm['RFM'].value_counts()"
   ]
  },
  {
   "cell_type": "code",
   "execution_count": 200,
   "metadata": {},
   "outputs": [
    {
     "data": {
      "text/html": [
       "<div>\n",
       "<style scoped>\n",
       "    .dataframe tbody tr th:only-of-type {\n",
       "        vertical-align: middle;\n",
       "    }\n",
       "\n",
       "    .dataframe tbody tr th {\n",
       "        vertical-align: top;\n",
       "    }\n",
       "\n",
       "    .dataframe thead th {\n",
       "        text-align: right;\n",
       "    }\n",
       "</style>\n",
       "<table border=\"1\" class=\"dataframe\">\n",
       "  <thead>\n",
       "    <tr style=\"text-align: right;\">\n",
       "      <th></th>\n",
       "      <th>Recency</th>\n",
       "      <th>Frequency</th>\n",
       "      <th>Monetary</th>\n",
       "      <th>R</th>\n",
       "      <th>F</th>\n",
       "      <th>M</th>\n",
       "      <th>RFM</th>\n",
       "      <th>RFM_Score</th>\n",
       "      <th>RFM_Level</th>\n",
       "    </tr>\n",
       "    <tr>\n",
       "      <th>customer_id</th>\n",
       "      <th></th>\n",
       "      <th></th>\n",
       "      <th></th>\n",
       "      <th></th>\n",
       "      <th></th>\n",
       "      <th></th>\n",
       "      <th></th>\n",
       "      <th></th>\n",
       "      <th></th>\n",
       "    </tr>\n",
       "  </thead>\n",
       "  <tbody>\n",
       "    <tr>\n",
       "      <th>162074559143</th>\n",
       "      <td>62</td>\n",
       "      <td>1</td>\n",
       "      <td>1.0</td>\n",
       "      <td>4</td>\n",
       "      <td>1</td>\n",
       "      <td>1</td>\n",
       "      <td>411</td>\n",
       "      <td>6.0</td>\n",
       "      <td>Potential</td>\n",
       "    </tr>\n",
       "    <tr>\n",
       "      <th>162082081317</th>\n",
       "      <td>432</td>\n",
       "      <td>1</td>\n",
       "      <td>54419.0</td>\n",
       "      <td>2</td>\n",
       "      <td>1</td>\n",
       "      <td>4</td>\n",
       "      <td>214</td>\n",
       "      <td>7.0</td>\n",
       "      <td>Loyal</td>\n",
       "    </tr>\n",
       "    <tr>\n",
       "      <th>163623918706</th>\n",
       "      <td>70</td>\n",
       "      <td>1</td>\n",
       "      <td>1078.8</td>\n",
       "      <td>4</td>\n",
       "      <td>1</td>\n",
       "      <td>1</td>\n",
       "      <td>411</td>\n",
       "      <td>6.0</td>\n",
       "      <td>Potential</td>\n",
       "    </tr>\n",
       "    <tr>\n",
       "      <th>164381930905</th>\n",
       "      <td>84</td>\n",
       "      <td>1</td>\n",
       "      <td>2473.5</td>\n",
       "      <td>4</td>\n",
       "      <td>1</td>\n",
       "      <td>1</td>\n",
       "      <td>411</td>\n",
       "      <td>6.0</td>\n",
       "      <td>Potential</td>\n",
       "    </tr>\n",
       "    <tr>\n",
       "      <th>182929244726</th>\n",
       "      <td>99</td>\n",
       "      <td>1</td>\n",
       "      <td>7995.0</td>\n",
       "      <td>4</td>\n",
       "      <td>1</td>\n",
       "      <td>2</td>\n",
       "      <td>412</td>\n",
       "      <td>7.0</td>\n",
       "      <td>Loyal</td>\n",
       "    </tr>\n",
       "  </tbody>\n",
       "</table>\n",
       "</div>"
      ],
      "text/plain": [
       "              Recency  Frequency  Monetary  R  F  M  RFM  RFM_Score  RFM_Level\n",
       "customer_id                                                                   \n",
       "162074559143       62          1       1.0  4  1  1  411        6.0  Potential\n",
       "162082081317      432          1   54419.0  2  1  4  214        7.0      Loyal\n",
       "163623918706       70          1    1078.8  4  1  1  411        6.0  Potential\n",
       "164381930905       84          1    2473.5  4  1  1  411        6.0  Potential\n",
       "182929244726       99          1    7995.0  4  1  2  412        7.0      Loyal"
      ]
     },
     "execution_count": 200,
     "metadata": {},
     "output_type": "execute_result"
    }
   ],
   "source": [
    "rfm.head()"
   ]
  },
  {
   "cell_type": "markdown",
   "metadata": {},
   "source": [
    "Trying to use clustering in the RFM values."
   ]
  },
  {
   "cell_type": "code",
   "execution_count": 202,
   "metadata": {},
   "outputs": [],
   "source": [
    "rfm_c=rfm[['Recency','Frequency','Monetary']]"
   ]
  },
  {
   "cell_type": "code",
   "execution_count": 204,
   "metadata": {},
   "outputs": [
    {
     "data": {
      "text/html": [
       "<div>\n",
       "<style scoped>\n",
       "    .dataframe tbody tr th:only-of-type {\n",
       "        vertical-align: middle;\n",
       "    }\n",
       "\n",
       "    .dataframe tbody tr th {\n",
       "        vertical-align: top;\n",
       "    }\n",
       "\n",
       "    .dataframe thead th {\n",
       "        text-align: right;\n",
       "    }\n",
       "</style>\n",
       "<table border=\"1\" class=\"dataframe\">\n",
       "  <thead>\n",
       "    <tr style=\"text-align: right;\">\n",
       "      <th></th>\n",
       "      <th>Recency</th>\n",
       "      <th>Frequency</th>\n",
       "      <th>Monetary</th>\n",
       "    </tr>\n",
       "    <tr>\n",
       "      <th>customer_id</th>\n",
       "      <th></th>\n",
       "      <th></th>\n",
       "      <th></th>\n",
       "    </tr>\n",
       "  </thead>\n",
       "  <tbody>\n",
       "    <tr>\n",
       "      <th>162074559143</th>\n",
       "      <td>62</td>\n",
       "      <td>1</td>\n",
       "      <td>1.0</td>\n",
       "    </tr>\n",
       "    <tr>\n",
       "      <th>162082081317</th>\n",
       "      <td>432</td>\n",
       "      <td>1</td>\n",
       "      <td>54419.0</td>\n",
       "    </tr>\n",
       "    <tr>\n",
       "      <th>163623918706</th>\n",
       "      <td>70</td>\n",
       "      <td>1</td>\n",
       "      <td>1078.8</td>\n",
       "    </tr>\n",
       "    <tr>\n",
       "      <th>164381930905</th>\n",
       "      <td>84</td>\n",
       "      <td>1</td>\n",
       "      <td>2473.5</td>\n",
       "    </tr>\n",
       "    <tr>\n",
       "      <th>182929244726</th>\n",
       "      <td>99</td>\n",
       "      <td>1</td>\n",
       "      <td>7995.0</td>\n",
       "    </tr>\n",
       "  </tbody>\n",
       "</table>\n",
       "</div>"
      ],
      "text/plain": [
       "              Recency  Frequency  Monetary\n",
       "customer_id                               \n",
       "162074559143       62          1       1.0\n",
       "162082081317      432          1   54419.0\n",
       "163623918706       70          1    1078.8\n",
       "164381930905       84          1    2473.5\n",
       "182929244726       99          1    7995.0"
      ]
     },
     "execution_count": 204,
     "metadata": {},
     "output_type": "execute_result"
    }
   ],
   "source": [
    "rfm_c.head()"
   ]
  },
  {
   "cell_type": "code",
   "execution_count": 209,
   "metadata": {},
   "outputs": [],
   "source": [
    "#Scaling the data to apply k-means clustering\n",
    "#applying log to the skewed data.\n",
    "def neg_to_zero(x): #Neglecting zeros to take log\n",
    "    if x<=0:\n",
    "        return 1\n",
    "    else:\n",
    "        return x\n",
    "rfm['Recency'] = [neg_to_zero(x) for x in rfm.Recency]\n",
    "rfm['Monetary'] = [neg_to_zero(x) for x in rfm.Monetary]"
   ]
  },
  {
   "cell_type": "code",
   "execution_count": 210,
   "metadata": {},
   "outputs": [],
   "source": [
    "rfm_log=rfm_c.apply(np.log , axis=1).round(3)"
   ]
  },
  {
   "cell_type": "code",
   "execution_count": 215,
   "metadata": {},
   "outputs": [],
   "source": [
    "#To scale the data\n",
    "from sklearn import preprocessing"
   ]
  },
  {
   "cell_type": "code",
   "execution_count": 218,
   "metadata": {},
   "outputs": [],
   "source": [
    "scaler=preprocessing.StandardScaler()\n",
    "rfm_scaled=scaler.fit_transform(rfm_log)"
   ]
  },
  {
   "cell_type": "code",
   "execution_count": 220,
   "metadata": {},
   "outputs": [],
   "source": [
    "# transform into a dataframe\n",
    "rfm_scaled = pd.DataFrame(rfm_scaled, index = rfm.index, columns = rfm_log.columns)"
   ]
  },
  {
   "cell_type": "code",
   "execution_count": 222,
   "metadata": {},
   "outputs": [
    {
     "data": {
      "text/html": [
       "<div>\n",
       "<style scoped>\n",
       "    .dataframe tbody tr th:only-of-type {\n",
       "        vertical-align: middle;\n",
       "    }\n",
       "\n",
       "    .dataframe tbody tr th {\n",
       "        vertical-align: top;\n",
       "    }\n",
       "\n",
       "    .dataframe thead th {\n",
       "        text-align: right;\n",
       "    }\n",
       "</style>\n",
       "<table border=\"1\" class=\"dataframe\">\n",
       "  <thead>\n",
       "    <tr style=\"text-align: right;\">\n",
       "      <th></th>\n",
       "      <th>Recency</th>\n",
       "      <th>Frequency</th>\n",
       "      <th>Monetary</th>\n",
       "    </tr>\n",
       "    <tr>\n",
       "      <th>customer_id</th>\n",
       "      <th></th>\n",
       "      <th></th>\n",
       "      <th></th>\n",
       "    </tr>\n",
       "  </thead>\n",
       "  <tbody>\n",
       "    <tr>\n",
       "      <th>162074559143</th>\n",
       "      <td>-1.152703</td>\n",
       "      <td>-0.865279</td>\n",
       "      <td>-5.480765</td>\n",
       "    </tr>\n",
       "    <tr>\n",
       "      <th>162082081317</th>\n",
       "      <td>0.218754</td>\n",
       "      <td>-0.865279</td>\n",
       "      <td>0.815757</td>\n",
       "    </tr>\n",
       "    <tr>\n",
       "      <th>163623918706</th>\n",
       "      <td>-1.067207</td>\n",
       "      <td>-0.865279</td>\n",
       "      <td>-1.447850</td>\n",
       "    </tr>\n",
       "    <tr>\n",
       "      <th>164381930905</th>\n",
       "      <td>-0.937905</td>\n",
       "      <td>-0.865279</td>\n",
       "      <td>-0.969143</td>\n",
       "    </tr>\n",
       "    <tr>\n",
       "      <th>182929244726</th>\n",
       "      <td>-0.822027</td>\n",
       "      <td>-0.865279</td>\n",
       "      <td>-0.291216</td>\n",
       "    </tr>\n",
       "  </tbody>\n",
       "</table>\n",
       "</div>"
      ],
      "text/plain": [
       "               Recency  Frequency  Monetary\n",
       "customer_id                                \n",
       "162074559143 -1.152703  -0.865279 -5.480765\n",
       "162082081317  0.218754  -0.865279  0.815757\n",
       "163623918706 -1.067207  -0.865279 -1.447850\n",
       "164381930905 -0.937905  -0.865279 -0.969143\n",
       "182929244726 -0.822027  -0.865279 -0.291216"
      ]
     },
     "execution_count": 222,
     "metadata": {},
     "output_type": "execute_result"
    }
   ],
   "source": [
    "rfm_scaled.head()"
   ]
  },
  {
   "cell_type": "code",
   "execution_count": 223,
   "metadata": {},
   "outputs": [
    {
     "data": {
      "text/plain": [
       "<matplotlib.axes._subplots.AxesSubplot at 0x224aab4b588>"
      ]
     },
     "execution_count": 223,
     "metadata": {},
     "output_type": "execute_result"
    },
    {
     "data": {
      "image/png": "[encoded data removed]",
      "text/plain": [
       "<Figure size 432x288 with 1 Axes>"
      ]
     },
     "metadata": {
      "needs_background": "light"
     },
     "output_type": "display_data"
    }
   ],
   "source": [
    "sns.distplot(rfm_scaled['Monetary'])"
   ]
  },
  {
   "cell_type": "code",
   "execution_count": 224,
   "metadata": {},
   "outputs": [
    {
     "data": {
      "image/png": "[encoded data removed]",
      "text/plain": [
       "<IPython.core.display.Image object>"
      ]
     },
     "execution_count": 224,
     "metadata": {},
     "output_type": "execute_result"
    }
   ],
   "source": [
    "#Clustering\n",
    "\n",
    "from IPython.display import Image\n",
    "Image(filename='cluster.png') "
   ]
  },
  {
   "cell_type": "code",
   "execution_count": 229,
   "metadata": {},
   "outputs": [
    {
     "data": {
      "image/png": "[encoded data removed]",
      "text/plain": [
       "<Figure size 432x288 with 1 Axes>"
      ]
     },
     "metadata": {
      "needs_background": "light"
     },
     "output_type": "display_data"
    }
   ],
   "source": [
    "#The elbow method to choose the number of clusters\n",
    "from sklearn.cluster import KMeans\n",
    "wss={}\n",
    "for k in range(1,11):\n",
    "    kmeans=KMeans(n_clusters=k,init='k-means++', max_iter=300)\n",
    "    kmeans.fit(rfm_scaled)\n",
    "    wss[k]=kmeans.inertia_\n",
    "#plot the wss values\n",
    "sns.pointplot(x = list(wss.keys()), y = list(wss.values()))\n",
    "plt.xlabel('K Numbers',color='r')\n",
    "plt.ylabel('WCSS',color='r')\n",
    "plt.show()"
   ]
  },
  {
   "cell_type": "code",
   "execution_count": 230,
   "metadata": {},
   "outputs": [
    {
     "data": {
      "text/html": [
       "<div>\n",
       "<style scoped>\n",
       "    .dataframe tbody tr th:only-of-type {\n",
       "        vertical-align: middle;\n",
       "    }\n",
       "\n",
       "    .dataframe tbody tr th {\n",
       "        vertical-align: top;\n",
       "    }\n",
       "\n",
       "    .dataframe thead th {\n",
       "        text-align: right;\n",
       "    }\n",
       "</style>\n",
       "<table border=\"1\" class=\"dataframe\">\n",
       "  <thead>\n",
       "    <tr style=\"text-align: right;\">\n",
       "      <th></th>\n",
       "      <th>Recency</th>\n",
       "      <th>Frequency</th>\n",
       "      <th>Monetary</th>\n",
       "      <th>R</th>\n",
       "      <th>F</th>\n",
       "      <th>M</th>\n",
       "      <th>RFM</th>\n",
       "      <th>RFM_Score</th>\n",
       "      <th>RFM_Level</th>\n",
       "      <th>K_Cluster</th>\n",
       "    </tr>\n",
       "    <tr>\n",
       "      <th>customer_id</th>\n",
       "      <th></th>\n",
       "      <th></th>\n",
       "      <th></th>\n",
       "      <th></th>\n",
       "      <th></th>\n",
       "      <th></th>\n",
       "      <th></th>\n",
       "      <th></th>\n",
       "      <th></th>\n",
       "      <th></th>\n",
       "    </tr>\n",
       "  </thead>\n",
       "  <tbody>\n",
       "    <tr>\n",
       "      <th>162074559143</th>\n",
       "      <td>62</td>\n",
       "      <td>1</td>\n",
       "      <td>1.0</td>\n",
       "      <td>4</td>\n",
       "      <td>1</td>\n",
       "      <td>1</td>\n",
       "      <td>411</td>\n",
       "      <td>6.0</td>\n",
       "      <td>Potential</td>\n",
       "      <td>2</td>\n",
       "    </tr>\n",
       "    <tr>\n",
       "      <th>162082081317</th>\n",
       "      <td>432</td>\n",
       "      <td>1</td>\n",
       "      <td>54419.0</td>\n",
       "      <td>2</td>\n",
       "      <td>1</td>\n",
       "      <td>4</td>\n",
       "      <td>214</td>\n",
       "      <td>7.0</td>\n",
       "      <td>Loyal</td>\n",
       "      <td>0</td>\n",
       "    </tr>\n",
       "    <tr>\n",
       "      <th>163623918706</th>\n",
       "      <td>70</td>\n",
       "      <td>1</td>\n",
       "      <td>1078.8</td>\n",
       "      <td>4</td>\n",
       "      <td>1</td>\n",
       "      <td>1</td>\n",
       "      <td>411</td>\n",
       "      <td>6.0</td>\n",
       "      <td>Potential</td>\n",
       "      <td>2</td>\n",
       "    </tr>\n",
       "    <tr>\n",
       "      <th>164381930905</th>\n",
       "      <td>84</td>\n",
       "      <td>1</td>\n",
       "      <td>2473.5</td>\n",
       "      <td>4</td>\n",
       "      <td>1</td>\n",
       "      <td>1</td>\n",
       "      <td>411</td>\n",
       "      <td>6.0</td>\n",
       "      <td>Potential</td>\n",
       "      <td>2</td>\n",
       "    </tr>\n",
       "    <tr>\n",
       "      <th>182929244726</th>\n",
       "      <td>99</td>\n",
       "      <td>1</td>\n",
       "      <td>7995.0</td>\n",
       "      <td>4</td>\n",
       "      <td>1</td>\n",
       "      <td>2</td>\n",
       "      <td>412</td>\n",
       "      <td>7.0</td>\n",
       "      <td>Loyal</td>\n",
       "      <td>2</td>\n",
       "    </tr>\n",
       "  </tbody>\n",
       "</table>\n",
       "</div>"
      ],
      "text/plain": [
       "              Recency  Frequency  Monetary  R  F  M  RFM  RFM_Score  \\\n",
       "customer_id                                                           \n",
       "162074559143       62          1       1.0  4  1  1  411        6.0   \n",
       "162082081317      432          1   54419.0  2  1  4  214        7.0   \n",
       "163623918706       70          1    1078.8  4  1  1  411        6.0   \n",
       "164381930905       84          1    2473.5  4  1  1  411        6.0   \n",
       "182929244726       99          1    7995.0  4  1  2  412        7.0   \n",
       "\n",
       "              RFM_Level  K_Cluster  \n",
       "customer_id                         \n",
       "162074559143  Potential          2  \n",
       "162082081317      Loyal          0  \n",
       "163623918706  Potential          2  \n",
       "164381930905  Potential          2  \n",
       "182929244726      Loyal          2  "
      ]
     },
     "execution_count": 230,
     "metadata": {},
     "output_type": "execute_result"
    }
   ],
   "source": [
    "#Choosing the optimum number of cluster to be 4\n",
    "# clustering\n",
    "clus = KMeans(n_clusters= 4, init= 'k-means++', max_iter= 300)\n",
    "clus.fit(rfm_scaled)# Assign the clusters to datamart\n",
    "rfm['K_Cluster'] = clus.labels_\n",
    "rfm.head()"
   ]
  },
  {
   "cell_type": "code",
   "execution_count": 238,
   "metadata": {},
   "outputs": [],
   "source": [
    "rfm=rfm.reset_index()"
   ]
  },
  {
   "cell_type": "code",
   "execution_count": 240,
   "metadata": {},
   "outputs": [
    {
     "data": {
      "text/plain": [
       "True    13177\n",
       "Name: customer_id, dtype: int64"
      ]
     },
     "execution_count": 240,
     "metadata": {},
     "output_type": "execute_result"
    }
   ],
   "source": [
    "rfm['customer_id'].isin(df['customer_id']).value_counts()"
   ]
  },
  {
   "cell_type": "code",
   "execution_count": 250,
   "metadata": {},
   "outputs": [
    {
     "data": {
      "text/html": [
       "<div>\n",
       "<style scoped>\n",
       "    .dataframe tbody tr th:only-of-type {\n",
       "        vertical-align: middle;\n",
       "    }\n",
       "\n",
       "    .dataframe tbody tr th {\n",
       "        vertical-align: top;\n",
       "    }\n",
       "\n",
       "    .dataframe thead th {\n",
       "        text-align: right;\n",
       "    }\n",
       "</style>\n",
       "<table border=\"1\" class=\"dataframe\">\n",
       "  <thead>\n",
       "    <tr style=\"text-align: right;\">\n",
       "      <th></th>\n",
       "      <th>customer_id</th>\n",
       "      <th>amount</th>\n",
       "      <th>points</th>\n",
       "      <th>tier</th>\n",
       "      <th>Recency</th>\n",
       "      <th>Frequency</th>\n",
       "      <th>Monetary</th>\n",
       "      <th>R</th>\n",
       "      <th>F</th>\n",
       "      <th>M</th>\n",
       "      <th>RFM</th>\n",
       "      <th>RFM_Score</th>\n",
       "      <th>RFM_Level</th>\n",
       "      <th>K_Cluster</th>\n",
       "    </tr>\n",
       "  </thead>\n",
       "  <tbody>\n",
       "    <tr>\n",
       "      <th>0</th>\n",
       "      <td>162074559143</td>\n",
       "      <td>1.00</td>\n",
       "      <td>0.01</td>\n",
       "      <td>Blue Member</td>\n",
       "      <td>62</td>\n",
       "      <td>1</td>\n",
       "      <td>1.00</td>\n",
       "      <td>4</td>\n",
       "      <td>1</td>\n",
       "      <td>1</td>\n",
       "      <td>411</td>\n",
       "      <td>6.0</td>\n",
       "      <td>Potential</td>\n",
       "      <td>2</td>\n",
       "    </tr>\n",
       "    <tr>\n",
       "      <th>1</th>\n",
       "      <td>162082081317</td>\n",
       "      <td>54419.00</td>\n",
       "      <td>544.19</td>\n",
       "      <td>Blue Member</td>\n",
       "      <td>432</td>\n",
       "      <td>1</td>\n",
       "      <td>54419.00</td>\n",
       "      <td>2</td>\n",
       "      <td>1</td>\n",
       "      <td>4</td>\n",
       "      <td>214</td>\n",
       "      <td>7.0</td>\n",
       "      <td>Loyal</td>\n",
       "      <td>0</td>\n",
       "    </tr>\n",
       "    <tr>\n",
       "      <th>2</th>\n",
       "      <td>163623918706</td>\n",
       "      <td>1078.80</td>\n",
       "      <td>10.79</td>\n",
       "      <td>Blue Member</td>\n",
       "      <td>70</td>\n",
       "      <td>1</td>\n",
       "      <td>1078.80</td>\n",
       "      <td>4</td>\n",
       "      <td>1</td>\n",
       "      <td>1</td>\n",
       "      <td>411</td>\n",
       "      <td>6.0</td>\n",
       "      <td>Potential</td>\n",
       "      <td>2</td>\n",
       "    </tr>\n",
       "    <tr>\n",
       "      <th>3</th>\n",
       "      <td>164381930905</td>\n",
       "      <td>2473.50</td>\n",
       "      <td>24.74</td>\n",
       "      <td>Blue Member</td>\n",
       "      <td>84</td>\n",
       "      <td>1</td>\n",
       "      <td>2473.50</td>\n",
       "      <td>4</td>\n",
       "      <td>1</td>\n",
       "      <td>1</td>\n",
       "      <td>411</td>\n",
       "      <td>6.0</td>\n",
       "      <td>Potential</td>\n",
       "      <td>2</td>\n",
       "    </tr>\n",
       "    <tr>\n",
       "      <th>4</th>\n",
       "      <td>182929244726</td>\n",
       "      <td>7995.00</td>\n",
       "      <td>79.95</td>\n",
       "      <td>Blue Member</td>\n",
       "      <td>99</td>\n",
       "      <td>1</td>\n",
       "      <td>7995.00</td>\n",
       "      <td>4</td>\n",
       "      <td>1</td>\n",
       "      <td>2</td>\n",
       "      <td>412</td>\n",
       "      <td>7.0</td>\n",
       "      <td>Loyal</td>\n",
       "      <td>2</td>\n",
       "    </tr>\n",
       "    <tr>\n",
       "      <th>5</th>\n",
       "      <td>182973872100</td>\n",
       "      <td>10162.00</td>\n",
       "      <td>101.62</td>\n",
       "      <td>Blue Member</td>\n",
       "      <td>592</td>\n",
       "      <td>6</td>\n",
       "      <td>10162.00</td>\n",
       "      <td>2</td>\n",
       "      <td>2</td>\n",
       "      <td>3</td>\n",
       "      <td>223</td>\n",
       "      <td>7.0</td>\n",
       "      <td>Loyal</td>\n",
       "      <td>0</td>\n",
       "    </tr>\n",
       "    <tr>\n",
       "      <th>6</th>\n",
       "      <td>182975639455</td>\n",
       "      <td>2000.00</td>\n",
       "      <td>20.00</td>\n",
       "      <td>Blue Member</td>\n",
       "      <td>98</td>\n",
       "      <td>1</td>\n",
       "      <td>2000.00</td>\n",
       "      <td>4</td>\n",
       "      <td>1</td>\n",
       "      <td>1</td>\n",
       "      <td>411</td>\n",
       "      <td>6.0</td>\n",
       "      <td>Potential</td>\n",
       "      <td>2</td>\n",
       "    </tr>\n",
       "    <tr>\n",
       "      <th>7</th>\n",
       "      <td>182984622165</td>\n",
       "      <td>1499.00</td>\n",
       "      <td>14.99</td>\n",
       "      <td>Blue Member</td>\n",
       "      <td>101</td>\n",
       "      <td>1</td>\n",
       "      <td>1499.00</td>\n",
       "      <td>4</td>\n",
       "      <td>1</td>\n",
       "      <td>1</td>\n",
       "      <td>411</td>\n",
       "      <td>6.0</td>\n",
       "      <td>Potential</td>\n",
       "      <td>2</td>\n",
       "    </tr>\n",
       "    <tr>\n",
       "      <th>8</th>\n",
       "      <td>183017849518</td>\n",
       "      <td>57610.00</td>\n",
       "      <td>576.10</td>\n",
       "      <td>Blue Member</td>\n",
       "      <td>566</td>\n",
       "      <td>6</td>\n",
       "      <td>57610.00</td>\n",
       "      <td>2</td>\n",
       "      <td>2</td>\n",
       "      <td>4</td>\n",
       "      <td>224</td>\n",
       "      <td>8.0</td>\n",
       "      <td>Champions</td>\n",
       "      <td>3</td>\n",
       "    </tr>\n",
       "    <tr>\n",
       "      <th>9</th>\n",
       "      <td>183031349112</td>\n",
       "      <td>2690.00</td>\n",
       "      <td>26.90</td>\n",
       "      <td>Blue Member</td>\n",
       "      <td>87</td>\n",
       "      <td>1</td>\n",
       "      <td>2690.00</td>\n",
       "      <td>4</td>\n",
       "      <td>1</td>\n",
       "      <td>1</td>\n",
       "      <td>411</td>\n",
       "      <td>6.0</td>\n",
       "      <td>Potential</td>\n",
       "      <td>2</td>\n",
       "    </tr>\n",
       "    <tr>\n",
       "      <th>10</th>\n",
       "      <td>183116132731</td>\n",
       "      <td>5000.00</td>\n",
       "      <td>50.00</td>\n",
       "      <td>Blue Member</td>\n",
       "      <td>793</td>\n",
       "      <td>1</td>\n",
       "      <td>5000.00</td>\n",
       "      <td>2</td>\n",
       "      <td>1</td>\n",
       "      <td>1</td>\n",
       "      <td>211</td>\n",
       "      <td>4.0</td>\n",
       "      <td>Needs Attention</td>\n",
       "      <td>0</td>\n",
       "    </tr>\n",
       "    <tr>\n",
       "      <th>11</th>\n",
       "      <td>183137356457</td>\n",
       "      <td>4196.76</td>\n",
       "      <td>41.97</td>\n",
       "      <td>Blue Member</td>\n",
       "      <td>68</td>\n",
       "      <td>2</td>\n",
       "      <td>4196.76</td>\n",
       "      <td>4</td>\n",
       "      <td>1</td>\n",
       "      <td>1</td>\n",
       "      <td>411</td>\n",
       "      <td>6.0</td>\n",
       "      <td>Potential</td>\n",
       "      <td>2</td>\n",
       "    </tr>\n",
       "    <tr>\n",
       "      <th>12</th>\n",
       "      <td>183151886305</td>\n",
       "      <td>2499.00</td>\n",
       "      <td>24.99</td>\n",
       "      <td>Blue Member</td>\n",
       "      <td>89</td>\n",
       "      <td>1</td>\n",
       "      <td>2499.00</td>\n",
       "      <td>4</td>\n",
       "      <td>1</td>\n",
       "      <td>1</td>\n",
       "      <td>411</td>\n",
       "      <td>6.0</td>\n",
       "      <td>Potential</td>\n",
       "      <td>2</td>\n",
       "    </tr>\n",
       "    <tr>\n",
       "      <th>13</th>\n",
       "      <td>183156812855</td>\n",
       "      <td>275705.81</td>\n",
       "      <td>3051.78</td>\n",
       "      <td>Silver Member</td>\n",
       "      <td>58</td>\n",
       "      <td>164</td>\n",
       "      <td>275705.81</td>\n",
       "      <td>4</td>\n",
       "      <td>4</td>\n",
       "      <td>4</td>\n",
       "      <td>444</td>\n",
       "      <td>12.0</td>\n",
       "      <td>Champions</td>\n",
       "      <td>1</td>\n",
       "    </tr>\n",
       "    <tr>\n",
       "      <th>14</th>\n",
       "      <td>183163865447</td>\n",
       "      <td>7998.00</td>\n",
       "      <td>79.98</td>\n",
       "      <td>Blue Member</td>\n",
       "      <td>84</td>\n",
       "      <td>1</td>\n",
       "      <td>7998.00</td>\n",
       "      <td>4</td>\n",
       "      <td>1</td>\n",
       "      <td>2</td>\n",
       "      <td>412</td>\n",
       "      <td>7.0</td>\n",
       "      <td>Loyal</td>\n",
       "      <td>2</td>\n",
       "    </tr>\n",
       "    <tr>\n",
       "      <th>15</th>\n",
       "      <td>183209613642</td>\n",
       "      <td>1700.00</td>\n",
       "      <td>17.00</td>\n",
       "      <td>Blue Member</td>\n",
       "      <td>100</td>\n",
       "      <td>1</td>\n",
       "      <td>1700.00</td>\n",
       "      <td>4</td>\n",
       "      <td>1</td>\n",
       "      <td>1</td>\n",
       "      <td>411</td>\n",
       "      <td>6.0</td>\n",
       "      <td>Potential</td>\n",
       "      <td>2</td>\n",
       "    </tr>\n",
       "    <tr>\n",
       "      <th>16</th>\n",
       "      <td>183232290745</td>\n",
       "      <td>5000.00</td>\n",
       "      <td>50.00</td>\n",
       "      <td>Blue Member</td>\n",
       "      <td>778</td>\n",
       "      <td>1</td>\n",
       "      <td>5000.00</td>\n",
       "      <td>2</td>\n",
       "      <td>1</td>\n",
       "      <td>1</td>\n",
       "      <td>211</td>\n",
       "      <td>4.0</td>\n",
       "      <td>Needs Attention</td>\n",
       "      <td>0</td>\n",
       "    </tr>\n",
       "    <tr>\n",
       "      <th>17</th>\n",
       "      <td>183232843264</td>\n",
       "      <td>5000.00</td>\n",
       "      <td>50.00</td>\n",
       "      <td>Blue Member</td>\n",
       "      <td>724</td>\n",
       "      <td>1</td>\n",
       "      <td>5000.00</td>\n",
       "      <td>2</td>\n",
       "      <td>1</td>\n",
       "      <td>1</td>\n",
       "      <td>211</td>\n",
       "      <td>4.0</td>\n",
       "      <td>Needs Attention</td>\n",
       "      <td>0</td>\n",
       "    </tr>\n",
       "    <tr>\n",
       "      <th>18</th>\n",
       "      <td>183249238324</td>\n",
       "      <td>5000.00</td>\n",
       "      <td>50.00</td>\n",
       "      <td>Blue Member</td>\n",
       "      <td>639</td>\n",
       "      <td>1</td>\n",
       "      <td>5000.00</td>\n",
       "      <td>2</td>\n",
       "      <td>1</td>\n",
       "      <td>1</td>\n",
       "      <td>211</td>\n",
       "      <td>4.0</td>\n",
       "      <td>Needs Attention</td>\n",
       "      <td>0</td>\n",
       "    </tr>\n",
       "    <tr>\n",
       "      <th>19</th>\n",
       "      <td>183338820273</td>\n",
       "      <td>26979.74</td>\n",
       "      <td>507.13</td>\n",
       "      <td>Blue Member</td>\n",
       "      <td>56</td>\n",
       "      <td>20</td>\n",
       "      <td>26979.74</td>\n",
       "      <td>4</td>\n",
       "      <td>3</td>\n",
       "      <td>3</td>\n",
       "      <td>433</td>\n",
       "      <td>10.0</td>\n",
       "      <td>Champions</td>\n",
       "      <td>3</td>\n",
       "    </tr>\n",
       "    <tr>\n",
       "      <th>20</th>\n",
       "      <td>183344572296</td>\n",
       "      <td>22655.00</td>\n",
       "      <td>226.55</td>\n",
       "      <td>Blue Member</td>\n",
       "      <td>419</td>\n",
       "      <td>10</td>\n",
       "      <td>22655.00</td>\n",
       "      <td>2</td>\n",
       "      <td>2</td>\n",
       "      <td>3</td>\n",
       "      <td>223</td>\n",
       "      <td>7.0</td>\n",
       "      <td>Loyal</td>\n",
       "      <td>3</td>\n",
       "    </tr>\n",
       "    <tr>\n",
       "      <th>21</th>\n",
       "      <td>183443804838</td>\n",
       "      <td>5387.00</td>\n",
       "      <td>53.87</td>\n",
       "      <td>Blue Member</td>\n",
       "      <td>363</td>\n",
       "      <td>6</td>\n",
       "      <td>5387.00</td>\n",
       "      <td>3</td>\n",
       "      <td>2</td>\n",
       "      <td>2</td>\n",
       "      <td>322</td>\n",
       "      <td>7.0</td>\n",
       "      <td>Loyal</td>\n",
       "      <td>0</td>\n",
       "    </tr>\n",
       "    <tr>\n",
       "      <th>22</th>\n",
       "      <td>183445630097</td>\n",
       "      <td>3100.00</td>\n",
       "      <td>31.00</td>\n",
       "      <td>Blue Member</td>\n",
       "      <td>101</td>\n",
       "      <td>1</td>\n",
       "      <td>3100.00</td>\n",
       "      <td>4</td>\n",
       "      <td>1</td>\n",
       "      <td>1</td>\n",
       "      <td>411</td>\n",
       "      <td>6.0</td>\n",
       "      <td>Potential</td>\n",
       "      <td>2</td>\n",
       "    </tr>\n",
       "    <tr>\n",
       "      <th>23</th>\n",
       "      <td>183446550918</td>\n",
       "      <td>2397.00</td>\n",
       "      <td>23.97</td>\n",
       "      <td>Blue Member</td>\n",
       "      <td>271</td>\n",
       "      <td>1</td>\n",
       "      <td>2397.00</td>\n",
       "      <td>3</td>\n",
       "      <td>1</td>\n",
       "      <td>1</td>\n",
       "      <td>311</td>\n",
       "      <td>5.0</td>\n",
       "      <td>Promising</td>\n",
       "      <td>2</td>\n",
       "    </tr>\n",
       "    <tr>\n",
       "      <th>24</th>\n",
       "      <td>183449612231</td>\n",
       "      <td>5000.00</td>\n",
       "      <td>50.00</td>\n",
       "      <td>Blue Member</td>\n",
       "      <td>829</td>\n",
       "      <td>1</td>\n",
       "      <td>5000.00</td>\n",
       "      <td>2</td>\n",
       "      <td>1</td>\n",
       "      <td>1</td>\n",
       "      <td>211</td>\n",
       "      <td>4.0</td>\n",
       "      <td>Needs Attention</td>\n",
       "      <td>0</td>\n",
       "    </tr>\n",
       "    <tr>\n",
       "      <th>25</th>\n",
       "      <td>183459004738</td>\n",
       "      <td>86341.71</td>\n",
       "      <td>891.09</td>\n",
       "      <td>Blue Member</td>\n",
       "      <td>26</td>\n",
       "      <td>60</td>\n",
       "      <td>86341.71</td>\n",
       "      <td>4</td>\n",
       "      <td>3</td>\n",
       "      <td>4</td>\n",
       "      <td>434</td>\n",
       "      <td>11.0</td>\n",
       "      <td>Champions</td>\n",
       "      <td>1</td>\n",
       "    </tr>\n",
       "    <tr>\n",
       "      <th>26</th>\n",
       "      <td>183460634074</td>\n",
       "      <td>313.00</td>\n",
       "      <td>3.13</td>\n",
       "      <td>Blue Member</td>\n",
       "      <td>99</td>\n",
       "      <td>1</td>\n",
       "      <td>313.00</td>\n",
       "      <td>4</td>\n",
       "      <td>1</td>\n",
       "      <td>1</td>\n",
       "      <td>411</td>\n",
       "      <td>6.0</td>\n",
       "      <td>Potential</td>\n",
       "      <td>2</td>\n",
       "    </tr>\n",
       "    <tr>\n",
       "      <th>27</th>\n",
       "      <td>183461018028</td>\n",
       "      <td>2500.00</td>\n",
       "      <td>50.00</td>\n",
       "      <td>Blue Member</td>\n",
       "      <td>8</td>\n",
       "      <td>1</td>\n",
       "      <td>2500.00</td>\n",
       "      <td>4</td>\n",
       "      <td>1</td>\n",
       "      <td>1</td>\n",
       "      <td>411</td>\n",
       "      <td>6.0</td>\n",
       "      <td>Potential</td>\n",
       "      <td>2</td>\n",
       "    </tr>\n",
       "    <tr>\n",
       "      <th>28</th>\n",
       "      <td>183461416014</td>\n",
       "      <td>451168.09</td>\n",
       "      <td>4960.55</td>\n",
       "      <td>Silver Member</td>\n",
       "      <td>19</td>\n",
       "      <td>166</td>\n",
       "      <td>451168.09</td>\n",
       "      <td>4</td>\n",
       "      <td>4</td>\n",
       "      <td>4</td>\n",
       "      <td>444</td>\n",
       "      <td>12.0</td>\n",
       "      <td>Champions</td>\n",
       "      <td>1</td>\n",
       "    </tr>\n",
       "    <tr>\n",
       "      <th>29</th>\n",
       "      <td>183462452931</td>\n",
       "      <td>5000.00</td>\n",
       "      <td>50.00</td>\n",
       "      <td>Blue Member</td>\n",
       "      <td>610</td>\n",
       "      <td>1</td>\n",
       "      <td>5000.00</td>\n",
       "      <td>2</td>\n",
       "      <td>1</td>\n",
       "      <td>1</td>\n",
       "      <td>211</td>\n",
       "      <td>4.0</td>\n",
       "      <td>Needs Attention</td>\n",
       "      <td>0</td>\n",
       "    </tr>\n",
       "    <tr>\n",
       "      <th>...</th>\n",
       "      <td>...</td>\n",
       "      <td>...</td>\n",
       "      <td>...</td>\n",
       "      <td>...</td>\n",
       "      <td>...</td>\n",
       "      <td>...</td>\n",
       "      <td>...</td>\n",
       "      <td>...</td>\n",
       "      <td>...</td>\n",
       "      <td>...</td>\n",
       "      <td>...</td>\n",
       "      <td>...</td>\n",
       "      <td>...</td>\n",
       "      <td>...</td>\n",
       "    </tr>\n",
       "    <tr>\n",
       "      <th>13147</th>\n",
       "      <td>261178892787</td>\n",
       "      <td>5000.00</td>\n",
       "      <td>50.00</td>\n",
       "      <td>Blue Member</td>\n",
       "      <td>797</td>\n",
       "      <td>1</td>\n",
       "      <td>5000.00</td>\n",
       "      <td>2</td>\n",
       "      <td>1</td>\n",
       "      <td>1</td>\n",
       "      <td>211</td>\n",
       "      <td>4.0</td>\n",
       "      <td>Needs Attention</td>\n",
       "      <td>0</td>\n",
       "    </tr>\n",
       "    <tr>\n",
       "      <th>13148</th>\n",
       "      <td>261181024002</td>\n",
       "      <td>4345.00</td>\n",
       "      <td>43.45</td>\n",
       "      <td>Blue Member</td>\n",
       "      <td>357</td>\n",
       "      <td>4</td>\n",
       "      <td>4345.00</td>\n",
       "      <td>3</td>\n",
       "      <td>2</td>\n",
       "      <td>1</td>\n",
       "      <td>321</td>\n",
       "      <td>6.0</td>\n",
       "      <td>Potential</td>\n",
       "      <td>0</td>\n",
       "    </tr>\n",
       "    <tr>\n",
       "      <th>13149</th>\n",
       "      <td>261183425976</td>\n",
       "      <td>5000.00</td>\n",
       "      <td>50.00</td>\n",
       "      <td>Blue Member</td>\n",
       "      <td>718</td>\n",
       "      <td>1</td>\n",
       "      <td>5000.00</td>\n",
       "      <td>2</td>\n",
       "      <td>1</td>\n",
       "      <td>1</td>\n",
       "      <td>211</td>\n",
       "      <td>4.0</td>\n",
       "      <td>Needs Attention</td>\n",
       "      <td>0</td>\n",
       "    </tr>\n",
       "    <tr>\n",
       "      <th>13150</th>\n",
       "      <td>261183934257</td>\n",
       "      <td>5000.00</td>\n",
       "      <td>50.00</td>\n",
       "      <td>Blue Member</td>\n",
       "      <td>769</td>\n",
       "      <td>1</td>\n",
       "      <td>5000.00</td>\n",
       "      <td>2</td>\n",
       "      <td>1</td>\n",
       "      <td>1</td>\n",
       "      <td>211</td>\n",
       "      <td>4.0</td>\n",
       "      <td>Needs Attention</td>\n",
       "      <td>0</td>\n",
       "    </tr>\n",
       "    <tr>\n",
       "      <th>13151</th>\n",
       "      <td>261184420667</td>\n",
       "      <td>5000.00</td>\n",
       "      <td>50.00</td>\n",
       "      <td>Blue Member</td>\n",
       "      <td>652</td>\n",
       "      <td>1</td>\n",
       "      <td>5000.00</td>\n",
       "      <td>2</td>\n",
       "      <td>1</td>\n",
       "      <td>1</td>\n",
       "      <td>211</td>\n",
       "      <td>4.0</td>\n",
       "      <td>Needs Attention</td>\n",
       "      <td>0</td>\n",
       "    </tr>\n",
       "    <tr>\n",
       "      <th>13152</th>\n",
       "      <td>261189906164</td>\n",
       "      <td>5000.00</td>\n",
       "      <td>50.00</td>\n",
       "      <td>Blue Member</td>\n",
       "      <td>837</td>\n",
       "      <td>1</td>\n",
       "      <td>5000.00</td>\n",
       "      <td>2</td>\n",
       "      <td>1</td>\n",
       "      <td>1</td>\n",
       "      <td>211</td>\n",
       "      <td>4.0</td>\n",
       "      <td>Needs Attention</td>\n",
       "      <td>0</td>\n",
       "    </tr>\n",
       "    <tr>\n",
       "      <th>13153</th>\n",
       "      <td>261190459206</td>\n",
       "      <td>5000.00</td>\n",
       "      <td>50.00</td>\n",
       "      <td>Blue Member</td>\n",
       "      <td>778</td>\n",
       "      <td>1</td>\n",
       "      <td>5000.00</td>\n",
       "      <td>2</td>\n",
       "      <td>1</td>\n",
       "      <td>1</td>\n",
       "      <td>211</td>\n",
       "      <td>4.0</td>\n",
       "      <td>Needs Attention</td>\n",
       "      <td>0</td>\n",
       "    </tr>\n",
       "    <tr>\n",
       "      <th>13154</th>\n",
       "      <td>261192568080</td>\n",
       "      <td>5000.00</td>\n",
       "      <td>50.00</td>\n",
       "      <td>Blue Member</td>\n",
       "      <td>662</td>\n",
       "      <td>1</td>\n",
       "      <td>5000.00</td>\n",
       "      <td>2</td>\n",
       "      <td>1</td>\n",
       "      <td>1</td>\n",
       "      <td>211</td>\n",
       "      <td>4.0</td>\n",
       "      <td>Needs Attention</td>\n",
       "      <td>0</td>\n",
       "    </tr>\n",
       "    <tr>\n",
       "      <th>13155</th>\n",
       "      <td>261193677376</td>\n",
       "      <td>5000.00</td>\n",
       "      <td>50.00</td>\n",
       "      <td>Blue Member</td>\n",
       "      <td>727</td>\n",
       "      <td>1</td>\n",
       "      <td>5000.00</td>\n",
       "      <td>2</td>\n",
       "      <td>1</td>\n",
       "      <td>1</td>\n",
       "      <td>211</td>\n",
       "      <td>4.0</td>\n",
       "      <td>Needs Attention</td>\n",
       "      <td>0</td>\n",
       "    </tr>\n",
       "    <tr>\n",
       "      <th>13156</th>\n",
       "      <td>261193823861</td>\n",
       "      <td>5000.00</td>\n",
       "      <td>50.00</td>\n",
       "      <td>Blue Member</td>\n",
       "      <td>778</td>\n",
       "      <td>1</td>\n",
       "      <td>5000.00</td>\n",
       "      <td>2</td>\n",
       "      <td>1</td>\n",
       "      <td>1</td>\n",
       "      <td>211</td>\n",
       "      <td>4.0</td>\n",
       "      <td>Needs Attention</td>\n",
       "      <td>0</td>\n",
       "    </tr>\n",
       "    <tr>\n",
       "      <th>13157</th>\n",
       "      <td>261243485337</td>\n",
       "      <td>5000.00</td>\n",
       "      <td>50.00</td>\n",
       "      <td>Blue Member</td>\n",
       "      <td>669</td>\n",
       "      <td>1</td>\n",
       "      <td>5000.00</td>\n",
       "      <td>2</td>\n",
       "      <td>1</td>\n",
       "      <td>1</td>\n",
       "      <td>211</td>\n",
       "      <td>4.0</td>\n",
       "      <td>Needs Attention</td>\n",
       "      <td>0</td>\n",
       "    </tr>\n",
       "    <tr>\n",
       "      <th>13158</th>\n",
       "      <td>261247793077</td>\n",
       "      <td>1248.00</td>\n",
       "      <td>12.48</td>\n",
       "      <td>Blue Member</td>\n",
       "      <td>83</td>\n",
       "      <td>1</td>\n",
       "      <td>1248.00</td>\n",
       "      <td>4</td>\n",
       "      <td>1</td>\n",
       "      <td>1</td>\n",
       "      <td>411</td>\n",
       "      <td>6.0</td>\n",
       "      <td>Potential</td>\n",
       "      <td>2</td>\n",
       "    </tr>\n",
       "    <tr>\n",
       "      <th>13159</th>\n",
       "      <td>261249078333</td>\n",
       "      <td>3398.00</td>\n",
       "      <td>33.98</td>\n",
       "      <td>Blue Member</td>\n",
       "      <td>98</td>\n",
       "      <td>1</td>\n",
       "      <td>3398.00</td>\n",
       "      <td>4</td>\n",
       "      <td>1</td>\n",
       "      <td>1</td>\n",
       "      <td>411</td>\n",
       "      <td>6.0</td>\n",
       "      <td>Potential</td>\n",
       "      <td>2</td>\n",
       "    </tr>\n",
       "    <tr>\n",
       "      <th>13160</th>\n",
       "      <td>261255673467</td>\n",
       "      <td>1199.00</td>\n",
       "      <td>11.99</td>\n",
       "      <td>Blue Member</td>\n",
       "      <td>289</td>\n",
       "      <td>1</td>\n",
       "      <td>1199.00</td>\n",
       "      <td>3</td>\n",
       "      <td>1</td>\n",
       "      <td>1</td>\n",
       "      <td>311</td>\n",
       "      <td>5.0</td>\n",
       "      <td>Promising</td>\n",
       "      <td>2</td>\n",
       "    </tr>\n",
       "    <tr>\n",
       "      <th>13161</th>\n",
       "      <td>261261124185</td>\n",
       "      <td>18020.00</td>\n",
       "      <td>180.20</td>\n",
       "      <td>Blue Member</td>\n",
       "      <td>1776</td>\n",
       "      <td>2</td>\n",
       "      <td>18020.00</td>\n",
       "      <td>1</td>\n",
       "      <td>1</td>\n",
       "      <td>3</td>\n",
       "      <td>113</td>\n",
       "      <td>5.0</td>\n",
       "      <td>Promising</td>\n",
       "      <td>0</td>\n",
       "    </tr>\n",
       "    <tr>\n",
       "      <th>13162</th>\n",
       "      <td>261263959760</td>\n",
       "      <td>83271.00</td>\n",
       "      <td>832.71</td>\n",
       "      <td>Blue Member</td>\n",
       "      <td>418</td>\n",
       "      <td>9</td>\n",
       "      <td>83271.00</td>\n",
       "      <td>2</td>\n",
       "      <td>2</td>\n",
       "      <td>4</td>\n",
       "      <td>224</td>\n",
       "      <td>8.0</td>\n",
       "      <td>Champions</td>\n",
       "      <td>3</td>\n",
       "    </tr>\n",
       "    <tr>\n",
       "      <th>13163</th>\n",
       "      <td>261273181899</td>\n",
       "      <td>4026.00</td>\n",
       "      <td>40.26</td>\n",
       "      <td>Blue Member</td>\n",
       "      <td>240</td>\n",
       "      <td>1</td>\n",
       "      <td>4026.00</td>\n",
       "      <td>3</td>\n",
       "      <td>1</td>\n",
       "      <td>1</td>\n",
       "      <td>311</td>\n",
       "      <td>5.0</td>\n",
       "      <td>Promising</td>\n",
       "      <td>2</td>\n",
       "    </tr>\n",
       "    <tr>\n",
       "      <th>13164</th>\n",
       "      <td>261274764803</td>\n",
       "      <td>2019.00</td>\n",
       "      <td>20.19</td>\n",
       "      <td>Blue Member</td>\n",
       "      <td>279</td>\n",
       "      <td>2</td>\n",
       "      <td>2019.00</td>\n",
       "      <td>3</td>\n",
       "      <td>1</td>\n",
       "      <td>1</td>\n",
       "      <td>311</td>\n",
       "      <td>5.0</td>\n",
       "      <td>Promising</td>\n",
       "      <td>2</td>\n",
       "    </tr>\n",
       "    <tr>\n",
       "      <th>13165</th>\n",
       "      <td>261276305636</td>\n",
       "      <td>2498.00</td>\n",
       "      <td>24.98</td>\n",
       "      <td>Blue Member</td>\n",
       "      <td>266</td>\n",
       "      <td>1</td>\n",
       "      <td>2498.00</td>\n",
       "      <td>3</td>\n",
       "      <td>1</td>\n",
       "      <td>1</td>\n",
       "      <td>311</td>\n",
       "      <td>5.0</td>\n",
       "      <td>Promising</td>\n",
       "      <td>2</td>\n",
       "    </tr>\n",
       "    <tr>\n",
       "      <th>13166</th>\n",
       "      <td>261279109438</td>\n",
       "      <td>66228.00</td>\n",
       "      <td>822.34</td>\n",
       "      <td>Blue Member</td>\n",
       "      <td>35</td>\n",
       "      <td>19</td>\n",
       "      <td>66228.00</td>\n",
       "      <td>4</td>\n",
       "      <td>3</td>\n",
       "      <td>4</td>\n",
       "      <td>434</td>\n",
       "      <td>11.0</td>\n",
       "      <td>Champions</td>\n",
       "      <td>1</td>\n",
       "    </tr>\n",
       "    <tr>\n",
       "      <th>13167</th>\n",
       "      <td>261285678493</td>\n",
       "      <td>5000.00</td>\n",
       "      <td>50.00</td>\n",
       "      <td>Blue Member</td>\n",
       "      <td>827</td>\n",
       "      <td>1</td>\n",
       "      <td>5000.00</td>\n",
       "      <td>2</td>\n",
       "      <td>1</td>\n",
       "      <td>1</td>\n",
       "      <td>211</td>\n",
       "      <td>4.0</td>\n",
       "      <td>Needs Attention</td>\n",
       "      <td>0</td>\n",
       "    </tr>\n",
       "    <tr>\n",
       "      <th>13168</th>\n",
       "      <td>261286886222</td>\n",
       "      <td>3498.00</td>\n",
       "      <td>34.98</td>\n",
       "      <td>Blue Member</td>\n",
       "      <td>99</td>\n",
       "      <td>1</td>\n",
       "      <td>3498.00</td>\n",
       "      <td>4</td>\n",
       "      <td>1</td>\n",
       "      <td>1</td>\n",
       "      <td>411</td>\n",
       "      <td>6.0</td>\n",
       "      <td>Potential</td>\n",
       "      <td>2</td>\n",
       "    </tr>\n",
       "    <tr>\n",
       "      <th>13169</th>\n",
       "      <td>261292660952</td>\n",
       "      <td>113682.00</td>\n",
       "      <td>1136.82</td>\n",
       "      <td>Blue Member</td>\n",
       "      <td>866</td>\n",
       "      <td>45</td>\n",
       "      <td>113682.00</td>\n",
       "      <td>1</td>\n",
       "      <td>3</td>\n",
       "      <td>4</td>\n",
       "      <td>134</td>\n",
       "      <td>8.0</td>\n",
       "      <td>Champions</td>\n",
       "      <td>3</td>\n",
       "    </tr>\n",
       "    <tr>\n",
       "      <th>13170</th>\n",
       "      <td>261295255348</td>\n",
       "      <td>1699.00</td>\n",
       "      <td>16.99</td>\n",
       "      <td>Blue Member</td>\n",
       "      <td>105</td>\n",
       "      <td>1</td>\n",
       "      <td>1699.00</td>\n",
       "      <td>4</td>\n",
       "      <td>1</td>\n",
       "      <td>1</td>\n",
       "      <td>411</td>\n",
       "      <td>6.0</td>\n",
       "      <td>Potential</td>\n",
       "      <td>2</td>\n",
       "    </tr>\n",
       "    <tr>\n",
       "      <th>13171</th>\n",
       "      <td>261295825687</td>\n",
       "      <td>81512.00</td>\n",
       "      <td>815.34</td>\n",
       "      <td>Blue Member</td>\n",
       "      <td>25</td>\n",
       "      <td>240</td>\n",
       "      <td>81512.00</td>\n",
       "      <td>4</td>\n",
       "      <td>4</td>\n",
       "      <td>4</td>\n",
       "      <td>444</td>\n",
       "      <td>12.0</td>\n",
       "      <td>Champions</td>\n",
       "      <td>1</td>\n",
       "    </tr>\n",
       "    <tr>\n",
       "      <th>13172</th>\n",
       "      <td>261295934701</td>\n",
       "      <td>3590.00</td>\n",
       "      <td>35.90</td>\n",
       "      <td>Blue Member</td>\n",
       "      <td>1619</td>\n",
       "      <td>2</td>\n",
       "      <td>3590.00</td>\n",
       "      <td>1</td>\n",
       "      <td>1</td>\n",
       "      <td>1</td>\n",
       "      <td>111</td>\n",
       "      <td>3.0</td>\n",
       "      <td>Require Activation</td>\n",
       "      <td>0</td>\n",
       "    </tr>\n",
       "    <tr>\n",
       "      <th>13173</th>\n",
       "      <td>261296990719</td>\n",
       "      <td>9690.00</td>\n",
       "      <td>96.90</td>\n",
       "      <td>Blue Member</td>\n",
       "      <td>88</td>\n",
       "      <td>1</td>\n",
       "      <td>9690.00</td>\n",
       "      <td>4</td>\n",
       "      <td>1</td>\n",
       "      <td>3</td>\n",
       "      <td>413</td>\n",
       "      <td>8.0</td>\n",
       "      <td>Champions</td>\n",
       "      <td>2</td>\n",
       "    </tr>\n",
       "    <tr>\n",
       "      <th>13174</th>\n",
       "      <td>261297005012</td>\n",
       "      <td>116145.59</td>\n",
       "      <td>1161.46</td>\n",
       "      <td>Blue Member</td>\n",
       "      <td>40</td>\n",
       "      <td>40</td>\n",
       "      <td>116145.59</td>\n",
       "      <td>4</td>\n",
       "      <td>3</td>\n",
       "      <td>4</td>\n",
       "      <td>434</td>\n",
       "      <td>11.0</td>\n",
       "      <td>Champions</td>\n",
       "      <td>1</td>\n",
       "    </tr>\n",
       "    <tr>\n",
       "      <th>13175</th>\n",
       "      <td>261299039442</td>\n",
       "      <td>10480.00</td>\n",
       "      <td>104.80</td>\n",
       "      <td>Blue Member</td>\n",
       "      <td>345</td>\n",
       "      <td>1</td>\n",
       "      <td>10480.00</td>\n",
       "      <td>3</td>\n",
       "      <td>1</td>\n",
       "      <td>3</td>\n",
       "      <td>313</td>\n",
       "      <td>7.0</td>\n",
       "      <td>Loyal</td>\n",
       "      <td>0</td>\n",
       "    </tr>\n",
       "    <tr>\n",
       "      <th>13176</th>\n",
       "      <td>261300000320</td>\n",
       "      <td>999.00</td>\n",
       "      <td>9.99</td>\n",
       "      <td>Blue Member</td>\n",
       "      <td>94</td>\n",
       "      <td>1</td>\n",
       "      <td>999.00</td>\n",
       "      <td>4</td>\n",
       "      <td>1</td>\n",
       "      <td>1</td>\n",
       "      <td>411</td>\n",
       "      <td>6.0</td>\n",
       "      <td>Potential</td>\n",
       "      <td>2</td>\n",
       "    </tr>\n",
       "  </tbody>\n",
       "</table>\n",
       "<p>13177 rows × 14 columns</p>\n",
       "</div>"
      ],
      "text/plain": [
       "        customer_id     amount   points           tier  Recency  Frequency  \\\n",
       "0      162074559143       1.00     0.01    Blue Member       62          1   \n",
       "1      162082081317   54419.00   544.19    Blue Member      432          1   \n",
       "2      163623918706    1078.80    10.79    Blue Member       70          1   \n",
       "3      164381930905    2473.50    24.74    Blue Member       84          1   \n",
       "4      182929244726    7995.00    79.95    Blue Member       99          1   \n",
       "5      182973872100   10162.00   101.62    Blue Member      592          6   \n",
       "6      182975639455    2000.00    20.00    Blue Member       98          1   \n",
       "7      182984622165    1499.00    14.99    Blue Member      101          1   \n",
       "8      183017849518   57610.00   576.10    Blue Member      566          6   \n",
       "9      183031349112    2690.00    26.90    Blue Member       87          1   \n",
       "10     183116132731    5000.00    50.00    Blue Member      793          1   \n",
       "11     183137356457    4196.76    41.97    Blue Member       68          2   \n",
       "12     183151886305    2499.00    24.99    Blue Member       89          1   \n",
       "13     183156812855  275705.81  3051.78  Silver Member       58        164   \n",
       "14     183163865447    7998.00    79.98    Blue Member       84          1   \n",
       "15     183209613642    1700.00    17.00    Blue Member      100          1   \n",
       "16     183232290745    5000.00    50.00    Blue Member      778          1   \n",
       "17     183232843264    5000.00    50.00    Blue Member      724          1   \n",
       "18     183249238324    5000.00    50.00    Blue Member      639          1   \n",
       "19     183338820273   26979.74   507.13    Blue Member       56         20   \n",
       "20     183344572296   22655.00   226.55    Blue Member      419         10   \n",
       "21     183443804838    5387.00    53.87    Blue Member      363          6   \n",
       "22     183445630097    3100.00    31.00    Blue Member      101          1   \n",
       "23     183446550918    2397.00    23.97    Blue Member      271          1   \n",
       "24     183449612231    5000.00    50.00    Blue Member      829          1   \n",
       "25     183459004738   86341.71   891.09    Blue Member       26         60   \n",
       "26     183460634074     313.00     3.13    Blue Member       99          1   \n",
       "27     183461018028    2500.00    50.00    Blue Member        8          1   \n",
       "28     183461416014  451168.09  4960.55  Silver Member       19        166   \n",
       "29     183462452931    5000.00    50.00    Blue Member      610          1   \n",
       "...             ...        ...      ...            ...      ...        ...   \n",
       "13147  261178892787    5000.00    50.00    Blue Member      797          1   \n",
       "13148  261181024002    4345.00    43.45    Blue Member      357          4   \n",
       "13149  261183425976    5000.00    50.00    Blue Member      718          1   \n",
       "13150  261183934257    5000.00    50.00    Blue Member      769          1   \n",
       "13151  261184420667    5000.00    50.00    Blue Member      652          1   \n",
       "13152  261189906164    5000.00    50.00    Blue Member      837          1   \n",
       "13153  261190459206    5000.00    50.00    Blue Member      778          1   \n",
       "13154  261192568080    5000.00    50.00    Blue Member      662          1   \n",
       "13155  261193677376    5000.00    50.00    Blue Member      727          1   \n",
       "13156  261193823861    5000.00    50.00    Blue Member      778          1   \n",
       "13157  261243485337    5000.00    50.00    Blue Member      669          1   \n",
       "13158  261247793077    1248.00    12.48    Blue Member       83          1   \n",
       "13159  261249078333    3398.00    33.98    Blue Member       98          1   \n",
       "13160  261255673467    1199.00    11.99    Blue Member      289          1   \n",
       "13161  261261124185   18020.00   180.20    Blue Member     1776          2   \n",
       "13162  261263959760   83271.00   832.71    Blue Member      418          9   \n",
       "13163  261273181899    4026.00    40.26    Blue Member      240          1   \n",
       "13164  261274764803    2019.00    20.19    Blue Member      279          2   \n",
       "13165  261276305636    2498.00    24.98    Blue Member      266          1   \n",
       "13166  261279109438   66228.00   822.34    Blue Member       35         19   \n",
       "13167  261285678493    5000.00    50.00    Blue Member      827          1   \n",
       "13168  261286886222    3498.00    34.98    Blue Member       99          1   \n",
       "13169  261292660952  113682.00  1136.82    Blue Member      866         45   \n",
       "13170  261295255348    1699.00    16.99    Blue Member      105          1   \n",
       "13171  261295825687   81512.00   815.34    Blue Member       25        240   \n",
       "13172  261295934701    3590.00    35.90    Blue Member     1619          2   \n",
       "13173  261296990719    9690.00    96.90    Blue Member       88          1   \n",
       "13174  261297005012  116145.59  1161.46    Blue Member       40         40   \n",
       "13175  261299039442   10480.00   104.80    Blue Member      345          1   \n",
       "13176  261300000320     999.00     9.99    Blue Member       94          1   \n",
       "\n",
       "        Monetary  R  F  M  RFM  RFM_Score           RFM_Level  K_Cluster  \n",
       "0           1.00  4  1  1  411        6.0           Potential          2  \n",
       "1       54419.00  2  1  4  214        7.0               Loyal          0  \n",
       "2        1078.80  4  1  1  411        6.0           Potential          2  \n",
       "3        2473.50  4  1  1  411        6.0           Potential          2  \n",
       "4        7995.00  4  1  2  412        7.0               Loyal          2  \n",
       "5       10162.00  2  2  3  223        7.0               Loyal          0  \n",
       "6        2000.00  4  1  1  411        6.0           Potential          2  \n",
       "7        1499.00  4  1  1  411        6.0           Potential          2  \n",
       "8       57610.00  2  2  4  224        8.0           Champions          3  \n",
       "9        2690.00  4  1  1  411        6.0           Potential          2  \n",
       "10       5000.00  2  1  1  211        4.0     Needs Attention          0  \n",
       "11       4196.76  4  1  1  411        6.0           Potential          2  \n",
       "12       2499.00  4  1  1  411        6.0           Potential          2  \n",
       "13     275705.81  4  4  4  444       12.0           Champions          1  \n",
       "14       7998.00  4  1  2  412        7.0               Loyal          2  \n",
       "15       1700.00  4  1  1  411        6.0           Potential          2  \n",
       "16       5000.00  2  1  1  211        4.0     Needs Attention          0  \n",
       "17       5000.00  2  1  1  211        4.0     Needs Attention          0  \n",
       "18       5000.00  2  1  1  211        4.0     Needs Attention          0  \n",
       "19      26979.74  4  3  3  433       10.0           Champions          3  \n",
       "20      22655.00  2  2  3  223        7.0               Loyal          3  \n",
       "21       5387.00  3  2  2  322        7.0               Loyal          0  \n",
       "22       3100.00  4  1  1  411        6.0           Potential          2  \n",
       "23       2397.00  3  1  1  311        5.0           Promising          2  \n",
       "24       5000.00  2  1  1  211        4.0     Needs Attention          0  \n",
       "25      86341.71  4  3  4  434       11.0           Champions          1  \n",
       "26        313.00  4  1  1  411        6.0           Potential          2  \n",
       "27       2500.00  4  1  1  411        6.0           Potential          2  \n",
       "28     451168.09  4  4  4  444       12.0           Champions          1  \n",
       "29       5000.00  2  1  1  211        4.0     Needs Attention          0  \n",
       "...          ... .. .. ..  ...        ...                 ...        ...  \n",
       "13147    5000.00  2  1  1  211        4.0     Needs Attention          0  \n",
       "13148    4345.00  3  2  1  321        6.0           Potential          0  \n",
       "13149    5000.00  2  1  1  211        4.0     Needs Attention          0  \n",
       "13150    5000.00  2  1  1  211        4.0     Needs Attention          0  \n",
       "13151    5000.00  2  1  1  211        4.0     Needs Attention          0  \n",
       "13152    5000.00  2  1  1  211        4.0     Needs Attention          0  \n",
       "13153    5000.00  2  1  1  211        4.0     Needs Attention          0  \n",
       "13154    5000.00  2  1  1  211        4.0     Needs Attention          0  \n",
       "13155    5000.00  2  1  1  211        4.0     Needs Attention          0  \n",
       "13156    5000.00  2  1  1  211        4.0     Needs Attention          0  \n",
       "13157    5000.00  2  1  1  211        4.0     Needs Attention          0  \n",
       "13158    1248.00  4  1  1  411        6.0           Potential          2  \n",
       "13159    3398.00  4  1  1  411        6.0           Potential          2  \n",
       "13160    1199.00  3  1  1  311        5.0           Promising          2  \n",
       "13161   18020.00  1  1  3  113        5.0           Promising          0  \n",
       "13162   83271.00  2  2  4  224        8.0           Champions          3  \n",
       "13163    4026.00  3  1  1  311        5.0           Promising          2  \n",
       "13164    2019.00  3  1  1  311        5.0           Promising          2  \n",
       "13165    2498.00  3  1  1  311        5.0           Promising          2  \n",
       "13166   66228.00  4  3  4  434       11.0           Champions          1  \n",
       "13167    5000.00  2  1  1  211        4.0     Needs Attention          0  \n",
       "13168    3498.00  4  1  1  411        6.0           Potential          2  \n",
       "13169  113682.00  1  3  4  134        8.0           Champions          3  \n",
       "13170    1699.00  4  1  1  411        6.0           Potential          2  \n",
       "13171   81512.00  4  4  4  444       12.0           Champions          1  \n",
       "13172    3590.00  1  1  1  111        3.0  Require Activation          0  \n",
       "13173    9690.00  4  1  3  413        8.0           Champions          2  \n",
       "13174  116145.59  4  3  4  434       11.0           Champions          1  \n",
       "13175   10480.00  3  1  3  313        7.0               Loyal          0  \n",
       "13176     999.00  4  1  1  411        6.0           Potential          2  \n",
       "\n",
       "[13177 rows x 14 columns]"
      ]
     },
     "execution_count": 250,
     "metadata": {},
     "output_type": "execute_result"
    }
   ],
   "source": [
    "pd.merge(cust,rfm,on='customer_id') #Merging the Customer and RFM dataset"
   ]
  },
  {
   "cell_type": "markdown",
   "metadata": {},
   "source": [
    "Let's do RFM for the recent years (2 years data) (2018-2019) (20 months data)"
   ]
  },
  {
   "cell_type": "code",
   "execution_count": 275,
   "metadata": {},
   "outputs": [],
   "source": [
    "df1=df[df['Year']>2017]"
   ]
  },
  {
   "cell_type": "code",
   "execution_count": 276,
   "metadata": {},
   "outputs": [],
   "source": [
    "rfm=df1.groupby('customer_id').agg({'billing_timestamp': lambda x : (sd-x.max()).days,'customer_id':'count','amount':'sum'})"
   ]
  },
  {
   "cell_type": "code",
   "execution_count": 277,
   "metadata": {},
   "outputs": [],
   "source": [
    "rfm.columns=['Recency','Frequency','Monetary']"
   ]
  },
  {
   "cell_type": "code",
   "execution_count": 279,
   "metadata": {},
   "outputs": [
    {
     "data": {
      "text/plain": [
       "(7628, 3)"
      ]
     },
     "execution_count": 279,
     "metadata": {},
     "output_type": "execute_result"
    }
   ],
   "source": [
    "rfm.shape"
   ]
  },
  {
   "cell_type": "code",
   "execution_count": 280,
   "metadata": {},
   "outputs": [],
   "source": [
    "#Creating labels for R,F and M\n",
    "#Creating Labels for Recency and Frequency\n",
    "r_labels=range(4,0,-1)\n",
    "f_labels=range(1,5)\n",
    "#Assign these labels to four equal percentile groups\n",
    "r_groups=pd.qcut(rfm['Recency'],4,labels=r_labels)"
   ]
  },
  {
   "cell_type": "code",
   "execution_count": 281,
   "metadata": {},
   "outputs": [],
   "source": [
    "#Assigning groups to frequency\n",
    "f_groups=pd.cut(rfm['Frequency'],bins=[0,2,12,100,2542],labels=f_labels)"
   ]
  },
  {
   "cell_type": "code",
   "execution_count": 282,
   "metadata": {},
   "outputs": [],
   "source": [
    "rfm=rfm.assign(R=r_groups.values,F=f_groups.values)"
   ]
  },
  {
   "cell_type": "code",
   "execution_count": 283,
   "metadata": {},
   "outputs": [
    {
     "data": {
      "text/html": [
       "<div>\n",
       "<style scoped>\n",
       "    .dataframe tbody tr th:only-of-type {\n",
       "        vertical-align: middle;\n",
       "    }\n",
       "\n",
       "    .dataframe tbody tr th {\n",
       "        vertical-align: top;\n",
       "    }\n",
       "\n",
       "    .dataframe thead th {\n",
       "        text-align: right;\n",
       "    }\n",
       "</style>\n",
       "<table border=\"1\" class=\"dataframe\">\n",
       "  <thead>\n",
       "    <tr style=\"text-align: right;\">\n",
       "      <th></th>\n",
       "      <th>Recency</th>\n",
       "      <th>Frequency</th>\n",
       "      <th>Monetary</th>\n",
       "      <th>R</th>\n",
       "      <th>F</th>\n",
       "    </tr>\n",
       "    <tr>\n",
       "      <th>customer_id</th>\n",
       "      <th></th>\n",
       "      <th></th>\n",
       "      <th></th>\n",
       "      <th></th>\n",
       "      <th></th>\n",
       "    </tr>\n",
       "  </thead>\n",
       "  <tbody>\n",
       "    <tr>\n",
       "      <th>162074559143</th>\n",
       "      <td>62</td>\n",
       "      <td>1</td>\n",
       "      <td>1.0</td>\n",
       "      <td>4</td>\n",
       "      <td>1</td>\n",
       "    </tr>\n",
       "    <tr>\n",
       "      <th>162082081317</th>\n",
       "      <td>432</td>\n",
       "      <td>1</td>\n",
       "      <td>54419.0</td>\n",
       "      <td>1</td>\n",
       "      <td>1</td>\n",
       "    </tr>\n",
       "    <tr>\n",
       "      <th>163623918706</th>\n",
       "      <td>70</td>\n",
       "      <td>1</td>\n",
       "      <td>1078.8</td>\n",
       "      <td>4</td>\n",
       "      <td>1</td>\n",
       "    </tr>\n",
       "    <tr>\n",
       "      <th>164381930905</th>\n",
       "      <td>84</td>\n",
       "      <td>1</td>\n",
       "      <td>2473.5</td>\n",
       "      <td>3</td>\n",
       "      <td>1</td>\n",
       "    </tr>\n",
       "    <tr>\n",
       "      <th>182929244726</th>\n",
       "      <td>99</td>\n",
       "      <td>1</td>\n",
       "      <td>7995.0</td>\n",
       "      <td>3</td>\n",
       "      <td>1</td>\n",
       "    </tr>\n",
       "  </tbody>\n",
       "</table>\n",
       "</div>"
      ],
      "text/plain": [
       "              Recency  Frequency  Monetary  R  F\n",
       "customer_id                                     \n",
       "162074559143       62          1       1.0  4  1\n",
       "162082081317      432          1   54419.0  1  1\n",
       "163623918706       70          1    1078.8  4  1\n",
       "164381930905       84          1    2473.5  3  1\n",
       "182929244726       99          1    7995.0  3  1"
      ]
     },
     "execution_count": 283,
     "metadata": {},
     "output_type": "execute_result"
    }
   ],
   "source": [
    "rfm.head()"
   ]
  },
  {
   "cell_type": "code",
   "execution_count": 284,
   "metadata": {},
   "outputs": [
    {
     "data": {
      "text/html": [
       "<div>\n",
       "<style scoped>\n",
       "    .dataframe tbody tr th:only-of-type {\n",
       "        vertical-align: middle;\n",
       "    }\n",
       "\n",
       "    .dataframe tbody tr th {\n",
       "        vertical-align: top;\n",
       "    }\n",
       "\n",
       "    .dataframe thead th {\n",
       "        text-align: right;\n",
       "    }\n",
       "</style>\n",
       "<table border=\"1\" class=\"dataframe\">\n",
       "  <thead>\n",
       "    <tr style=\"text-align: right;\">\n",
       "      <th></th>\n",
       "      <th>Recency</th>\n",
       "      <th>Frequency</th>\n",
       "      <th>Monetary</th>\n",
       "      <th>R</th>\n",
       "      <th>F</th>\n",
       "      <th>M</th>\n",
       "    </tr>\n",
       "    <tr>\n",
       "      <th>customer_id</th>\n",
       "      <th></th>\n",
       "      <th></th>\n",
       "      <th></th>\n",
       "      <th></th>\n",
       "      <th></th>\n",
       "      <th></th>\n",
       "    </tr>\n",
       "  </thead>\n",
       "  <tbody>\n",
       "    <tr>\n",
       "      <th>162074559143</th>\n",
       "      <td>62</td>\n",
       "      <td>1</td>\n",
       "      <td>1.0</td>\n",
       "      <td>4</td>\n",
       "      <td>1</td>\n",
       "      <td>1</td>\n",
       "    </tr>\n",
       "    <tr>\n",
       "      <th>162082081317</th>\n",
       "      <td>432</td>\n",
       "      <td>1</td>\n",
       "      <td>54419.0</td>\n",
       "      <td>1</td>\n",
       "      <td>1</td>\n",
       "      <td>4</td>\n",
       "    </tr>\n",
       "    <tr>\n",
       "      <th>163623918706</th>\n",
       "      <td>70</td>\n",
       "      <td>1</td>\n",
       "      <td>1078.8</td>\n",
       "      <td>4</td>\n",
       "      <td>1</td>\n",
       "      <td>1</td>\n",
       "    </tr>\n",
       "    <tr>\n",
       "      <th>164381930905</th>\n",
       "      <td>84</td>\n",
       "      <td>1</td>\n",
       "      <td>2473.5</td>\n",
       "      <td>3</td>\n",
       "      <td>1</td>\n",
       "      <td>1</td>\n",
       "    </tr>\n",
       "    <tr>\n",
       "      <th>182929244726</th>\n",
       "      <td>99</td>\n",
       "      <td>1</td>\n",
       "      <td>7995.0</td>\n",
       "      <td>3</td>\n",
       "      <td>1</td>\n",
       "      <td>2</td>\n",
       "    </tr>\n",
       "  </tbody>\n",
       "</table>\n",
       "</div>"
      ],
      "text/plain": [
       "              Recency  Frequency  Monetary  R  F  M\n",
       "customer_id                                        \n",
       "162074559143       62          1       1.0  4  1  1\n",
       "162082081317      432          1   54419.0  1  1  4\n",
       "163623918706       70          1    1078.8  4  1  1\n",
       "164381930905       84          1    2473.5  3  1  1\n",
       "182929244726       99          1    7995.0  3  1  2"
      ]
     },
     "execution_count": 284,
     "metadata": {},
     "output_type": "execute_result"
    }
   ],
   "source": [
    "m_labels=range(1,5)\n",
    "m_groups=pd.qcut(rfm['Monetary'],4,labels=m_labels)\n",
    "rfm=rfm.assign(M=m_groups.values)\n",
    "rfm.head()"
   ]
  },
  {
   "cell_type": "code",
   "execution_count": 285,
   "metadata": {},
   "outputs": [],
   "source": [
    "def join(x):\n",
    "    return str(x['R']) + str(x['F']) + str(x['M'])\n",
    "rfm['RFM']=rfm.apply(join,axis=1)"
   ]
  },
  {
   "cell_type": "code",
   "execution_count": 287,
   "metadata": {},
   "outputs": [],
   "source": [
    "rfm['RFM_Score'] = rfm[['R','F','M']].sum(axis=1)"
   ]
  },
  {
   "cell_type": "code",
   "execution_count": 288,
   "metadata": {},
   "outputs": [
    {
     "data": {
      "text/html": [
       "<div>\n",
       "<style scoped>\n",
       "    .dataframe tbody tr th:only-of-type {\n",
       "        vertical-align: middle;\n",
       "    }\n",
       "\n",
       "    .dataframe tbody tr th {\n",
       "        vertical-align: top;\n",
       "    }\n",
       "\n",
       "    .dataframe thead th {\n",
       "        text-align: right;\n",
       "    }\n",
       "</style>\n",
       "<table border=\"1\" class=\"dataframe\">\n",
       "  <thead>\n",
       "    <tr style=\"text-align: right;\">\n",
       "      <th></th>\n",
       "      <th>Recency</th>\n",
       "      <th>Frequency</th>\n",
       "      <th>Monetary</th>\n",
       "      <th>R</th>\n",
       "      <th>F</th>\n",
       "      <th>M</th>\n",
       "      <th>RFM</th>\n",
       "      <th>RFM_Score</th>\n",
       "    </tr>\n",
       "    <tr>\n",
       "      <th>customer_id</th>\n",
       "      <th></th>\n",
       "      <th></th>\n",
       "      <th></th>\n",
       "      <th></th>\n",
       "      <th></th>\n",
       "      <th></th>\n",
       "      <th></th>\n",
       "      <th></th>\n",
       "    </tr>\n",
       "  </thead>\n",
       "  <tbody>\n",
       "    <tr>\n",
       "      <th>162074559143</th>\n",
       "      <td>62</td>\n",
       "      <td>1</td>\n",
       "      <td>1.0</td>\n",
       "      <td>4</td>\n",
       "      <td>1</td>\n",
       "      <td>1</td>\n",
       "      <td>411</td>\n",
       "      <td>6.0</td>\n",
       "    </tr>\n",
       "    <tr>\n",
       "      <th>162082081317</th>\n",
       "      <td>432</td>\n",
       "      <td>1</td>\n",
       "      <td>54419.0</td>\n",
       "      <td>1</td>\n",
       "      <td>1</td>\n",
       "      <td>4</td>\n",
       "      <td>114</td>\n",
       "      <td>6.0</td>\n",
       "    </tr>\n",
       "    <tr>\n",
       "      <th>163623918706</th>\n",
       "      <td>70</td>\n",
       "      <td>1</td>\n",
       "      <td>1078.8</td>\n",
       "      <td>4</td>\n",
       "      <td>1</td>\n",
       "      <td>1</td>\n",
       "      <td>411</td>\n",
       "      <td>6.0</td>\n",
       "    </tr>\n",
       "    <tr>\n",
       "      <th>164381930905</th>\n",
       "      <td>84</td>\n",
       "      <td>1</td>\n",
       "      <td>2473.5</td>\n",
       "      <td>3</td>\n",
       "      <td>1</td>\n",
       "      <td>1</td>\n",
       "      <td>311</td>\n",
       "      <td>5.0</td>\n",
       "    </tr>\n",
       "    <tr>\n",
       "      <th>182929244726</th>\n",
       "      <td>99</td>\n",
       "      <td>1</td>\n",
       "      <td>7995.0</td>\n",
       "      <td>3</td>\n",
       "      <td>1</td>\n",
       "      <td>2</td>\n",
       "      <td>312</td>\n",
       "      <td>6.0</td>\n",
       "    </tr>\n",
       "  </tbody>\n",
       "</table>\n",
       "</div>"
      ],
      "text/plain": [
       "              Recency  Frequency  Monetary  R  F  M  RFM  RFM_Score\n",
       "customer_id                                                        \n",
       "162074559143       62          1       1.0  4  1  1  411        6.0\n",
       "162082081317      432          1   54419.0  1  1  4  114        6.0\n",
       "163623918706       70          1    1078.8  4  1  1  411        6.0\n",
       "164381930905       84          1    2473.5  3  1  1  311        5.0\n",
       "182929244726       99          1    7995.0  3  1  2  312        6.0"
      ]
     },
     "execution_count": 288,
     "metadata": {},
     "output_type": "execute_result"
    }
   ],
   "source": [
    "rfm.head()"
   ]
  },
  {
   "cell_type": "code",
   "execution_count": 289,
   "metadata": {},
   "outputs": [
    {
     "data": {
      "text/html": [
       "<div>\n",
       "<style scoped>\n",
       "    .dataframe tbody tr th:only-of-type {\n",
       "        vertical-align: middle;\n",
       "    }\n",
       "\n",
       "    .dataframe tbody tr th {\n",
       "        vertical-align: top;\n",
       "    }\n",
       "\n",
       "    .dataframe thead th {\n",
       "        text-align: right;\n",
       "    }\n",
       "</style>\n",
       "<table border=\"1\" class=\"dataframe\">\n",
       "  <thead>\n",
       "    <tr style=\"text-align: right;\">\n",
       "      <th></th>\n",
       "      <th>Recency</th>\n",
       "      <th>Frequency</th>\n",
       "      <th>Monetary</th>\n",
       "      <th>R</th>\n",
       "      <th>F</th>\n",
       "      <th>M</th>\n",
       "      <th>RFM</th>\n",
       "      <th>RFM_Score</th>\n",
       "      <th>RFM_Level</th>\n",
       "    </tr>\n",
       "    <tr>\n",
       "      <th>customer_id</th>\n",
       "      <th></th>\n",
       "      <th></th>\n",
       "      <th></th>\n",
       "      <th></th>\n",
       "      <th></th>\n",
       "      <th></th>\n",
       "      <th></th>\n",
       "      <th></th>\n",
       "      <th></th>\n",
       "    </tr>\n",
       "  </thead>\n",
       "  <tbody>\n",
       "    <tr>\n",
       "      <th>162074559143</th>\n",
       "      <td>62</td>\n",
       "      <td>1</td>\n",
       "      <td>1.0</td>\n",
       "      <td>4</td>\n",
       "      <td>1</td>\n",
       "      <td>1</td>\n",
       "      <td>411</td>\n",
       "      <td>6.0</td>\n",
       "      <td>Potential</td>\n",
       "    </tr>\n",
       "    <tr>\n",
       "      <th>162082081317</th>\n",
       "      <td>432</td>\n",
       "      <td>1</td>\n",
       "      <td>54419.0</td>\n",
       "      <td>1</td>\n",
       "      <td>1</td>\n",
       "      <td>4</td>\n",
       "      <td>114</td>\n",
       "      <td>6.0</td>\n",
       "      <td>Potential</td>\n",
       "    </tr>\n",
       "    <tr>\n",
       "      <th>163623918706</th>\n",
       "      <td>70</td>\n",
       "      <td>1</td>\n",
       "      <td>1078.8</td>\n",
       "      <td>4</td>\n",
       "      <td>1</td>\n",
       "      <td>1</td>\n",
       "      <td>411</td>\n",
       "      <td>6.0</td>\n",
       "      <td>Potential</td>\n",
       "    </tr>\n",
       "    <tr>\n",
       "      <th>164381930905</th>\n",
       "      <td>84</td>\n",
       "      <td>1</td>\n",
       "      <td>2473.5</td>\n",
       "      <td>3</td>\n",
       "      <td>1</td>\n",
       "      <td>1</td>\n",
       "      <td>311</td>\n",
       "      <td>5.0</td>\n",
       "      <td>Promising</td>\n",
       "    </tr>\n",
       "    <tr>\n",
       "      <th>182929244726</th>\n",
       "      <td>99</td>\n",
       "      <td>1</td>\n",
       "      <td>7995.0</td>\n",
       "      <td>3</td>\n",
       "      <td>1</td>\n",
       "      <td>2</td>\n",
       "      <td>312</td>\n",
       "      <td>6.0</td>\n",
       "      <td>Potential</td>\n",
       "    </tr>\n",
       "  </tbody>\n",
       "</table>\n",
       "</div>"
      ],
      "text/plain": [
       "              Recency  Frequency  Monetary  R  F  M  RFM  RFM_Score  RFM_Level\n",
       "customer_id                                                                   \n",
       "162074559143       62          1       1.0  4  1  1  411        6.0  Potential\n",
       "162082081317      432          1   54419.0  1  1  4  114        6.0  Potential\n",
       "163623918706       70          1    1078.8  4  1  1  411        6.0  Potential\n",
       "164381930905       84          1    2473.5  3  1  1  311        5.0  Promising\n",
       "182929244726       99          1    7995.0  3  1  2  312        6.0  Potential"
      ]
     },
     "execution_count": 289,
     "metadata": {},
     "output_type": "execute_result"
    }
   ],
   "source": [
    "# Define rfm_level function\n",
    "def rfm_level(df):\n",
    "    if df['RFM_Score'] >= 8:\n",
    "        return 'Champions'\n",
    "    elif ((df['RFM_Score'] >= 7) and (df['RFM_Score'] < 8)):\n",
    "        return 'Loyal'\n",
    "    elif ((df['RFM_Score'] >= 6) and (df['RFM_Score'] < 7)):\n",
    "        return 'Potential'\n",
    "    elif ((df['RFM_Score'] >= 5) and (df['RFM_Score'] < 6)):\n",
    "        return 'Promising'\n",
    "    elif ((df['RFM_Score'] >= 4) and (df['RFM_Score'] < 5)):\n",
    "        return 'Needs Attention'\n",
    "    else:\n",
    "        return 'Require Activation'# Create a new variable RFM_Level\n",
    "rfm['RFM_Level'] = rfm.apply(rfm_level, axis=1)# Print the header with top 5 rows to the console\n",
    "rfm.head()"
   ]
  },
  {
   "cell_type": "code",
   "execution_count": 291,
   "metadata": {},
   "outputs": [
    {
     "data": {
      "text/html": [
       "<div>\n",
       "<style scoped>\n",
       "    .dataframe tbody tr th:only-of-type {\n",
       "        vertical-align: middle;\n",
       "    }\n",
       "\n",
       "    .dataframe tbody tr th {\n",
       "        vertical-align: top;\n",
       "    }\n",
       "\n",
       "    .dataframe thead tr th {\n",
       "        text-align: left;\n",
       "    }\n",
       "\n",
       "    .dataframe thead tr:last-of-type th {\n",
       "        text-align: right;\n",
       "    }\n",
       "</style>\n",
       "<table border=\"1\" class=\"dataframe\">\n",
       "  <thead>\n",
       "    <tr>\n",
       "      <th></th>\n",
       "      <th>Recency</th>\n",
       "      <th>Frequency</th>\n",
       "      <th colspan=\"2\" halign=\"left\">Monetary</th>\n",
       "    </tr>\n",
       "    <tr>\n",
       "      <th></th>\n",
       "      <th>mean</th>\n",
       "      <th>mean</th>\n",
       "      <th>mean</th>\n",
       "      <th>count</th>\n",
       "    </tr>\n",
       "    <tr>\n",
       "      <th>RFM_Level</th>\n",
       "      <th></th>\n",
       "      <th></th>\n",
       "      <th></th>\n",
       "      <th></th>\n",
       "    </tr>\n",
       "  </thead>\n",
       "  <tbody>\n",
       "    <tr>\n",
       "      <th>Champions</th>\n",
       "      <td>93.799467</td>\n",
       "      <td>48.761416</td>\n",
       "      <td>155256.999075</td>\n",
       "      <td>2628</td>\n",
       "    </tr>\n",
       "    <tr>\n",
       "      <th>Loyal</th>\n",
       "      <td>207.043597</td>\n",
       "      <td>6.006812</td>\n",
       "      <td>26098.532793</td>\n",
       "      <td>734</td>\n",
       "    </tr>\n",
       "    <tr>\n",
       "      <th>Needs Attention</th>\n",
       "      <td>335.034483</td>\n",
       "      <td>1.329689</td>\n",
       "      <td>3660.710118</td>\n",
       "      <td>1189</td>\n",
       "    </tr>\n",
       "    <tr>\n",
       "      <th>Potential</th>\n",
       "      <td>238.040683</td>\n",
       "      <td>3.139138</td>\n",
       "      <td>13315.755460</td>\n",
       "      <td>1229</td>\n",
       "    </tr>\n",
       "    <tr>\n",
       "      <th>Promising</th>\n",
       "      <td>240.983646</td>\n",
       "      <td>1.774682</td>\n",
       "      <td>5407.477002</td>\n",
       "      <td>1651</td>\n",
       "    </tr>\n",
       "    <tr>\n",
       "      <th>Require Activation</th>\n",
       "      <td>447.756345</td>\n",
       "      <td>1.324873</td>\n",
       "      <td>1545.507310</td>\n",
       "      <td>197</td>\n",
       "    </tr>\n",
       "  </tbody>\n",
       "</table>\n",
       "</div>"
      ],
      "text/plain": [
       "                       Recency  Frequency       Monetary      \n",
       "                          mean       mean           mean count\n",
       "RFM_Level                                                     \n",
       "Champions            93.799467  48.761416  155256.999075  2628\n",
       "Loyal               207.043597   6.006812   26098.532793   734\n",
       "Needs Attention     335.034483   1.329689    3660.710118  1189\n",
       "Potential           238.040683   3.139138   13315.755460  1229\n",
       "Promising           240.983646   1.774682    5407.477002  1651\n",
       "Require Activation  447.756345   1.324873    1545.507310   197"
      ]
     },
     "execution_count": 291,
     "metadata": {},
     "output_type": "execute_result"
    }
   ],
   "source": [
    "rfm.groupby('RFM_Level').agg({\n",
    "    'Recency': ['mean'],\n",
    "    'Frequency': ['mean'],\n",
    "    'Monetary': ['mean', 'count']\n",
    "})"
   ]
  },
  {
   "cell_type": "code",
   "execution_count": 292,
   "metadata": {},
   "outputs": [],
   "source": [
    "rfm_c=rfm[['Recency','Frequency','Monetary']]"
   ]
  },
  {
   "cell_type": "code",
   "execution_count": 293,
   "metadata": {},
   "outputs": [],
   "source": [
    "#Scaling the data to apply k-means clustering\n",
    "#applying log to the skewed data.\n",
    "def neg_to_zero(x): #Neglecting zeros to take log\n",
    "    if x<=0:\n",
    "        return 1\n",
    "    else:\n",
    "        return x\n",
    "rfm['Recency'] = [neg_to_zero(x) for x in rfm.Recency]\n",
    "rfm['Monetary'] = [neg_to_zero(x) for x in rfm.Monetary]"
   ]
  },
  {
   "cell_type": "code",
   "execution_count": 294,
   "metadata": {},
   "outputs": [],
   "source": [
    "rfm_log=rfm_c.apply(np.log , axis=1).round(3)\n",
    "scaler=preprocessing.StandardScaler()\n",
    "rfm_scaled=scaler.fit_transform(rfm_log)\n",
    "rfm_scaled = pd.DataFrame(rfm_scaled, index = rfm.index, columns = rfm_log.columns)"
   ]
  },
  {
   "cell_type": "code",
   "execution_count": 295,
   "metadata": {},
   "outputs": [
    {
     "data": {
      "image/png": "[encoded data removed]",
      "text/plain": [
       "<Figure size 432x288 with 1 Axes>"
      ]
     },
     "metadata": {
      "needs_background": "light"
     },
     "output_type": "display_data"
    }
   ],
   "source": [
    "#The elbow method to choose the number of clusters\n",
    "from sklearn.cluster import KMeans\n",
    "wss={}\n",
    "for k in range(1,11):\n",
    "    kmeans=KMeans(n_clusters=k,init='k-means++', max_iter=300)\n",
    "    kmeans.fit(rfm_scaled)\n",
    "    wss[k]=kmeans.inertia_\n",
    "#plot the wss values\n",
    "sns.pointplot(x = list(wss.keys()), y = list(wss.values()))\n",
    "plt.xlabel('K Numbers',color='r')\n",
    "plt.ylabel('WCSS',color='r')\n",
    "plt.show()"
   ]
  },
  {
   "cell_type": "code",
   "execution_count": 324,
   "metadata": {},
   "outputs": [
    {
     "data": {
      "text/html": [
       "<div>\n",
       "<style scoped>\n",
       "    .dataframe tbody tr th:only-of-type {\n",
       "        vertical-align: middle;\n",
       "    }\n",
       "\n",
       "    .dataframe tbody tr th {\n",
       "        vertical-align: top;\n",
       "    }\n",
       "\n",
       "    .dataframe thead th {\n",
       "        text-align: right;\n",
       "    }\n",
       "</style>\n",
       "<table border=\"1\" class=\"dataframe\">\n",
       "  <thead>\n",
       "    <tr style=\"text-align: right;\">\n",
       "      <th></th>\n",
       "      <th>Recency</th>\n",
       "      <th>Frequency</th>\n",
       "      <th>Monetary</th>\n",
       "      <th>R</th>\n",
       "      <th>F</th>\n",
       "      <th>M</th>\n",
       "      <th>RFM</th>\n",
       "      <th>RFM_Score</th>\n",
       "      <th>RFM_Level</th>\n",
       "      <th>K_Cluster</th>\n",
       "    </tr>\n",
       "    <tr>\n",
       "      <th>customer_id</th>\n",
       "      <th></th>\n",
       "      <th></th>\n",
       "      <th></th>\n",
       "      <th></th>\n",
       "      <th></th>\n",
       "      <th></th>\n",
       "      <th></th>\n",
       "      <th></th>\n",
       "      <th></th>\n",
       "      <th></th>\n",
       "    </tr>\n",
       "  </thead>\n",
       "  <tbody>\n",
       "    <tr>\n",
       "      <th>162074559143</th>\n",
       "      <td>62</td>\n",
       "      <td>1</td>\n",
       "      <td>1.0</td>\n",
       "      <td>4</td>\n",
       "      <td>1</td>\n",
       "      <td>1</td>\n",
       "      <td>411</td>\n",
       "      <td>6.0</td>\n",
       "      <td>Potential</td>\n",
       "      <td>0</td>\n",
       "    </tr>\n",
       "    <tr>\n",
       "      <th>162082081317</th>\n",
       "      <td>432</td>\n",
       "      <td>1</td>\n",
       "      <td>54419.0</td>\n",
       "      <td>1</td>\n",
       "      <td>1</td>\n",
       "      <td>4</td>\n",
       "      <td>114</td>\n",
       "      <td>6.0</td>\n",
       "      <td>Potential</td>\n",
       "      <td>1</td>\n",
       "    </tr>\n",
       "    <tr>\n",
       "      <th>163623918706</th>\n",
       "      <td>70</td>\n",
       "      <td>1</td>\n",
       "      <td>1078.8</td>\n",
       "      <td>4</td>\n",
       "      <td>1</td>\n",
       "      <td>1</td>\n",
       "      <td>411</td>\n",
       "      <td>6.0</td>\n",
       "      <td>Potential</td>\n",
       "      <td>0</td>\n",
       "    </tr>\n",
       "    <tr>\n",
       "      <th>164381930905</th>\n",
       "      <td>84</td>\n",
       "      <td>1</td>\n",
       "      <td>2473.5</td>\n",
       "      <td>3</td>\n",
       "      <td>1</td>\n",
       "      <td>1</td>\n",
       "      <td>311</td>\n",
       "      <td>5.0</td>\n",
       "      <td>Promising</td>\n",
       "      <td>0</td>\n",
       "    </tr>\n",
       "    <tr>\n",
       "      <th>182929244726</th>\n",
       "      <td>99</td>\n",
       "      <td>1</td>\n",
       "      <td>7995.0</td>\n",
       "      <td>3</td>\n",
       "      <td>1</td>\n",
       "      <td>2</td>\n",
       "      <td>312</td>\n",
       "      <td>6.0</td>\n",
       "      <td>Potential</td>\n",
       "      <td>0</td>\n",
       "    </tr>\n",
       "  </tbody>\n",
       "</table>\n",
       "</div>"
      ],
      "text/plain": [
       "              Recency  Frequency  Monetary  R  F  M  RFM  RFM_Score  \\\n",
       "customer_id                                                           \n",
       "162074559143       62          1       1.0  4  1  1  411        6.0   \n",
       "162082081317      432          1   54419.0  1  1  4  114        6.0   \n",
       "163623918706       70          1    1078.8  4  1  1  411        6.0   \n",
       "164381930905       84          1    2473.5  3  1  1  311        5.0   \n",
       "182929244726       99          1    7995.0  3  1  2  312        6.0   \n",
       "\n",
       "              RFM_Level  K_Cluster  \n",
       "customer_id                         \n",
       "162074559143  Potential          0  \n",
       "162082081317  Potential          1  \n",
       "163623918706  Potential          0  \n",
       "164381930905  Promising          0  \n",
       "182929244726  Potential          0  "
      ]
     },
     "execution_count": 324,
     "metadata": {},
     "output_type": "execute_result"
    }
   ],
   "source": [
    "#Choosing the optimum number of cluster to be 4\n",
    "# clustering\n",
    "clus = KMeans(n_clusters= 3, init= 'k-means++', max_iter= 300)\n",
    "clus.fit(rfm_scaled)# Assign the clusters to datamart\n",
    "rfm['K_Cluster'] = clus.labels_\n",
    "rfm.head()"
   ]
  },
  {
   "cell_type": "code",
   "execution_count": 325,
   "metadata": {},
   "outputs": [],
   "source": [
    "final=pd.merge(cust,rfm,on='customer_id')"
   ]
  },
  {
   "cell_type": "code",
   "execution_count": 326,
   "metadata": {},
   "outputs": [
    {
     "data": {
      "text/html": [
       "<div>\n",
       "<style scoped>\n",
       "    .dataframe tbody tr th:only-of-type {\n",
       "        vertical-align: middle;\n",
       "    }\n",
       "\n",
       "    .dataframe tbody tr th {\n",
       "        vertical-align: top;\n",
       "    }\n",
       "\n",
       "    .dataframe thead th {\n",
       "        text-align: right;\n",
       "    }\n",
       "</style>\n",
       "<table border=\"1\" class=\"dataframe\">\n",
       "  <thead>\n",
       "    <tr style=\"text-align: right;\">\n",
       "      <th></th>\n",
       "      <th>customer_id</th>\n",
       "      <th>amount</th>\n",
       "      <th>points</th>\n",
       "      <th>tier</th>\n",
       "      <th>Recency</th>\n",
       "      <th>Frequency</th>\n",
       "      <th>Monetary</th>\n",
       "      <th>R</th>\n",
       "      <th>F</th>\n",
       "      <th>M</th>\n",
       "      <th>RFM</th>\n",
       "      <th>RFM_Score</th>\n",
       "      <th>RFM_Level</th>\n",
       "      <th>K_Cluster</th>\n",
       "    </tr>\n",
       "  </thead>\n",
       "  <tbody>\n",
       "    <tr>\n",
       "      <th>0</th>\n",
       "      <td>162074559143</td>\n",
       "      <td>1.0</td>\n",
       "      <td>0.01</td>\n",
       "      <td>Blue Member</td>\n",
       "      <td>62</td>\n",
       "      <td>1</td>\n",
       "      <td>1.0</td>\n",
       "      <td>4</td>\n",
       "      <td>1</td>\n",
       "      <td>1</td>\n",
       "      <td>411</td>\n",
       "      <td>6.0</td>\n",
       "      <td>Potential</td>\n",
       "      <td>0</td>\n",
       "    </tr>\n",
       "    <tr>\n",
       "      <th>1</th>\n",
       "      <td>162082081317</td>\n",
       "      <td>54419.0</td>\n",
       "      <td>544.19</td>\n",
       "      <td>Blue Member</td>\n",
       "      <td>432</td>\n",
       "      <td>1</td>\n",
       "      <td>54419.0</td>\n",
       "      <td>1</td>\n",
       "      <td>1</td>\n",
       "      <td>4</td>\n",
       "      <td>114</td>\n",
       "      <td>6.0</td>\n",
       "      <td>Potential</td>\n",
       "      <td>1</td>\n",
       "    </tr>\n",
       "    <tr>\n",
       "      <th>2</th>\n",
       "      <td>163623918706</td>\n",
       "      <td>1078.8</td>\n",
       "      <td>10.79</td>\n",
       "      <td>Blue Member</td>\n",
       "      <td>70</td>\n",
       "      <td>1</td>\n",
       "      <td>1078.8</td>\n",
       "      <td>4</td>\n",
       "      <td>1</td>\n",
       "      <td>1</td>\n",
       "      <td>411</td>\n",
       "      <td>6.0</td>\n",
       "      <td>Potential</td>\n",
       "      <td>0</td>\n",
       "    </tr>\n",
       "  </tbody>\n",
       "</table>\n",
       "</div>"
      ],
      "text/plain": [
       "    customer_id   amount  points         tier  Recency  Frequency  Monetary  \\\n",
       "0  162074559143      1.0    0.01  Blue Member       62          1       1.0   \n",
       "1  162082081317  54419.0  544.19  Blue Member      432          1   54419.0   \n",
       "2  163623918706   1078.8   10.79  Blue Member       70          1    1078.8   \n",
       "\n",
       "   R  F  M  RFM  RFM_Score  RFM_Level  K_Cluster  \n",
       "0  4  1  1  411        6.0  Potential          0  \n",
       "1  1  1  4  114        6.0  Potential          1  \n",
       "2  4  1  1  411        6.0  Potential          0  "
      ]
     },
     "execution_count": 326,
     "metadata": {},
     "output_type": "execute_result"
    }
   ],
   "source": [
    "final.head(3)"
   ]
  },
  {
   "cell_type": "code",
   "execution_count": 309,
   "metadata": {},
   "outputs": [],
   "source": [
    "final.to_excel('segment.xlsx')"
   ]
  },
  {
   "cell_type": "code",
   "execution_count": 327,
   "metadata": {},
   "outputs": [
    {
     "data": {
      "text/plain": [
       "Promising             1529\n",
       "Needs Attention       1189\n",
       "Potential              761\n",
       "Loyal                  284\n",
       "Require Activation     197\n",
       "Champions              115\n",
       "Name: RFM_Level, dtype: int64"
      ]
     },
     "execution_count": 327,
     "metadata": {},
     "output_type": "execute_result"
    }
   ],
   "source": [
    "final[final['K_Cluster']==0]['RFM_Level'].value_counts()"
   ]
  },
  {
   "cell_type": "code",
   "execution_count": 328,
   "metadata": {},
   "outputs": [
    {
     "data": {
      "text/plain": [
       "Champions    1086\n",
       "Potential     468\n",
       "Loyal         444\n",
       "Promising     122\n",
       "Name: RFM_Level, dtype: int64"
      ]
     },
     "execution_count": 328,
     "metadata": {},
     "output_type": "execute_result"
    }
   ],
   "source": [
    "final[final['K_Cluster']==1]['RFM_Level'].value_counts()"
   ]
  },
  {
   "cell_type": "code",
   "execution_count": 329,
   "metadata": {},
   "outputs": [
    {
     "data": {
      "text/plain": [
       "Champions    1427\n",
       "Loyal           6\n",
       "Name: RFM_Level, dtype: int64"
      ]
     },
     "execution_count": 329,
     "metadata": {},
     "output_type": "execute_result"
    }
   ],
   "source": [
    "final[final['K_Cluster']==2]['RFM_Level'].value_counts()"
   ]
  },
  {
   "cell_type": "code",
   "execution_count": 330,
   "metadata": {},
   "outputs": [
    {
     "data": {
      "text/plain": [
       "Series([], Name: RFM_Level, dtype: int64)"
      ]
     },
     "execution_count": 330,
     "metadata": {},
     "output_type": "execute_result"
    }
   ],
   "source": []
  },
  {
   "cell_type": "code",
   "execution_count": 321,
   "metadata": {},
   "outputs": [
    {
     "data": {
      "text/plain": [
       "434    720\n",
       "444    276\n",
       "433    137\n",
       "423     59\n",
       "424     33\n",
       "334     21\n",
       "344     14\n",
       "422      6\n",
       "432      5\n",
       "414      2\n",
       "443      2\n",
       "431      1\n",
       "Name: RFM, dtype: int64"
      ]
     },
     "execution_count": 321,
     "metadata": {},
     "output_type": "execute_result"
    }
   ],
   "source": [
    "final[final['K_Cluster']==3]['RFM'].value_counts()"
   ]
  },
  {
   "cell_type": "code",
   "execution_count": 323,
   "metadata": {},
   "outputs": [
    {
     "data": {
      "text/plain": [
       "211    640\n",
       "112    473\n",
       "212    407\n",
       "122    268\n",
       "113    216\n",
       "111    197\n",
       "123    182\n",
       "213    130\n",
       "222    114\n",
       "121     71\n",
       "223     66\n",
       "322     43\n",
       "221     37\n",
       "313     18\n",
       "312     17\n",
       "114     17\n",
       "323     15\n",
       "311     11\n",
       "321      6\n",
       "214      6\n",
       "132      1\n",
       "Name: RFM, dtype: int64"
      ]
     },
     "execution_count": 323,
     "metadata": {},
     "output_type": "execute_result"
    }
   ],
   "source": [
    "final[final['K_Cluster']==0]['RFM'].value_counts()"
   ]
  },
  {
   "cell_type": "code",
   "execution_count": null,
   "metadata": {},
   "outputs": [],
   "source": []
  }
 ],
 "metadata": {
  "kernelspec": {
   "display_name": "Python 3",
   "language": "python",
   "name": "python3"
  },
  "language_info": {
   "codemirror_mode": {
    "name": "ipython",
    "version": 3
   },
   "file_extension": ".py",
   "mimetype": "text/x-python",
   "name": "python",
   "nbconvert_exporter": "python",
   "pygments_lexer": "ipython3",
   "version": "3.7.3"
  }
 },
 "nbformat": 4,
 "nbformat_minor": 2
}
